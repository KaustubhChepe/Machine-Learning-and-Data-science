{
 "cells": [
  {
   "cell_type": "markdown",
   "metadata": {},
   "source": [
    "# Gesture Recognition\n",
    "In this group project, you are going to build a 3D Conv model that will be able to predict the 5 gestures correctly. Please import the following libraries to get started. Once you have completed the code you can download the notebook for making a submission."
   ]
  },
  {
   "cell_type": "code",
   "execution_count": 11,
   "metadata": {},
   "outputs": [],
   "source": [
    "import numpy as np\n",
    "import os\n",
    "from imageio import imread\n",
    "from skimage.transform import resize\n",
    "import datetime\n",
    "import os\n",
    "import matplotlib.pyplot as plt"
   ]
  },
  {
   "cell_type": "markdown",
   "metadata": {},
   "source": [
    "We set the random seed so that the results don't vary drastically."
   ]
  },
  {
   "cell_type": "code",
   "execution_count": 12,
   "metadata": {},
   "outputs": [],
   "source": [
    "np.random.seed(30)\n",
    "import random as rn\n",
    "rn.seed(30)\n",
    "from tensorflow import keras\n",
    "import tensorflow as tf\n",
    "tf.random.set_seed(30)"
   ]
  },
  {
   "cell_type": "markdown",
   "metadata": {},
   "source": [
    "In this block, you read the folder names for training and validation. You also set the `batch_size` here. Note that you set the batch size in such a way that you are able to use the GPU in full capacity. You keep increasing the batch size until the machine throws an error."
   ]
  },
  {
   "cell_type": "markdown",
   "metadata": {},
   "source": [
    "**data path: /home/datasets/Project_data**"
   ]
  },
  {
   "cell_type": "code",
   "execution_count": 13,
   "metadata": {},
   "outputs": [],
   "source": [
    "train_doc = np.random.permutation(open('/home/datasets/Project_data/train.csv').readlines())\n",
    "val_doc = np.random.permutation(open('/home/datasets/Project_data/val.csv').readlines())\n",
    "batch_size = 30"
   ]
  },
  {
   "cell_type": "markdown",
   "metadata": {},
   "source": [
    "## Generator\n",
    "This is one of the most important part of the code. The overall structure of the generator has been given. In the generator, you are going to preprocess the images as you have images of 2 different dimensions as well as create a batch of video frames. You have to experiment with `img_idx`, `y`,`z` and normalization such that you get high accuracy."
   ]
  },
  {
   "cell_type": "code",
   "execution_count": 14,
   "metadata": {},
   "outputs": [],
   "source": [
    "def generator(source_path, folder_list, batch_size):\n",
    "    print( 'Source path = ', source_path, '; batch size =', batch_size)\n",
    "    img_idx = np.arange(0,30,2) # choosing every alternative image\n",
    "    while True:\n",
    "        t = np.random.permutation(folder_list)\n",
    "        num_batches = len(folder_list)//batch_size # calculate the number of batches\n",
    "        for batch in range(num_batches): # we iterate over the number of batches\n",
    "            batch_data = np.zeros((batch_size,len(img_idx),120,120,3)) # x is the number of images you use for each video, (y,z) is the final size of the input images and 3 is the number of channels RGB\n",
    "            batch_labels = np.zeros((batch_size,5)) # batch_labels is the one hot representation of the output\n",
    "            for folder in range(batch_size): # iterate over the batch_size\n",
    "                imgs = os.listdir(source_path+'/'+ t[folder + (batch*batch_size)].split(';')[0]) # read all the images in the folder\n",
    "                for idx,item in enumerate(img_idx): #  Iterate iver the frames/images of a folder to read them in\n",
    "                    image = imread(source_path+'/'+ t[folder + (batch*batch_size)].strip().split(';')[0]+'/'+imgs[item]).astype(np.float32)\n",
    "                    \n",
    "                    # Crop the images and resize them. Note that the images are of 2 different shape \n",
    "                    # and the conv3D will throw error if the inputs in a batch have different shapes\n",
    "                    image = resize(image,(120,120))\n",
    "                    \n",
    "                    # Normalise and feed in the image\n",
    "                    image = image - np.percentile(image,5)/ (np.percentile(image,95) - np.percentile(image,5))\n",
    "                    \n",
    "                    batch_data[folder,idx,:,:,0] = image[:,:,0]\n",
    "                    batch_data[folder,idx,:,:,1] = image[:,:,1]\n",
    "                    batch_data[folder,idx,:,:,2] = image[:,:,2]\n",
    "                    \n",
    "                batch_labels[folder, int(t[folder + (batch*batch_size)].strip().split(';')[2])] = 1\n",
    "            yield batch_data, batch_labels #you yield the batch_data and the batch_labels, remember what does yield do\n",
    "\n",
    "        \n",
    "        # Remaining data points which are left after full batches\n",
    "        rem_image = len(folder_list)%batch_size\n",
    "        batch += 1\n",
    "        if(rem_image!=0):\n",
    "            batch_data = np.zeros((rem_image,len(img_idx),120,120,3)) # x is the number of images you use for each video, (y,z) is the final size of the input images and 3 is the number of channels RGB\n",
    "            batch_labels = np.zeros((rem_image,5)) # batch_labels is the one hot representation of the output\n",
    "            for folder in range(rem_image): # iterate over the batch_size\n",
    "                imgs = os.listdir(source_path+'/'+ t[folder + (batch*batch_size)].split(';')[0]) # read all the images in the folder\n",
    "                for idx,item in enumerate(img_idx): #  Iterate iver the frames/images of a folder to read them in\n",
    "                    image = imread(source_path+'/'+ t[folder + (batch*batch_size)].strip().split(';')[0]+'/'+imgs[item]).astype(np.float32)\n",
    "                    \n",
    "                    # Crop the images and resize them. Note that the images are of 2 different shape \n",
    "                    # and the conv3D will throw error if the inputs in a batch have different shapes\n",
    "                    image = resize(image,(120,120))\n",
    "                    \n",
    "                    # Normalise and feed in the image\n",
    "                    image = image - np.percentile(image,5)/ (np.percentile(image,95) - np.percentile(image,5))\n",
    "                    \n",
    "                    batch_data[folder,idx,:,:,0] = image[:,:,0]\n",
    "                    batch_data[folder,idx,:,:,1] = image[:,:,1]\n",
    "                    batch_data[folder,idx,:,:,2] = image[:,:,2]\n",
    "                    \n",
    "                batch_labels[folder, int(t[folder + (batch*batch_size)].strip().split(';')[2])] = 1\n",
    "            yield batch_data, batch_labels\n"
   ]
  },
  {
   "cell_type": "markdown",
   "metadata": {},
   "source": [
    "Note here that a video is represented above in the generator as (number of images, height, width, number of channels). Take this into consideration while creating the model architecture."
   ]
  },
  {
   "cell_type": "code",
   "execution_count": 15,
   "metadata": {},
   "outputs": [
    {
     "name": "stdout",
     "output_type": "stream",
     "text": [
      "# training sequences = 663\n",
      "# validation sequences = 100\n",
      "# epochs = 15\n",
      "# num classes = 5\n"
     ]
    }
   ],
   "source": [
    "curr_dt_time = datetime.datetime.now()\n",
    "train_path = '/home/datasets/Project_data/train'\n",
    "val_path = '/home/datasets/Project_data/val'\n",
    "num_train_sequences = len(train_doc)\n",
    "print('# training sequences =', num_train_sequences)\n",
    "num_val_sequences = len(val_doc)\n",
    "print('# validation sequences =', num_val_sequences)\n",
    "num_epochs = 15\n",
    "print ('# epochs =', num_epochs)\n",
    "num_classes = 5\n",
    "print ('# num classes =', num_classes)"
   ]
  },
  {
   "cell_type": "markdown",
   "metadata": {},
   "source": [
    "## Model Pre-setup\n",
    "Here you make the model using different functionalities that Keras provides. Remember to use `Conv3D` and `MaxPooling3D` and not `Conv2D` and `Maxpooling2D` for a 3D convolution model. You would want to use `TimeDistributed` while building a Conv2D + RNN model. Also remember that the last layer is the softmax. Design the network in such a way that the model is able to give good accuracy on the least number of parameters so that it can fit in the memory of the webcam."
   ]
  },
  {
   "cell_type": "code",
   "execution_count": 16,
   "metadata": {},
   "outputs": [],
   "source": [
    "# Necessary imports\n",
    "from tensorflow.keras.models import Sequential\n",
    "from tensorflow.keras.layers import Activation, BatchNormalization, Conv2D, Conv3D, Dense, Dropout, GRU, Flatten, LSTM, MaxPooling2D, MaxPooling3D, TimeDistributed\n",
    "from tensorflow.keras.callbacks import EarlyStopping, ModelCheckpoint, ReduceLROnPlateau\n",
    "from tensorflow.keras import optimizers"
   ]
  },
  {
   "cell_type": "markdown",
   "metadata": {},
   "source": [
    "Let's now try to build different models each with different variations by adding/removing layers, fine tuning parameters, modifying the structure of the network, etc. to see how each one performs."
   ]
  },
  {
   "cell_type": "code",
   "execution_count": 17,
   "metadata": {},
   "outputs": [],
   "source": [
    "# To plot model build history\n",
    "def plot(history):\n",
    "    fig, axes = plt.subplots(nrows=1, ncols=2, figsize=(15,4))\n",
    "    axes[0].plot(history.history['loss'])   \n",
    "    axes[0].plot(history.history['val_loss'])\n",
    "    axes[0].legend(['loss','val_loss'])\n",
    "\n",
    "    axes[1].plot(history.history['categorical_accuracy'])   \n",
    "    axes[1].plot(history.history['val_categorical_accuracy'])\n",
    "    axes[1].legend(['categorical_accuracy','val_categorical_accuracy'])"
   ]
  },
  {
   "cell_type": "markdown",
   "metadata": {},
   "source": [
    "Let us create the `train_generator` and the `val_generator` which will be used in `.fit_generator`."
   ]
  },
  {
   "cell_type": "code",
   "execution_count": 18,
   "metadata": {},
   "outputs": [],
   "source": [
    "train_generator = generator(train_path, train_doc, batch_size)\n",
    "val_generator = generator(val_path, val_doc, batch_size)"
   ]
  },
  {
   "cell_type": "code",
   "execution_count": 19,
   "metadata": {},
   "outputs": [],
   "source": [
    "# Initialise callbacks to re-use\n",
    "def getFilePath():\n",
    "    model_name = 'model_init' + '_' + str(curr_dt_time).replace(' ','').replace(':','_') + '/'\n",
    "    \n",
    "    if not os.path.exists(model_name):\n",
    "        os.mkdir(model_name)\n",
    "        \n",
    "    return model_name + 'model-{epoch:05d}-{loss:.5f}-{categorical_accuracy:.5f}-{val_loss:.5f}-{val_categorical_accuracy:.5f}.h5'\n",
    "\n",
    "LR = ReduceLROnPlateau(monitor='val_loss', factor=0.2, patience=5, verbose=1)\n",
    "earlystop = EarlyStopping(monitor=\"val_loss\", min_delta=0, patience=10, verbose=1)"
   ]
  },
  {
   "cell_type": "markdown",
   "metadata": {},
   "source": [
    "The `steps_per_epoch` and `validation_steps` are used by `fit` method to decide the number of next() calls it need to make."
   ]
  },
  {
   "cell_type": "code",
   "execution_count": 20,
   "metadata": {},
   "outputs": [],
   "source": [
    "if (num_train_sequences%batch_size) == 0:\n",
    "    steps_per_epoch = int(num_train_sequences/batch_size)\n",
    "else:\n",
    "    steps_per_epoch = (num_train_sequences//batch_size) + 1\n",
    "\n",
    "if (num_val_sequences%batch_size) == 0:\n",
    "    validation_steps = int(num_val_sequences/batch_size)\n",
    "else:\n",
    "    validation_steps = (num_val_sequences//batch_size) + 1"
   ]
  },
  {
   "cell_type": "markdown",
   "metadata": {},
   "source": [
    "## CNN+RNN Final Model"
   ]
  },
  {
   "cell_type": "code",
   "execution_count": 23,
   "metadata": {},
   "outputs": [
    {
     "name": "stdout",
     "output_type": "stream",
     "text": [
      "# epochs = 30\n"
     ]
    }
   ],
   "source": [
    "optimiser='sgd'\n",
    "num_epochs = 30\n",
    "print ('# epochs =', num_epochs)"
   ]
  },
  {
   "cell_type": "code",
   "execution_count": 31,
   "metadata": {},
   "outputs": [],
   "source": [
    "rnn_model = Sequential()\n",
    "\n",
    "rnn_model.add(TimeDistributed(Conv2D(16, (3, 3) , padding='same', activation='relu'),input_shape=(15, 120, 120, 3)))\n",
    "rnn_model.add(TimeDistributed(BatchNormalization()))\n",
    "rnn_model.add(TimeDistributed(MaxPooling2D((2, 2))))\n",
    "\n",
    "rnn_model.add(TimeDistributed(Conv2D(32, (3, 3) , padding='same', activation='relu')))\n",
    "rnn_model.add(TimeDistributed(BatchNormalization()))\n",
    "rnn_model.add(TimeDistributed(MaxPooling2D((2, 2))))\n",
    "\n",
    "rnn_model.add(TimeDistributed(Conv2D(64, (3, 3) , padding='same', activation='relu')))\n",
    "rnn_model.add(TimeDistributed(BatchNormalization()))\n",
    "rnn_model.add(TimeDistributed(MaxPooling2D((2, 2))))\n",
    "\n",
    "rnn_model.add(TimeDistributed(Conv2D(128, (3, 3) , padding='same', activation='relu')))\n",
    "rnn_model.add(TimeDistributed(BatchNormalization()))\n",
    "rnn_model.add(TimeDistributed(MaxPooling2D((2, 2))))\n",
    "\n",
    "rnn_model.add(TimeDistributed(Conv2D(256, (3, 3) , padding='same', activation='relu')))\n",
    "rnn_model.add(TimeDistributed(BatchNormalization()))\n",
    "rnn_model.add(TimeDistributed(MaxPooling2D((2, 2))))\n",
    "rnn_model.add(TimeDistributed(Flatten()))\n",
    "\n",
    "rnn_model.add(GRU(256))\n",
    "        \n",
    "rnn_model.add(Dense(128,activation='relu'))\n",
    "rnn_model.add(Dropout(0.5))\n",
    "\n",
    "rnn_model.add(Dense(64,activation='relu'))\n",
    "rnn_model.add(Dropout(0.25))\n",
    "rnn_model.add(Dense(num_classes, activation='softmax'))"
   ]
  },
  {
   "cell_type": "code",
   "execution_count": 32,
   "metadata": {},
   "outputs": [
    {
     "name": "stdout",
     "output_type": "stream",
     "text": [
      "Model: \"sequential_2\"\n",
      "_________________________________________________________________\n",
      "Layer (type)                 Output Shape              Param #   \n",
      "=================================================================\n",
      "time_distributed_32 (TimeDis (None, 15, 120, 120, 16)  448       \n",
      "_________________________________________________________________\n",
      "time_distributed_33 (TimeDis (None, 15, 120, 120, 16)  64        \n",
      "_________________________________________________________________\n",
      "time_distributed_34 (TimeDis (None, 15, 60, 60, 16)    0         \n",
      "_________________________________________________________________\n",
      "time_distributed_35 (TimeDis (None, 15, 60, 60, 32)    4640      \n",
      "_________________________________________________________________\n",
      "time_distributed_36 (TimeDis (None, 15, 60, 60, 32)    128       \n",
      "_________________________________________________________________\n",
      "time_distributed_37 (TimeDis (None, 15, 30, 30, 32)    0         \n",
      "_________________________________________________________________\n",
      "time_distributed_38 (TimeDis (None, 15, 30, 30, 64)    18496     \n",
      "_________________________________________________________________\n",
      "time_distributed_39 (TimeDis (None, 15, 30, 30, 64)    256       \n",
      "_________________________________________________________________\n",
      "time_distributed_40 (TimeDis (None, 15, 15, 15, 64)    0         \n",
      "_________________________________________________________________\n",
      "time_distributed_41 (TimeDis (None, 15, 15, 15, 128)   73856     \n",
      "_________________________________________________________________\n",
      "time_distributed_42 (TimeDis (None, 15, 15, 15, 128)   512       \n",
      "_________________________________________________________________\n",
      "time_distributed_43 (TimeDis (None, 15, 7, 7, 128)     0         \n",
      "_________________________________________________________________\n",
      "time_distributed_44 (TimeDis (None, 15, 7, 7, 256)     295168    \n",
      "_________________________________________________________________\n",
      "time_distributed_45 (TimeDis (None, 15, 7, 7, 256)     1024      \n",
      "_________________________________________________________________\n",
      "time_distributed_46 (TimeDis (None, 15, 3, 3, 256)     0         \n",
      "_________________________________________________________________\n",
      "time_distributed_47 (TimeDis (None, 15, 2304)          0         \n",
      "_________________________________________________________________\n",
      "gru_2 (GRU)                  (None, 256)               1967616   \n",
      "_________________________________________________________________\n",
      "dense_6 (Dense)              (None, 128)               32896     \n",
      "_________________________________________________________________\n",
      "dropout_4 (Dropout)          (None, 128)               0         \n",
      "_________________________________________________________________\n",
      "dense_7 (Dense)              (None, 64)                8256      \n",
      "_________________________________________________________________\n",
      "dropout_5 (Dropout)          (None, 64)                0         \n",
      "_________________________________________________________________\n",
      "dense_8 (Dense)              (None, 5)                 325       \n",
      "=================================================================\n",
      "Total params: 2,403,685\n",
      "Trainable params: 2,402,693\n",
      "Non-trainable params: 992\n",
      "_________________________________________________________________\n",
      "None\n"
     ]
    }
   ],
   "source": [
    "rnn_model.compile(optimizer=optimiser, loss='categorical_crossentropy', metrics=['categorical_accuracy'])\n",
    "print (rnn_model.summary())"
   ]
  },
  {
   "cell_type": "code",
   "execution_count": 33,
   "metadata": {},
   "outputs": [],
   "source": [
    "checkpoint = ModelCheckpoint(getFilePath(), monitor='val_loss', verbose=1, save_best_only=False, save_weights_only=False, mode='auto',save_freq = 'epoch')\n",
    "\n",
    "callbacks_list = [checkpoint, earlystop, LR]"
   ]
  },
  {
   "cell_type": "code",
   "execution_count": 34,
   "metadata": {},
   "outputs": [
    {
     "name": "stdout",
     "output_type": "stream",
     "text": [
      "Epoch 1/30\n",
      "23/23 [==============================] - ETA: 0s - loss: 1.6290 - categorical_accuracy: 0.2760\n",
      "Epoch 00001: saving model to model_init_2021-08-0209_27_42.715839/model-00001-1.62901-0.27602-1.97272-0.19000.h5\n",
      "23/23 [==============================] - 137s 6s/step - loss: 1.6290 - categorical_accuracy: 0.2760 - val_loss: 1.9727 - val_categorical_accuracy: 0.1900\n",
      "Epoch 2/30\n",
      "23/23 [==============================] - ETA: 0s - loss: 1.3080 - categorical_accuracy: 0.4359\n",
      "Epoch 00002: saving model to model_init_2021-08-0209_27_42.715839/model-00002-1.30799-0.43590-1.93535-0.25000.h5\n",
      "23/23 [==============================] - 138s 6s/step - loss: 1.3080 - categorical_accuracy: 0.4359 - val_loss: 1.9354 - val_categorical_accuracy: 0.2500\n",
      "Epoch 3/30\n",
      "23/23 [==============================] - ETA: 0s - loss: 1.1852 - categorical_accuracy: 0.5083\n",
      "Epoch 00003: saving model to model_init_2021-08-0209_27_42.715839/model-00003-1.18518-0.50830-1.83234-0.25000.h5\n",
      "23/23 [==============================] - 132s 6s/step - loss: 1.1852 - categorical_accuracy: 0.5083 - val_loss: 1.8323 - val_categorical_accuracy: 0.2500\n",
      "Epoch 4/30\n",
      "23/23 [==============================] - ETA: 0s - loss: 1.0613 - categorical_accuracy: 0.5897\n",
      "Epoch 00004: saving model to model_init_2021-08-0209_27_42.715839/model-00004-1.06132-0.58974-1.57236-0.30000.h5\n",
      "23/23 [==============================] - 145s 6s/step - loss: 1.0613 - categorical_accuracy: 0.5897 - val_loss: 1.5724 - val_categorical_accuracy: 0.3000\n",
      "Epoch 5/30\n",
      "23/23 [==============================] - ETA: 0s - loss: 0.9744 - categorical_accuracy: 0.6259\n",
      "Epoch 00005: saving model to model_init_2021-08-0209_27_42.715839/model-00005-0.97439-0.62594-1.20952-0.59000.h5\n",
      "23/23 [==============================] - 135s 6s/step - loss: 0.9744 - categorical_accuracy: 0.6259 - val_loss: 1.2095 - val_categorical_accuracy: 0.5900\n",
      "Epoch 6/30\n",
      "23/23 [==============================] - ETA: 0s - loss: 0.8399 - categorical_accuracy: 0.6968\n",
      "Epoch 00006: saving model to model_init_2021-08-0209_27_42.715839/model-00006-0.83993-0.69683-1.39775-0.45000.h5\n",
      "23/23 [==============================] - 136s 6s/step - loss: 0.8399 - categorical_accuracy: 0.6968 - val_loss: 1.3978 - val_categorical_accuracy: 0.4500\n",
      "Epoch 7/30\n",
      "23/23 [==============================] - ETA: 0s - loss: 0.7901 - categorical_accuracy: 0.6893\n",
      "Epoch 00007: saving model to model_init_2021-08-0209_27_42.715839/model-00007-0.79008-0.68929-1.65005-0.39000.h5\n",
      "23/23 [==============================] - 127s 6s/step - loss: 0.7901 - categorical_accuracy: 0.6893 - val_loss: 1.6500 - val_categorical_accuracy: 0.3900\n",
      "Epoch 8/30\n",
      "23/23 [==============================] - ETA: 0s - loss: 0.6835 - categorical_accuracy: 0.7632\n",
      "Epoch 00008: saving model to model_init_2021-08-0209_27_42.715839/model-00008-0.68352-0.76320-1.73587-0.31000.h5\n",
      "23/23 [==============================] - 128s 6s/step - loss: 0.6835 - categorical_accuracy: 0.7632 - val_loss: 1.7359 - val_categorical_accuracy: 0.3100\n",
      "Epoch 9/30\n",
      "23/23 [==============================] - ETA: 0s - loss: 0.6089 - categorical_accuracy: 0.7587\n",
      "Epoch 00009: saving model to model_init_2021-08-0209_27_42.715839/model-00009-0.60888-0.75867-1.36404-0.57000.h5\n",
      "23/23 [==============================] - 99s 4s/step - loss: 0.6089 - categorical_accuracy: 0.7587 - val_loss: 1.3640 - val_categorical_accuracy: 0.5700\n",
      "Epoch 10/30\n",
      "23/23 [==============================] - ETA: 0s - loss: 0.5310 - categorical_accuracy: 0.8265\n",
      "Epoch 00010: saving model to model_init_2021-08-0209_27_42.715839/model-00010-0.53104-0.82655-1.07356-0.62000.h5\n",
      "23/23 [==============================] - 93s 4s/step - loss: 0.5310 - categorical_accuracy: 0.8265 - val_loss: 1.0736 - val_categorical_accuracy: 0.6200\n",
      "Epoch 11/30\n",
      "23/23 [==============================] - ETA: 0s - loss: 0.5327 - categorical_accuracy: 0.8069\n",
      "Epoch 00011: saving model to model_init_2021-08-0209_27_42.715839/model-00011-0.53270-0.80694-0.81616-0.70000.h5\n",
      "23/23 [==============================] - 99s 4s/step - loss: 0.5327 - categorical_accuracy: 0.8069 - val_loss: 0.8162 - val_categorical_accuracy: 0.7000\n",
      "Epoch 12/30\n",
      "23/23 [==============================] - ETA: 0s - loss: 0.3667 - categorical_accuracy: 0.8824\n",
      "Epoch 00012: saving model to model_init_2021-08-0209_27_42.715839/model-00012-0.36671-0.88235-0.70915-0.73000.h5\n",
      "23/23 [==============================] - 100s 4s/step - loss: 0.3667 - categorical_accuracy: 0.8824 - val_loss: 0.7091 - val_categorical_accuracy: 0.7300\n",
      "Epoch 13/30\n",
      "23/23 [==============================] - ETA: 0s - loss: 0.3293 - categorical_accuracy: 0.8944\n",
      "Epoch 00013: saving model to model_init_2021-08-0209_27_42.715839/model-00013-0.32929-0.89442-0.66812-0.76000.h5\n",
      "23/23 [==============================] - 99s 4s/step - loss: 0.3293 - categorical_accuracy: 0.8944 - val_loss: 0.6681 - val_categorical_accuracy: 0.7600\n",
      "Epoch 14/30\n",
      "23/23 [==============================] - ETA: 0s - loss: 0.3117 - categorical_accuracy: 0.8974\n",
      "Epoch 00014: saving model to model_init_2021-08-0209_27_42.715839/model-00014-0.31171-0.89744-1.29112-0.61000.h5\n",
      "23/23 [==============================] - 94s 4s/step - loss: 0.3117 - categorical_accuracy: 0.8974 - val_loss: 1.2911 - val_categorical_accuracy: 0.6100\n",
      "Epoch 15/30\n",
      "23/23 [==============================] - ETA: 0s - loss: 0.4154 - categorical_accuracy: 0.8718\n",
      "Epoch 00015: saving model to model_init_2021-08-0209_27_42.715839/model-00015-0.41535-0.87179-0.80772-0.72000.h5\n",
      "23/23 [==============================] - 101s 4s/step - loss: 0.4154 - categorical_accuracy: 0.8718 - val_loss: 0.8077 - val_categorical_accuracy: 0.7200\n",
      "Epoch 16/30\n",
      "23/23 [==============================] - ETA: 0s - loss: 0.3155 - categorical_accuracy: 0.9020\n",
      "Epoch 00016: saving model to model_init_2021-08-0209_27_42.715839/model-00016-0.31551-0.90196-0.84252-0.69000.h5\n",
      "23/23 [==============================] - 107s 5s/step - loss: 0.3155 - categorical_accuracy: 0.9020 - val_loss: 0.8425 - val_categorical_accuracy: 0.6900\n",
      "Epoch 17/30\n",
      "23/23 [==============================] - ETA: 0s - loss: 0.2846 - categorical_accuracy: 0.8989\n",
      "Epoch 00017: saving model to model_init_2021-08-0209_27_42.715839/model-00017-0.28465-0.89894-0.71193-0.79000.h5\n",
      "23/23 [==============================] - 97s 4s/step - loss: 0.2846 - categorical_accuracy: 0.8989 - val_loss: 0.7119 - val_categorical_accuracy: 0.7900\n",
      "Epoch 18/30\n",
      "23/23 [==============================] - ETA: 0s - loss: 0.2050 - categorical_accuracy: 0.9367\n",
      "Epoch 00018: saving model to model_init_2021-08-0209_27_42.715839/model-00018-0.20500-0.93665-0.73610-0.78000.h5\n",
      "\n",
      "Epoch 00018: ReduceLROnPlateau reducing learning rate to 0.0019999999552965165.\n",
      "23/23 [==============================] - 94s 4s/step - loss: 0.2050 - categorical_accuracy: 0.9367 - val_loss: 0.7361 - val_categorical_accuracy: 0.7800\n",
      "Epoch 19/30\n",
      "23/23 [==============================] - ETA: 0s - loss: 0.1667 - categorical_accuracy: 0.9548\n",
      "Epoch 00019: saving model to model_init_2021-08-0209_27_42.715839/model-00019-0.16671-0.95475-0.65311-0.80000.h5\n",
      "23/23 [==============================] - 101s 4s/step - loss: 0.1667 - categorical_accuracy: 0.9548 - val_loss: 0.6531 - val_categorical_accuracy: 0.8000\n",
      "Epoch 20/30\n",
      "23/23 [==============================] - ETA: 0s - loss: 0.1681 - categorical_accuracy: 0.9548\n",
      "Epoch 00020: saving model to model_init_2021-08-0209_27_42.715839/model-00020-0.16810-0.95475-0.62439-0.82000.h5\n",
      "23/23 [==============================] - 103s 4s/step - loss: 0.1681 - categorical_accuracy: 0.9548 - val_loss: 0.6244 - val_categorical_accuracy: 0.8200\n",
      "Epoch 21/30\n",
      "23/23 [==============================] - ETA: 0s - loss: 0.1692 - categorical_accuracy: 0.9502\n",
      "Epoch 00021: saving model to model_init_2021-08-0209_27_42.715839/model-00021-0.16925-0.95023-0.53659-0.83000.h5\n",
      "23/23 [==============================] - 87s 4s/step - loss: 0.1692 - categorical_accuracy: 0.9502 - val_loss: 0.5366 - val_categorical_accuracy: 0.8300\n",
      "Epoch 22/30\n",
      "23/23 [==============================] - ETA: 0s - loss: 0.1446 - categorical_accuracy: 0.9623\n",
      "Epoch 00022: saving model to model_init_2021-08-0209_27_42.715839/model-00022-0.14463-0.96229-0.66912-0.82000.h5\n",
      "23/23 [==============================] - 83s 4s/step - loss: 0.1446 - categorical_accuracy: 0.9623 - val_loss: 0.6691 - val_categorical_accuracy: 0.8200\n",
      "Epoch 23/30\n",
      "23/23 [==============================] - ETA: 0s - loss: 0.1305 - categorical_accuracy: 0.9729\n",
      "Epoch 00023: saving model to model_init_2021-08-0209_27_42.715839/model-00023-0.13053-0.97285-0.66018-0.81000.h5\n",
      "23/23 [==============================] - 86s 4s/step - loss: 0.1305 - categorical_accuracy: 0.9729 - val_loss: 0.6602 - val_categorical_accuracy: 0.8100\n",
      "Epoch 24/30\n",
      "23/23 [==============================] - ETA: 0s - loss: 0.1426 - categorical_accuracy: 0.9608\n",
      "Epoch 00024: saving model to model_init_2021-08-0209_27_42.715839/model-00024-0.14263-0.96078-0.65131-0.82000.h5\n",
      "23/23 [==============================] - 87s 4s/step - loss: 0.1426 - categorical_accuracy: 0.9608 - val_loss: 0.6513 - val_categorical_accuracy: 0.8200\n",
      "Epoch 25/30\n",
      "23/23 [==============================] - ETA: 0s - loss: 0.1199 - categorical_accuracy: 0.9653\n",
      "Epoch 00025: saving model to model_init_2021-08-0209_27_42.715839/model-00025-0.11991-0.96531-0.72027-0.79000.h5\n",
      "23/23 [==============================] - 89s 4s/step - loss: 0.1199 - categorical_accuracy: 0.9653 - val_loss: 0.7203 - val_categorical_accuracy: 0.7900\n",
      "Epoch 26/30\n",
      "23/23 [==============================] - ETA: 0s - loss: 0.1271 - categorical_accuracy: 0.9759\n",
      "Epoch 00026: saving model to model_init_2021-08-0209_27_42.715839/model-00026-0.12708-0.97587-0.61467-0.79000.h5\n",
      "\n",
      "Epoch 00026: ReduceLROnPlateau reducing learning rate to 0.0003999999724328518.\n",
      "23/23 [==============================] - 85s 4s/step - loss: 0.1271 - categorical_accuracy: 0.9759 - val_loss: 0.6147 - val_categorical_accuracy: 0.7900\n",
      "Epoch 27/30\n",
      "23/23 [==============================] - ETA: 0s - loss: 0.1115 - categorical_accuracy: 0.9789\n",
      "Epoch 00027: saving model to model_init_2021-08-0209_27_42.715839/model-00027-0.11154-0.97888-0.62410-0.78000.h5\n",
      "23/23 [==============================] - 89s 4s/step - loss: 0.1115 - categorical_accuracy: 0.9789 - val_loss: 0.6241 - val_categorical_accuracy: 0.7800\n",
      "Epoch 28/30\n",
      "23/23 [==============================] - ETA: 0s - loss: 0.1412 - categorical_accuracy: 0.9623\n",
      "Epoch 00028: saving model to model_init_2021-08-0209_27_42.715839/model-00028-0.14119-0.96229-0.64964-0.76000.h5\n",
      "23/23 [==============================] - 89s 4s/step - loss: 0.1412 - categorical_accuracy: 0.9623 - val_loss: 0.6496 - val_categorical_accuracy: 0.7600\n",
      "Epoch 29/30\n",
      "23/23 [==============================] - ETA: 0s - loss: 0.1071 - categorical_accuracy: 0.9804\n",
      "Epoch 00029: saving model to model_init_2021-08-0209_27_42.715839/model-00029-0.10713-0.98039-0.71571-0.75000.h5\n",
      "23/23 [==============================] - 89s 4s/step - loss: 0.1071 - categorical_accuracy: 0.9804 - val_loss: 0.7157 - val_categorical_accuracy: 0.7500\n",
      "Epoch 30/30\n",
      "23/23 [==============================] - ETA: 0s - loss: 0.1004 - categorical_accuracy: 0.9774\n",
      "Epoch 00030: saving model to model_init_2021-08-0209_27_42.715839/model-00030-0.10035-0.97738-0.59200-0.81000.h5\n",
      "23/23 [==============================] - 88s 4s/step - loss: 0.1004 - categorical_accuracy: 0.9774 - val_loss: 0.5920 - val_categorical_accuracy: 0.8100\n"
     ]
    }
   ],
   "source": [
    "history_rnn = rnn_model.fit(train_generator, steps_per_epoch=steps_per_epoch, epochs=num_epochs, verbose=1, \n",
    "                    callbacks=callbacks_list, validation_data=val_generator, \n",
    "                    validation_steps=validation_steps, class_weight=None, workers=1, initial_epoch=0)"
   ]
  },
  {
   "cell_type": "code",
   "execution_count": 35,
   "metadata": {},
   "outputs": [
    {
     "data": {
      "image/png": "[encoded data removed]",
      "text/plain": [
       "<Figure size 1080x288 with 2 Axes>"
      ]
     },
     "metadata": {
      "needs_background": "light"
     },
     "output_type": "display_data"
    }
   ],
   "source": [
    "plot(history_rnn)"
   ]
  },
  {
   "cell_type": "markdown",
   "metadata": {},
   "source": [
    "## Conv3D Final Model"
   ]
  },
  {
   "cell_type": "code",
   "execution_count": 19,
   "metadata": {},
   "outputs": [],
   "source": [
    "filtersize=(3,3,3)\n",
    "dense_neurons=256\n",
    "\n",
    "conv3d_model = Sequential()\n",
    "conv3d_model.add(Conv3D(32, filtersize, padding='same',input_shape=(15,120,120,3)))\n",
    "conv3d_model.add(Activation('relu'))\n",
    "conv3d_model.add(BatchNormalization())\n",
    "\n",
    "conv3d_model.add(Conv3D(32, filtersize, padding='same',input_shape=(15,120,120,3)))\n",
    "conv3d_model.add(Activation('relu'))\n",
    "conv3d_model.add(BatchNormalization())\n",
    "\n",
    "conv3d_model.add(MaxPooling3D(pool_size=(2, 2, 2)))\n",
    "\n",
    "conv3d_model.add(Conv3D(64, filtersize, padding='same'))\n",
    "conv3d_model.add(Activation('relu'))\n",
    "conv3d_model.add(BatchNormalization())\n",
    "\n",
    "conv3d_model.add(Conv3D(64, filtersize, padding='same'))\n",
    "conv3d_model.add(Activation('relu'))\n",
    "conv3d_model.add(BatchNormalization())\n",
    "\n",
    "conv3d_model.add(Conv3D(64, filtersize, padding='same'))\n",
    "conv3d_model.add(Activation('relu'))\n",
    "conv3d_model.add(BatchNormalization())\n",
    "\n",
    "conv3d_model.add(MaxPooling3D(pool_size=(2, 2, 2)))\n",
    "\n",
    "conv3d_model.add(Flatten())\n",
    "conv3d_model.add(Dense(dense_neurons,activation='relu'))\n",
    "conv3d_model.add(BatchNormalization())\n",
    "conv3d_model.add(Dropout(0.25))\n",
    "\n",
    "conv3d_model.add(Dense(dense_neurons,activation='relu'))\n",
    "conv3d_model.add(BatchNormalization())\n",
    "conv3d_model.add(Dropout(0.25))\n",
    "\n",
    "conv3d_model.add(Dense(num_classes,activation='softmax'))"
   ]
  },
  {
   "cell_type": "code",
   "execution_count": 20,
   "metadata": {},
   "outputs": [
    {
     "name": "stdout",
     "output_type": "stream",
     "text": [
      "Model: \"sequential_2\"\n",
      "_________________________________________________________________\n",
      "Layer (type)                 Output Shape              Param #   \n",
      "=================================================================\n",
      "conv3d_6 (Conv3D)            (None, 15, 120, 120, 32)  2624      \n",
      "_________________________________________________________________\n",
      "activation_6 (Activation)    (None, 15, 120, 120, 32)  0         \n",
      "_________________________________________________________________\n",
      "batch_normalization_7 (Batch (None, 15, 120, 120, 32)  128       \n",
      "_________________________________________________________________\n",
      "conv3d_7 (Conv3D)            (None, 15, 120, 120, 32)  27680     \n",
      "_________________________________________________________________\n",
      "activation_7 (Activation)    (None, 15, 120, 120, 32)  0         \n",
      "_________________________________________________________________\n",
      "batch_normalization_8 (Batch (None, 15, 120, 120, 32)  128       \n",
      "_________________________________________________________________\n",
      "max_pooling3d_3 (MaxPooling3 (None, 7, 60, 60, 32)     0         \n",
      "_________________________________________________________________\n",
      "conv3d_8 (Conv3D)            (None, 7, 60, 60, 64)     55360     \n",
      "_________________________________________________________________\n",
      "activation_8 (Activation)    (None, 7, 60, 60, 64)     0         \n",
      "_________________________________________________________________\n",
      "batch_normalization_9 (Batch (None, 7, 60, 60, 64)     256       \n",
      "_________________________________________________________________\n",
      "conv3d_9 (Conv3D)            (None, 7, 60, 60, 64)     110656    \n",
      "_________________________________________________________________\n",
      "activation_9 (Activation)    (None, 7, 60, 60, 64)     0         \n",
      "_________________________________________________________________\n",
      "batch_normalization_10 (Batc (None, 7, 60, 60, 64)     256       \n",
      "_________________________________________________________________\n",
      "conv3d_10 (Conv3D)           (None, 7, 60, 60, 64)     110656    \n",
      "_________________________________________________________________\n",
      "activation_10 (Activation)   (None, 7, 60, 60, 64)     0         \n",
      "_________________________________________________________________\n",
      "batch_normalization_11 (Batc (None, 7, 60, 60, 64)     256       \n",
      "_________________________________________________________________\n",
      "max_pooling3d_4 (MaxPooling3 (None, 3, 30, 30, 64)     0         \n",
      "_________________________________________________________________\n",
      "flatten_2 (Flatten)          (None, 172800)            0         \n",
      "_________________________________________________________________\n",
      "dense_5 (Dense)              (None, 256)               44237056  \n",
      "_________________________________________________________________\n",
      "batch_normalization_12 (Batc (None, 256)               1024      \n",
      "_________________________________________________________________\n",
      "dropout_2 (Dropout)          (None, 256)               0         \n",
      "_________________________________________________________________\n",
      "dense_6 (Dense)              (None, 256)               65792     \n",
      "_________________________________________________________________\n",
      "batch_normalization_13 (Batc (None, 256)               1024      \n",
      "_________________________________________________________________\n",
      "dropout_3 (Dropout)          (None, 256)               0         \n",
      "_________________________________________________________________\n",
      "dense_7 (Dense)              (None, 5)                 1285      \n",
      "=================================================================\n",
      "Total params: 44,614,181\n",
      "Trainable params: 44,612,645\n",
      "Non-trainable params: 1,536\n",
      "_________________________________________________________________\n",
      "None\n"
     ]
    }
   ],
   "source": [
    "conv3d_model.compile(optimizer=optimiser, loss='categorical_crossentropy', metrics=['categorical_accuracy'])\n",
    "print (conv3d_model.summary())"
   ]
  },
  {
   "cell_type": "code",
   "execution_count": 21,
   "metadata": {},
   "outputs": [],
   "source": [
    "checkpoint = ModelCheckpoint(getFilePath(), monitor='val_loss', verbose=1, save_best_only=False, save_weights_only=False, mode='auto',save_freq = 'epoch')\n",
    "\n",
    "callbacks_list = [checkpoint, LR]"
   ]
  },
  {
   "cell_type": "code",
   "execution_count": 22,
   "metadata": {},
   "outputs": [
    {
     "name": "stdout",
     "output_type": "stream",
     "text": [
      "Source path =  /home/datasets/Project_data/train ; batch size = 30\n",
      "Epoch 1/30\n",
      "23/23 [==============================] - ETA: 0s - loss: 1.4119 - categorical_accuracy: 0.4977Source path =  /home/datasets/Project_data/val ; batch size = 30\n",
      "\n",
      "Epoch 00001: saving model to model_init_2021-08-0208_17_46.514952/model-00001-1.41188-0.49774-141.78842-0.23000.h5\n",
      "23/23 [==============================] - 90s 4s/step - loss: 1.4119 - categorical_accuracy: 0.4977 - val_loss: 141.7884 - val_categorical_accuracy: 0.2300\n",
      "Epoch 2/30\n",
      "23/23 [==============================] - ETA: 0s - loss: 0.9164 - categorical_accuracy: 0.6772\n",
      "Epoch 00002: saving model to model_init_2021-08-0208_17_46.514952/model-00002-0.91636-0.67722-80.29002-0.20000.h5\n",
      "23/23 [==============================] - 92s 4s/step - loss: 0.9164 - categorical_accuracy: 0.6772 - val_loss: 80.2900 - val_categorical_accuracy: 0.2000\n",
      "Epoch 3/30\n",
      "23/23 [==============================] - ETA: 0s - loss: 0.7333 - categorical_accuracy: 0.7360\n",
      "Epoch 00003: saving model to model_init_2021-08-0208_17_46.514952/model-00003-0.73327-0.73605-35.54998-0.25000.h5\n",
      "23/23 [==============================] - 91s 4s/step - loss: 0.7333 - categorical_accuracy: 0.7360 - val_loss: 35.5500 - val_categorical_accuracy: 0.2500\n",
      "Epoch 4/30\n",
      "23/23 [==============================] - ETA: 0s - loss: 0.6717 - categorical_accuracy: 0.7496\n",
      "Epoch 00004: saving model to model_init_2021-08-0208_17_46.514952/model-00004-0.67167-0.74962-70.18033-0.22000.h5\n",
      "23/23 [==============================] - 89s 4s/step - loss: 0.6717 - categorical_accuracy: 0.7496 - val_loss: 70.1803 - val_categorical_accuracy: 0.2200\n",
      "Epoch 5/30\n",
      "23/23 [==============================] - ETA: 0s - loss: 0.5433 - categorical_accuracy: 0.8039\n",
      "Epoch 00005: saving model to model_init_2021-08-0208_17_46.514952/model-00005-0.54332-0.80392-23.41523-0.24000.h5\n",
      "23/23 [==============================] - 91s 4s/step - loss: 0.5433 - categorical_accuracy: 0.8039 - val_loss: 23.4152 - val_categorical_accuracy: 0.2400\n",
      "Epoch 6/30\n",
      "23/23 [==============================] - ETA: 0s - loss: 0.4623 - categorical_accuracy: 0.8205\n",
      "Epoch 00006: saving model to model_init_2021-08-0208_17_46.514952/model-00006-0.46231-0.82051-13.65134-0.27000.h5\n",
      "23/23 [==============================] - 91s 4s/step - loss: 0.4623 - categorical_accuracy: 0.8205 - val_loss: 13.6513 - val_categorical_accuracy: 0.2700\n",
      "Epoch 7/30\n",
      "23/23 [==============================] - ETA: 0s - loss: 0.3296 - categorical_accuracy: 0.8763\n",
      "Epoch 00007: saving model to model_init_2021-08-0208_17_46.514952/model-00007-0.32959-0.87632-8.24724-0.32000.h5\n",
      "23/23 [==============================] - 91s 4s/step - loss: 0.3296 - categorical_accuracy: 0.8763 - val_loss: 8.2472 - val_categorical_accuracy: 0.3200\n",
      "Epoch 8/30\n",
      "23/23 [==============================] - ETA: 0s - loss: 0.2851 - categorical_accuracy: 0.8929\n",
      "Epoch 00008: saving model to model_init_2021-08-0208_17_46.514952/model-00008-0.28513-0.89291-4.14339-0.42000.h5\n",
      "23/23 [==============================] - 89s 4s/step - loss: 0.2851 - categorical_accuracy: 0.8929 - val_loss: 4.1434 - val_categorical_accuracy: 0.4200\n",
      "Epoch 9/30\n",
      "23/23 [==============================] - ETA: 0s - loss: 0.2418 - categorical_accuracy: 0.9155\n",
      "Epoch 00009: saving model to model_init_2021-08-0208_17_46.514952/model-00009-0.24176-0.91554-5.50322-0.40000.h5\n",
      "23/23 [==============================] - 92s 4s/step - loss: 0.2418 - categorical_accuracy: 0.9155 - val_loss: 5.5032 - val_categorical_accuracy: 0.4000\n",
      "Epoch 10/30\n",
      "23/23 [==============================] - ETA: 0s - loss: 0.2322 - categorical_accuracy: 0.9231\n",
      "Epoch 00010: saving model to model_init_2021-08-0208_17_46.514952/model-00010-0.23217-0.92308-3.36659-0.37000.h5\n",
      "23/23 [==============================] - 91s 4s/step - loss: 0.2322 - categorical_accuracy: 0.9231 - val_loss: 3.3666 - val_categorical_accuracy: 0.3700\n",
      "Epoch 11/30\n",
      "23/23 [==============================] - ETA: 0s - loss: 0.6752 - categorical_accuracy: 0.7496\n",
      "Epoch 00011: saving model to model_init_2021-08-0208_17_46.514952/model-00011-0.67522-0.74962-48.66660-0.25000.h5\n",
      "23/23 [==============================] - 91s 4s/step - loss: 0.6752 - categorical_accuracy: 0.7496 - val_loss: 48.6666 - val_categorical_accuracy: 0.2500\n",
      "Epoch 12/30\n",
      "23/23 [==============================] - ETA: 0s - loss: 0.5487 - categorical_accuracy: 0.7994\n",
      "Epoch 00012: saving model to model_init_2021-08-0208_17_46.514952/model-00012-0.54869-0.79940-62.55519-0.25000.h5\n",
      "23/23 [==============================] - 86s 4s/step - loss: 0.5487 - categorical_accuracy: 0.7994 - val_loss: 62.5552 - val_categorical_accuracy: 0.2500\n",
      "Epoch 13/30\n",
      "23/23 [==============================] - ETA: 0s - loss: 0.2766 - categorical_accuracy: 0.9125\n",
      "Epoch 00013: saving model to model_init_2021-08-0208_17_46.514952/model-00013-0.27657-0.91252-18.77366-0.32000.h5\n",
      "23/23 [==============================] - 87s 4s/step - loss: 0.2766 - categorical_accuracy: 0.9125 - val_loss: 18.7737 - val_categorical_accuracy: 0.3200\n",
      "Epoch 14/30\n",
      "23/23 [==============================] - ETA: 0s - loss: 0.5253 - categorical_accuracy: 0.8220\n",
      "Epoch 00014: saving model to model_init_2021-08-0208_17_46.514952/model-00014-0.52530-0.82202-8.66958-0.41000.h5\n",
      "\n",
      "Epoch 00014: ReduceLROnPlateau reducing learning rate to 0.00020000000949949026.\n",
      "23/23 [==============================] - 87s 4s/step - loss: 0.5253 - categorical_accuracy: 0.8220 - val_loss: 8.6696 - val_categorical_accuracy: 0.4100\n",
      "Epoch 15/30\n",
      "23/23 [==============================] - ETA: 0s - loss: 0.3070 - categorical_accuracy: 0.8869\n",
      "Epoch 00015: saving model to model_init_2021-08-0208_17_46.514952/model-00015-0.30704-0.88688-6.75205-0.34000.h5\n",
      "23/23 [==============================] - 89s 4s/step - loss: 0.3070 - categorical_accuracy: 0.8869 - val_loss: 6.7521 - val_categorical_accuracy: 0.3400\n",
      "Epoch 16/30\n",
      "23/23 [==============================] - ETA: 0s - loss: 0.2565 - categorical_accuracy: 0.9065\n",
      "Epoch 00016: saving model to model_init_2021-08-0208_17_46.514952/model-00016-0.25650-0.90649-5.28167-0.43000.h5\n",
      "23/23 [==============================] - 85s 4s/step - loss: 0.2565 - categorical_accuracy: 0.9065 - val_loss: 5.2817 - val_categorical_accuracy: 0.4300\n",
      "Epoch 17/30\n",
      "23/23 [==============================] - ETA: 0s - loss: 0.2213 - categorical_accuracy: 0.9231\n",
      "Epoch 00017: saving model to model_init_2021-08-0208_17_46.514952/model-00017-0.22127-0.92308-2.57633-0.55000.h5\n",
      "23/23 [==============================] - 87s 4s/step - loss: 0.2213 - categorical_accuracy: 0.9231 - val_loss: 2.5763 - val_categorical_accuracy: 0.5500\n",
      "Epoch 18/30\n",
      "23/23 [==============================] - ETA: 0s - loss: 0.1861 - categorical_accuracy: 0.9367\n",
      "Epoch 00018: saving model to model_init_2021-08-0208_17_46.514952/model-00018-0.18608-0.93665-1.34211-0.61000.h5\n",
      "23/23 [==============================] - 87s 4s/step - loss: 0.1861 - categorical_accuracy: 0.9367 - val_loss: 1.3421 - val_categorical_accuracy: 0.6100\n",
      "Epoch 19/30\n",
      "23/23 [==============================] - ETA: 0s - loss: 0.1538 - categorical_accuracy: 0.9608\n",
      "Epoch 00019: saving model to model_init_2021-08-0208_17_46.514952/model-00019-0.15381-0.96078-1.34464-0.61000.h5\n",
      "23/23 [==============================] - 88s 4s/step - loss: 0.1538 - categorical_accuracy: 0.9608 - val_loss: 1.3446 - val_categorical_accuracy: 0.6100\n",
      "Epoch 20/30\n",
      "23/23 [==============================] - ETA: 0s - loss: 0.1434 - categorical_accuracy: 0.9487\n",
      "Epoch 00020: saving model to model_init_2021-08-0208_17_46.514952/model-00020-0.14343-0.94872-0.87593-0.73000.h5\n",
      "23/23 [==============================] - 87s 4s/step - loss: 0.1434 - categorical_accuracy: 0.9487 - val_loss: 0.8759 - val_categorical_accuracy: 0.7300\n",
      "Epoch 21/30\n",
      "23/23 [==============================] - ETA: 0s - loss: 0.1313 - categorical_accuracy: 0.9668\n",
      "Epoch 00021: saving model to model_init_2021-08-0208_17_46.514952/model-00021-0.13130-0.96682-0.82561-0.71000.h5\n",
      "23/23 [==============================] - 92s 4s/step - loss: 0.1313 - categorical_accuracy: 0.9668 - val_loss: 0.8256 - val_categorical_accuracy: 0.7100\n",
      "Epoch 22/30\n",
      "23/23 [==============================] - ETA: 0s - loss: 0.1480 - categorical_accuracy: 0.9472\n",
      "Epoch 00022: saving model to model_init_2021-08-0208_17_46.514952/model-00022-0.14799-0.94721-0.73098-0.75000.h5\n",
      "23/23 [==============================] - 94s 4s/step - loss: 0.1480 - categorical_accuracy: 0.9472 - val_loss: 0.7310 - val_categorical_accuracy: 0.7500\n",
      "Epoch 23/30\n",
      "23/23 [==============================] - ETA: 0s - loss: 0.1381 - categorical_accuracy: 0.9578\n",
      "Epoch 00023: saving model to model_init_2021-08-0208_17_46.514952/model-00023-0.13812-0.95777-0.47352-0.82000.h5\n",
      "23/23 [==============================] - 91s 4s/step - loss: 0.1381 - categorical_accuracy: 0.9578 - val_loss: 0.4735 - val_categorical_accuracy: 0.8200\n",
      "Epoch 24/30\n",
      "23/23 [==============================] - ETA: 0s - loss: 0.1200 - categorical_accuracy: 0.9623\n",
      "Epoch 00024: saving model to model_init_2021-08-0208_17_46.514952/model-00024-0.12003-0.96229-0.52373-0.81000.h5\n",
      "23/23 [==============================] - 88s 4s/step - loss: 0.1200 - categorical_accuracy: 0.9623 - val_loss: 0.5237 - val_categorical_accuracy: 0.8100\n",
      "Epoch 25/30\n",
      "23/23 [==============================] - ETA: 0s - loss: 0.1020 - categorical_accuracy: 0.9729\n",
      "Epoch 00025: saving model to model_init_2021-08-0208_17_46.514952/model-00025-0.10204-0.97285-0.48461-0.80000.h5\n",
      "23/23 [==============================] - 92s 4s/step - loss: 0.1020 - categorical_accuracy: 0.9729 - val_loss: 0.4846 - val_categorical_accuracy: 0.8000\n",
      "Epoch 26/30\n",
      "23/23 [==============================] - ETA: 0s - loss: 0.1239 - categorical_accuracy: 0.9563\n",
      "Epoch 00026: saving model to model_init_2021-08-0208_17_46.514952/model-00026-0.12387-0.95626-0.47266-0.83000.h5\n",
      "23/23 [==============================] - 91s 4s/step - loss: 0.1239 - categorical_accuracy: 0.9563 - val_loss: 0.4727 - val_categorical_accuracy: 0.8300\n",
      "Epoch 27/30\n",
      "23/23 [==============================] - ETA: 0s - loss: 0.0756 - categorical_accuracy: 0.9849\n",
      "Epoch 00027: saving model to model_init_2021-08-0208_17_46.514952/model-00027-0.07560-0.98492-0.47178-0.84000.h5\n",
      "23/23 [==============================] - 92s 4s/step - loss: 0.0756 - categorical_accuracy: 0.9849 - val_loss: 0.4718 - val_categorical_accuracy: 0.8400\n",
      "Epoch 28/30\n",
      "23/23 [==============================] - ETA: 0s - loss: 0.0834 - categorical_accuracy: 0.9713\n",
      "Epoch 00028: saving model to model_init_2021-08-0208_17_46.514952/model-00028-0.08336-0.97134-0.48996-0.83000.h5\n",
      "23/23 [==============================] - 89s 4s/step - loss: 0.0834 - categorical_accuracy: 0.9713 - val_loss: 0.4900 - val_categorical_accuracy: 0.8300\n",
      "Epoch 29/30\n",
      "23/23 [==============================] - ETA: 0s - loss: 0.0774 - categorical_accuracy: 0.9744\n",
      "Epoch 00029: saving model to model_init_2021-08-0208_17_46.514952/model-00029-0.07739-0.97436-0.50509-0.82000.h5\n",
      "23/23 [==============================] - 91s 4s/step - loss: 0.0774 - categorical_accuracy: 0.9744 - val_loss: 0.5051 - val_categorical_accuracy: 0.8200\n",
      "Epoch 30/30\n",
      "23/23 [==============================] - ETA: 0s - loss: 0.0733 - categorical_accuracy: 0.9864\n",
      "Epoch 00030: saving model to model_init_2021-08-0208_17_46.514952/model-00030-0.07331-0.98643-0.39173-0.83000.h5\n",
      "23/23 [==============================] - 92s 4s/step - loss: 0.0733 - categorical_accuracy: 0.9864 - val_loss: 0.3917 - val_categorical_accuracy: 0.8300\n"
     ]
    },
    {
     "data": {
      "text/plain": [
       "<tensorflow.python.keras.callbacks.History at 0x7f36ad532048>"
      ]
     },
     "execution_count": 22,
     "metadata": {},
     "output_type": "execute_result"
    }
   ],
   "source": [
    "conv3d_model.fit(train_generator, steps_per_epoch=steps_per_epoch, epochs=num_epochs, verbose=1, \n",
    "                    callbacks=callbacks_list, validation_data=val_generator, \n",
    "                    validation_steps=validation_steps, class_weight=None, workers=1, initial_epoch=0)"
   ]
  },
  {
   "cell_type": "markdown",
   "metadata": {},
   "source": [
    "# Appendix\n",
    "\n",
    "This section contains all the models built as a part of the exploration process. The final models for each of RNN and Conv3D approch are the ones highlighted above. For testing different models, we've used 15 epochs for faster training purposes."
   ]
  },
  {
   "cell_type": "code",
   "execution_count": null,
   "metadata": {},
   "outputs": [],
   "source": [
    "num_epochs = 15\n",
    "print ('# epochs =', num_epochs)"
   ]
  },
  {
   "cell_type": "markdown",
   "metadata": {},
   "source": [
    "## Model 1: CNN+RNN Single Layer with 15 epochs"
   ]
  },
  {
   "cell_type": "code",
   "execution_count": null,
   "metadata": {},
   "outputs": [],
   "source": [
    "model_1 = Sequential()\n",
    "\n",
    "model_1.add(TimeDistributed(Conv2D(32, (3, 3) , padding='same', activation='relu'),input_shape=(15, 120, 120, 3)))\n",
    "model_1.add(TimeDistributed(MaxPooling2D((2, 2))))\n",
    "model_1.add(TimeDistributed(Flatten()))\n",
    "\n",
    "model_1.add(GRU(32))\n",
    "        \n",
    "model_1.add(Dense(128,activation='relu'))\n",
    "model_1.add(Dense(num_classes, activation='softmax'))"
   ]
  },
  {
   "cell_type": "markdown",
   "metadata": {},
   "source": [
    "Now that you have written the model, the next step is to `compile` the model. When you print the `summary` of the model, you'll see the total number of parameters you have to train."
   ]
  },
  {
   "cell_type": "code",
   "execution_count": null,
   "metadata": {},
   "outputs": [],
   "source": [
    "optimiser = 'Adam' # Let's test with Adam first"
   ]
  },
  {
   "cell_type": "code",
   "execution_count": null,
   "metadata": {},
   "outputs": [],
   "source": [
    "model_1.compile(optimizer=optimiser, loss='categorical_crossentropy', metrics=['categorical_accuracy'])\n",
    "print (model_1.summary())"
   ]
  },
  {
   "cell_type": "code",
   "execution_count": null,
   "metadata": {},
   "outputs": [],
   "source": [
    "checkpoint = ModelCheckpoint(getFilePath(), monitor='val_loss', verbose=1, save_best_only=False, save_weights_only=False, mode='auto',save_freq = 'epoch')\n",
    "\n",
    "callbacks_list = [checkpoint, earlystop, LR]"
   ]
  },
  {
   "cell_type": "markdown",
   "metadata": {},
   "source": [
    "Let us now fit the model. This will start training the model and with the help of the checkpoints, you'll be able to save the model at the end of each epoch."
   ]
  },
  {
   "cell_type": "code",
   "execution_count": null,
   "metadata": {},
   "outputs": [],
   "source": [
    "history_1 = model_1.fit(train_generator, steps_per_epoch=steps_per_epoch, epochs=num_epochs, verbose=1, \n",
    "                    callbacks=callbacks_list, validation_data=val_generator, \n",
    "                    validation_steps=validation_steps, class_weight=None, workers=1, initial_epoch=0)"
   ]
  },
  {
   "cell_type": "code",
   "execution_count": null,
   "metadata": {},
   "outputs": [],
   "source": [
    "plot(history_1)"
   ]
  },
  {
   "cell_type": "markdown",
   "metadata": {},
   "source": [
    "As we can clearly see, the model is very much underfitting and performs only as good as a naive model. Let's try to add more layers to the model and see if that helps."
   ]
  },
  {
   "cell_type": "markdown",
   "metadata": {},
   "source": [
    "## Model 2: Two layers CNN+RNN"
   ]
  },
  {
   "cell_type": "code",
   "execution_count": null,
   "metadata": {},
   "outputs": [],
   "source": [
    "model_2 = Sequential()\n",
    "\n",
    "model_2.add(TimeDistributed(Conv2D(16, (3, 3) , padding='same', activation='relu'),input_shape=(15, 120, 120, 3)))\n",
    "model_2.add(TimeDistributed(MaxPooling2D((2, 2))))\n",
    "\n",
    "model_2.add(TimeDistributed(Conv2D(32, (3, 3) , padding='same', activation='relu')))\n",
    "model_2.add(TimeDistributed(MaxPooling2D((2, 2))))\n",
    "model_2.add(TimeDistributed(Flatten()))\n",
    "\n",
    "model_2.add(GRU(32))\n",
    "        \n",
    "model_2.add(Dense(128,activation='relu'))\n",
    "model_2.add(Dense(num_classes, activation='softmax'))"
   ]
  },
  {
   "cell_type": "code",
   "execution_count": null,
   "metadata": {},
   "outputs": [],
   "source": [
    "model_2.compile(optimizer=optimiser, loss='categorical_crossentropy', metrics=['categorical_accuracy'])\n",
    "print (model_2.summary())"
   ]
  },
  {
   "cell_type": "code",
   "execution_count": null,
   "metadata": {},
   "outputs": [],
   "source": [
    "checkpoint = ModelCheckpoint(getFilePath(), monitor='val_loss', verbose=1, save_best_only=False, save_weights_only=False, mode='auto',save_freq = 'epoch')\n",
    "\n",
    "callbacks_list = [checkpoint, earlystop, LR]"
   ]
  },
  {
   "cell_type": "code",
   "execution_count": null,
   "metadata": {},
   "outputs": [],
   "source": [
    "history_2 = model_2.fit(train_generator, steps_per_epoch=steps_per_epoch, epochs=num_epochs, verbose=1, \n",
    "                    callbacks=callbacks_list, validation_data=val_generator, \n",
    "                    validation_steps=validation_steps, class_weight=None, workers=1, initial_epoch=0)"
   ]
  },
  {
   "cell_type": "code",
   "execution_count": null,
   "metadata": {},
   "outputs": [],
   "source": [
    "plot(history_2)"
   ]
  },
  {
   "cell_type": "markdown",
   "metadata": {},
   "source": [
    "## Model 3: Two layers CNN+RNN+Batch Normalisation"
   ]
  },
  {
   "cell_type": "code",
   "execution_count": null,
   "metadata": {},
   "outputs": [],
   "source": [
    "model_3 = Sequential()\n",
    "\n",
    "model_3.add(TimeDistributed(Conv2D(16, (3, 3) , padding='same', activation='relu'),input_shape=(15, 120, 120, 3)))\n",
    "model_3.add(TimeDistributed(BatchNormalization()))\n",
    "model_3.add(TimeDistributed(MaxPooling2D((2, 2))))\n",
    "\n",
    "model_3.add(TimeDistributed(Conv2D(32, (3, 3) , padding='same', activation='relu')))\n",
    "model_3.add(TimeDistributed(BatchNormalization()))\n",
    "model_3.add(TimeDistributed(MaxPooling2D((2, 2))))\n",
    "model_3.add(TimeDistributed(Flatten()))\n",
    "\n",
    "model_3.add(GRU(32))\n",
    "        \n",
    "model_3.add(Dense(128,activation='relu'))\n",
    "model_3.add(Dense(num_classes, activation='softmax'))"
   ]
  },
  {
   "cell_type": "code",
   "execution_count": null,
   "metadata": {},
   "outputs": [],
   "source": [
    "model_3.compile(optimizer=optimiser, loss='categorical_crossentropy', metrics=['categorical_accuracy'])\n",
    "print (model_3.summary())"
   ]
  },
  {
   "cell_type": "code",
   "execution_count": null,
   "metadata": {},
   "outputs": [],
   "source": [
    "checkpoint = ModelCheckpoint(getFilePath(), monitor='val_loss', verbose=1, save_best_only=False, save_weights_only=False, mode='auto',save_freq = 'epoch')\n",
    "\n",
    "callbacks_list = [checkpoint, earlystop, LR]"
   ]
  },
  {
   "cell_type": "code",
   "execution_count": null,
   "metadata": {},
   "outputs": [],
   "source": [
    "history_3 = model_3.fit(train_generator, steps_per_epoch=steps_per_epoch, epochs=num_epochs, verbose=1, \n",
    "                    callbacks=callbacks_list, validation_data=val_generator, \n",
    "                    validation_steps=validation_steps, class_weight=None, workers=1, initial_epoch=0)"
   ]
  },
  {
   "cell_type": "code",
   "execution_count": null,
   "metadata": {},
   "outputs": [],
   "source": [
    "plot(history_3)"
   ]
  },
  {
   "cell_type": "markdown",
   "metadata": {},
   "source": [
    "Adding batch normalisation has proven to improve the accuracy by a huge margin and this is mainly due to the fact that there would be a huge deviation in the data and normalising helps in closing that gap. But we can see that now the model has overfitted on the training data, since there's a huge gap of over 25% between the training and validation accuracy."
   ]
  },
  {
   "cell_type": "markdown",
   "metadata": {},
   "source": [
    "## Model 4: Two layers CNN+RNN+Batch Normalisation+Dropout"
   ]
  },
  {
   "cell_type": "code",
   "execution_count": null,
   "metadata": {},
   "outputs": [],
   "source": [
    "model_4 = Sequential()\n",
    "\n",
    "model_4.add(TimeDistributed(Conv2D(16, (3, 3) , padding='same', activation='relu'),input_shape=(15, 120, 120, 3)))\n",
    "model_4.add(TimeDistributed(BatchNormalization()))\n",
    "model_4.add(TimeDistributed(MaxPooling2D((2, 2))))\n",
    "\n",
    "model_4.add(TimeDistributed(Conv2D(32, (3, 3) , padding='same', activation='relu')))\n",
    "model_4.add(TimeDistributed(BatchNormalization()))\n",
    "model_4.add(TimeDistributed(MaxPooling2D((2, 2))))\n",
    "model_4.add(TimeDistributed(Flatten()))\n",
    "\n",
    "model_4.add(GRU(32))\n",
    "        \n",
    "model_4.add(Dense(128,activation='relu'))\n",
    "model_4.add(Dropout(0.25))\n",
    "model_4.add(Dense(num_classes, activation='softmax'))"
   ]
  },
  {
   "cell_type": "code",
   "execution_count": null,
   "metadata": {},
   "outputs": [],
   "source": [
    "model_4.compile(optimizer=optimiser, loss='categorical_crossentropy', metrics=['categorical_accuracy'])\n",
    "print (model_4.summary())"
   ]
  },
  {
   "cell_type": "code",
   "execution_count": null,
   "metadata": {},
   "outputs": [],
   "source": [
    "checkpoint = ModelCheckpoint(getFilePath(), monitor='val_loss', verbose=1, save_best_only=False, save_weights_only=False, mode='auto',save_freq = 'epoch')\n",
    "\n",
    "callbacks_list = [checkpoint, earlystop, LR]"
   ]
  },
  {
   "cell_type": "code",
   "execution_count": null,
   "metadata": {},
   "outputs": [],
   "source": [
    "history_4 = model_4.fit(train_generator, steps_per_epoch=steps_per_epoch, epochs=num_epochs, verbose=1, \n",
    "                    callbacks=callbacks_list, validation_data=val_generator, \n",
    "                    validation_steps=validation_steps, class_weight=None, workers=1, initial_epoch=0)"
   ]
  },
  {
   "cell_type": "code",
   "execution_count": null,
   "metadata": {},
   "outputs": [],
   "source": [
    "plot(history_4)"
   ]
  },
  {
   "cell_type": "markdown",
   "metadata": {},
   "source": [
    "Adding dropout has reduced the overfitting to an extent, but as a side effect, the model seems to have not adapted well to both the train and test data. We will now try out the same model with SGD optimiser to see if changing the optimiser has any effect on the training."
   ]
  },
  {
   "cell_type": "markdown",
   "metadata": {},
   "source": [
    "## Model 5: Two layers CNN+RNN+Batch Normalisation+Dropout (SGD Optimiser)"
   ]
  },
  {
   "cell_type": "code",
   "execution_count": null,
   "metadata": {},
   "outputs": [],
   "source": [
    "model_5 = Sequential()\n",
    "\n",
    "model_5.add(TimeDistributed(Conv2D(16, (3, 3) , padding='same', activation='relu'),input_shape=(15, 120, 120, 3)))\n",
    "model_5.add(TimeDistributed(BatchNormalization()))\n",
    "model_5.add(TimeDistributed(MaxPooling2D((2, 2))))\n",
    "\n",
    "model_5.add(TimeDistributed(Conv2D(32, (3, 3) , padding='same', activation='relu')))\n",
    "model_5.add(TimeDistributed(BatchNormalization()))\n",
    "model_5.add(TimeDistributed(MaxPooling2D((2, 2))))\n",
    "model_5.add(TimeDistributed(Flatten()))\n",
    "\n",
    "model_5.add(GRU(32))\n",
    "        \n",
    "model_5.add(Dense(128,activation='relu'))\n",
    "model_5.add(Dropout(0.25))\n",
    "model_5.add(Dense(num_classes, activation='softmax'))"
   ]
  },
  {
   "cell_type": "code",
   "execution_count": null,
   "metadata": {},
   "outputs": [],
   "source": [
    "model_5.compile(optimizer='sgd', loss='categorical_crossentropy', metrics=['categorical_accuracy'])\n",
    "print (model_5.summary())"
   ]
  },
  {
   "cell_type": "code",
   "execution_count": null,
   "metadata": {},
   "outputs": [],
   "source": [
    "checkpoint = ModelCheckpoint(getFilePath(), monitor='val_loss', verbose=1, save_best_only=False, save_weights_only=False, mode='auto',save_freq = 'epoch')\n",
    "\n",
    "callbacks_list = [checkpoint, earlystop, LR]"
   ]
  },
  {
   "cell_type": "code",
   "execution_count": null,
   "metadata": {},
   "outputs": [],
   "source": [
    "history_5 = model_5.fit(train_generator, steps_per_epoch=steps_per_epoch, epochs=num_epochs, verbose=1, \n",
    "                    callbacks=callbacks_list, validation_data=val_generator, \n",
    "                    validation_steps=validation_steps, class_weight=None, workers=1, initial_epoch=0)"
   ]
  },
  {
   "cell_type": "code",
   "execution_count": null,
   "metadata": {},
   "outputs": [],
   "source": [
    "plot(history_5)"
   ]
  },
  {
   "cell_type": "markdown",
   "metadata": {},
   "source": [
    "SGD seems to perform better, even though there's a slight overfitting. Let us try increasing the complexity of the model and add dropouts to reduce this. Also we can see that even after 15 epochs, the model is still growing, so running with more no. of epochs might give us better results on the model."
   ]
  },
  {
   "cell_type": "markdown",
   "metadata": {},
   "source": [
    "## Model 6: Multi Layer CNN+RNN+Batch Normalisation+Dropout (fully packed model)"
   ]
  },
  {
   "cell_type": "code",
   "execution_count": null,
   "metadata": {},
   "outputs": [],
   "source": [
    "optimiser='sgd'\n",
    "num_epochs = 30\n",
    "print ('# epochs =', num_epochs)"
   ]
  },
  {
   "cell_type": "code",
   "execution_count": null,
   "metadata": {},
   "outputs": [],
   "source": [
    "model_6 = Sequential()\n",
    "\n",
    "model_6.add(TimeDistributed(Conv2D(16, (3, 3) , padding='same', activation='relu'),input_shape=(15, 120, 120, 3)))\n",
    "model_6.add(TimeDistributed(BatchNormalization()))\n",
    "model_6.add(TimeDistributed(MaxPooling2D((2, 2))))\n",
    "\n",
    "model_6.add(TimeDistributed(Conv2D(32, (3, 3) , padding='same', activation='relu')))\n",
    "model_6.add(TimeDistributed(BatchNormalization()))\n",
    "model_6.add(TimeDistributed(MaxPooling2D((2, 2))))\n",
    "\n",
    "model_6.add(TimeDistributed(Conv2D(64, (3, 3) , padding='same', activation='relu')))\n",
    "model_6.add(TimeDistributed(BatchNormalization()))\n",
    "model_6.add(TimeDistributed(MaxPooling2D((2, 2))))\n",
    "\n",
    "model_6.add(TimeDistributed(Conv2D(128, (3, 3) , padding='same', activation='relu')))\n",
    "model_6.add(TimeDistributed(BatchNormalization()))\n",
    "model_6.add(TimeDistributed(MaxPooling2D((2, 2))))\n",
    "\n",
    "model_6.add(TimeDistributed(Conv2D(256, (3, 3) , padding='same', activation='relu')))\n",
    "model_6.add(TimeDistributed(BatchNormalization()))\n",
    "model_6.add(TimeDistributed(MaxPooling2D((2, 2))))\n",
    "model_6.add(TimeDistributed(Flatten()))\n",
    "\n",
    "model_6.add(GRU(256))\n",
    "        \n",
    "model_6.add(Dense(128,activation='relu'))\n",
    "model_6.add(Dropout(0.25))\n",
    "\n",
    "model_6.add(Dense(64,activation='relu'))\n",
    "model_6.add(Dropout(0.25))\n",
    "model_6.add(Dense(num_classes, activation='softmax'))"
   ]
  },
  {
   "cell_type": "code",
   "execution_count": null,
   "metadata": {},
   "outputs": [],
   "source": [
    "model_6.compile(optimizer=optimiser, loss='categorical_crossentropy', metrics=['categorical_accuracy'])\n",
    "print (model_6.summary())"
   ]
  },
  {
   "cell_type": "code",
   "execution_count": null,
   "metadata": {},
   "outputs": [],
   "source": [
    "checkpoint = ModelCheckpoint(getFilePath(), monitor='val_loss', verbose=1, save_best_only=False, save_weights_only=False, mode='auto',save_freq = 'epoch')\n",
    "\n",
    "callbacks_list = [checkpoint, earlystop, LR]"
   ]
  },
  {
   "cell_type": "code",
   "execution_count": null,
   "metadata": {},
   "outputs": [],
   "source": [
    "history_6 = model_6.fit(train_generator, steps_per_epoch=steps_per_epoch, epochs=num_epochs, verbose=1, \n",
    "                    callbacks=callbacks_list, validation_data=val_generator, \n",
    "                    validation_steps=validation_steps, class_weight=None, workers=1, initial_epoch=0)"
   ]
  },
  {
   "cell_type": "code",
   "execution_count": null,
   "metadata": {},
   "outputs": [],
   "source": [
    "plot(history_6)"
   ]
  },
  {
   "cell_type": "markdown",
   "metadata": {},
   "source": [
    "We can see that the model fits overall really well but still is overfitting on the training data. Let's try increasing the dropout a bit to see if that helps in avoiding this."
   ]
  },
  {
   "cell_type": "markdown",
   "metadata": {},
   "source": [
    "As we can clearly see from the graph, the overfitting has been reduced a bit compared to the previous model. Even though it is still highly inclined towards train data, it generalises comparatively better to the previous one."
   ]
  },
  {
   "cell_type": "markdown",
   "metadata": {},
   "source": [
    "## Model 7: Multi Layer CNN+RNN+Batch Normalisation+Increased Dropout (fully packed model)"
   ]
  },
  {
   "cell_type": "code",
   "execution_count": null,
   "metadata": {},
   "outputs": [],
   "source": [
    "model_7 = Sequential()\n",
    "\n",
    "model_7.add(TimeDistributed(Conv2D(16, (3, 3) , padding='same', activation='relu'),input_shape=(15, 120, 120, 3)))\n",
    "model_7.add(TimeDistributed(BatchNormalization()))\n",
    "model_7.add(TimeDistributed(MaxPooling2D((2, 2))))\n",
    "\n",
    "model_7.add(TimeDistributed(Conv2D(32, (3, 3) , padding='same', activation='relu')))\n",
    "model_7.add(TimeDistributed(BatchNormalization()))\n",
    "model_7.add(TimeDistributed(MaxPooling2D((2, 2))))\n",
    "\n",
    "model_7.add(TimeDistributed(Conv2D(64, (3, 3) , padding='same', activation='relu')))\n",
    "model_7.add(TimeDistributed(BatchNormalization()))\n",
    "model_7.add(TimeDistributed(MaxPooling2D((2, 2))))\n",
    "\n",
    "model_7.add(TimeDistributed(Conv2D(128, (3, 3) , padding='same', activation='relu')))\n",
    "model_7.add(TimeDistributed(BatchNormalization()))\n",
    "model_7.add(TimeDistributed(MaxPooling2D((2, 2))))\n",
    "\n",
    "model_7.add(TimeDistributed(Conv2D(256, (3, 3) , padding='same', activation='relu')))\n",
    "model_7.add(TimeDistributed(BatchNormalization()))\n",
    "model_7.add(TimeDistributed(MaxPooling2D((2, 2))))\n",
    "model_7.add(TimeDistributed(Flatten()))\n",
    "\n",
    "model_7.add(GRU(256))\n",
    "        \n",
    "model_7.add(Dense(128,activation='relu'))\n",
    "model_7.add(Dropout(0.5))\n",
    "\n",
    "model_7.add(Dense(64,activation='relu'))\n",
    "model_7.add(Dropout(0.25))\n",
    "model_7.add(Dense(num_classes, activation='softmax'))"
   ]
  },
  {
   "cell_type": "code",
   "execution_count": null,
   "metadata": {},
   "outputs": [],
   "source": [
    "model_7.compile(optimizer=optimiser, loss='categorical_crossentropy', metrics=['categorical_accuracy'])\n",
    "print (model_7.summary())"
   ]
  },
  {
   "cell_type": "code",
   "execution_count": null,
   "metadata": {},
   "outputs": [],
   "source": [
    "checkpoint = ModelCheckpoint(getFilePath(), monitor='val_loss', verbose=1, save_best_only=False, save_weights_only=False, mode='auto',save_freq = 'epoch')\n",
    "\n",
    "callbacks_list = [checkpoint, earlystop, LR]"
   ]
  },
  {
   "cell_type": "code",
   "execution_count": null,
   "metadata": {},
   "outputs": [],
   "source": [
    "history_7 = model_7.fit(train_generator, steps_per_epoch=steps_per_epoch, epochs=num_epochs, verbose=1, \n",
    "                    callbacks=callbacks_list, validation_data=val_generator, \n",
    "                    validation_steps=validation_steps, class_weight=None, workers=1, initial_epoch=0)"
   ]
  },
  {
   "cell_type": "code",
   "execution_count": null,
   "metadata": {
    "scrolled": true
   },
   "outputs": [],
   "source": [
    "plot(history_7)"
   ]
  },
  {
   "cell_type": "markdown",
   "metadata": {},
   "source": [
    "Now that we have tried out various models using CNN+RNN stack, let's now try out Convolution 3D models to see if they help in avoiding overfitting or getting overall better output."
   ]
  },
  {
   "cell_type": "markdown",
   "metadata": {},
   "source": [
    "## Model 1: Conv3D Single Layer"
   ]
  },
  {
   "cell_type": "code",
   "execution_count": null,
   "metadata": {},
   "outputs": [],
   "source": [
    "optimiser = 'Adam'"
   ]
  },
  {
   "cell_type": "code",
   "execution_count": null,
   "metadata": {},
   "outputs": [],
   "source": [
    "filtersize=(3,3,3)\n",
    "dense_neurons=256\n",
    "\n",
    "model_1 = Sequential()\n",
    "model_1.add(Conv3D(32, filtersize, padding='same',input_shape=(15,120,120,3)))\n",
    "model_1.add(Activation('relu'))\n",
    "\n",
    "model_1.add(MaxPooling3D(pool_size=(2, 2, 2)))\n",
    "\n",
    "model_1.add(Flatten())\n",
    "model_1.add(Dense(dense_neurons,activation='relu'))\n",
    "\n",
    "model_1.add(Dense(num_classes,activation='softmax'))"
   ]
  },
  {
   "cell_type": "code",
   "execution_count": null,
   "metadata": {
    "scrolled": true
   },
   "outputs": [],
   "source": [
    "model_1.compile(optimizer=optimiser, loss='categorical_crossentropy', metrics=['categorical_accuracy'])\n",
    "print (model_1.summary())"
   ]
  },
  {
   "cell_type": "code",
   "execution_count": null,
   "metadata": {},
   "outputs": [],
   "source": [
    "checkpoint = ModelCheckpoint(getFilePath(), monitor='val_loss', verbose=1, save_best_only=False, save_weights_only=False, mode='auto',save_freq = 'epoch')\n",
    "\n",
    "callbacks_list = [checkpoint, earlystop, LR]"
   ]
  },
  {
   "cell_type": "code",
   "execution_count": null,
   "metadata": {},
   "outputs": [],
   "source": [
    "history_1 = model_1.fit(train_generator, steps_per_epoch=steps_per_epoch, epochs=num_epochs, verbose=1, \n",
    "                    callbacks=callbacks_list, validation_data=val_generator, \n",
    "                    validation_steps=validation_steps, class_weight=None, workers=1, initial_epoch=0)"
   ]
  },
  {
   "cell_type": "code",
   "execution_count": null,
   "metadata": {
    "scrolled": true
   },
   "outputs": [],
   "source": [
    "plot(history_1)"
   ]
  },
  {
   "cell_type": "markdown",
   "metadata": {},
   "source": [
    "## Model 2: Conv3D Two Layers"
   ]
  },
  {
   "cell_type": "code",
   "execution_count": null,
   "metadata": {},
   "outputs": [],
   "source": [
    "filtersize=(3,3,3)\n",
    "dense_neurons=256\n",
    "\n",
    "model_2 = Sequential()\n",
    "model_2.add(Conv3D(32, filtersize, padding='same',input_shape=(15,120,120,3)))\n",
    "model_2.add(Activation('relu'))\n",
    "\n",
    "model_2.add(Conv3D(32, filtersize, padding='same',input_shape=(15,120,120,3)))\n",
    "model_2.add(Activation('relu'))\n",
    "\n",
    "model_2.add(MaxPooling3D(pool_size=(2, 2, 2)))\n",
    "\n",
    "\n",
    "model_2.add(Flatten())\n",
    "model_2.add(Dense(dense_neurons,activation='relu'))\n",
    "\n",
    "model_2.add(Dense(num_classes,activation='softmax'))"
   ]
  },
  {
   "cell_type": "code",
   "execution_count": null,
   "metadata": {},
   "outputs": [],
   "source": [
    "model_2.compile(optimizer=optimiser, loss='categorical_crossentropy', metrics=['categorical_accuracy'])\n",
    "print (model_2.summary())"
   ]
  },
  {
   "cell_type": "code",
   "execution_count": null,
   "metadata": {},
   "outputs": [],
   "source": [
    "checkpoint = ModelCheckpoint(getFilePath(), monitor='val_loss', verbose=1, save_best_only=False, save_weights_only=False, mode='auto',save_freq = 'epoch')\n",
    "\n",
    "callbacks_list = [checkpoint, LR]"
   ]
  },
  {
   "cell_type": "code",
   "execution_count": null,
   "metadata": {},
   "outputs": [],
   "source": [
    "history_2 = model_2.fit(train_generator, steps_per_epoch=steps_per_epoch, epochs=num_epochs, verbose=1, \n",
    "                    callbacks=callbacks_list, validation_data=val_generator, \n",
    "                    validation_steps=validation_steps, class_weight=None, workers=1, initial_epoch=0)"
   ]
  },
  {
   "cell_type": "code",
   "execution_count": null,
   "metadata": {},
   "outputs": [],
   "source": [
    "plot(history_2)"
   ]
  },
  {
   "cell_type": "markdown",
   "metadata": {},
   "source": [
    "## Model 3:  Two Layers Conv3D+Batch Normalisation"
   ]
  },
  {
   "cell_type": "code",
   "execution_count": null,
   "metadata": {},
   "outputs": [],
   "source": [
    "filtersize=(3,3,3)\n",
    "dense_neurons=256\n",
    "\n",
    "model_3 = Sequential()\n",
    "model_3.add(Conv3D(32, filtersize, padding='same',input_shape=(15,120,120,3)))\n",
    "model_3.add(Activation('relu'))\n",
    "model_3.add(BatchNormalization())\n",
    "\n",
    "model_3.add(Conv3D(32, filtersize, padding='same',input_shape=(15,120,120,3)))\n",
    "model_3.add(Activation('relu'))\n",
    "model_3.add(BatchNormalization())\n",
    "\n",
    "model_3.add(MaxPooling3D(pool_size=(2, 2, 2)))\n",
    "\n",
    "\n",
    "model_3.add(Flatten())\n",
    "model_3.add(Dense(dense_neurons,activation='relu'))\n",
    "model_3.add(BatchNormalization())\n",
    "\n",
    "model_3.add(Dense(num_classes,activation='softmax'))"
   ]
  },
  {
   "cell_type": "code",
   "execution_count": null,
   "metadata": {},
   "outputs": [],
   "source": [
    "model_3.compile(optimizer=optimiser, loss='categorical_crossentropy', metrics=['categorical_accuracy'])\n",
    "print (model_3.summary())"
   ]
  },
  {
   "cell_type": "code",
   "execution_count": null,
   "metadata": {},
   "outputs": [],
   "source": [
    "checkpoint = ModelCheckpoint(getFilePath(), monitor='val_loss', verbose=1, save_best_only=False, save_weights_only=False, mode='auto',save_freq = 'epoch')\n",
    "\n",
    "callbacks_list = [checkpoint, LR]"
   ]
  },
  {
   "cell_type": "code",
   "execution_count": null,
   "metadata": {},
   "outputs": [],
   "source": [
    "history_3 = model_3.fit(train_generator, steps_per_epoch=steps_per_epoch, epochs=num_epochs, verbose=1, \n",
    "                    callbacks=callbacks_list, validation_data=val_generator, \n",
    "                    validation_steps=validation_steps, class_weight=None, workers=1, initial_epoch=0)"
   ]
  },
  {
   "cell_type": "code",
   "execution_count": null,
   "metadata": {},
   "outputs": [],
   "source": [
    "plot(history_3)"
   ]
  },
  {
   "cell_type": "markdown",
   "metadata": {},
   "source": [
    "As we can see here by adding batch normalization validation accuracy has increased significantly. However it has now completely overfitted on train data. Let's add dropouts to prevent the overfitting."
   ]
  },
  {
   "cell_type": "markdown",
   "metadata": {},
   "source": [
    "## Model 4:  Two Layers Conv3D+BatchNormalisation+Dropout"
   ]
  },
  {
   "cell_type": "code",
   "execution_count": null,
   "metadata": {},
   "outputs": [],
   "source": [
    "filtersize=(3,3,3)\n",
    "dense_neurons=256\n",
    "\n",
    "model_4 = Sequential()\n",
    "model_4.add(Conv3D(32, filtersize, padding='same',input_shape=(15,120,120,3)))\n",
    "model_4.add(Activation('relu'))\n",
    "model_4.add(BatchNormalization())\n",
    "\n",
    "model_4.add(Conv3D(32, filtersize, padding='same',input_shape=(15,120,120,3)))\n",
    "model_4.add(Activation('relu'))\n",
    "model_4.add(BatchNormalization())\n",
    "\n",
    "model_4.add(MaxPooling3D(pool_size=(2, 2, 2)))\n",
    "model_4.add(Dropout(0.5))\n",
    "\n",
    "\n",
    "model_4.add(Flatten())\n",
    "model_4.add(Dense(dense_neurons,activation='relu'))\n",
    "model_4.add(BatchNormalization())\n",
    "model_4.add(Dropout(0.5))\n",
    "\n",
    "model_4.add(Dense(num_classes,activation='softmax'))"
   ]
  },
  {
   "cell_type": "code",
   "execution_count": null,
   "metadata": {},
   "outputs": [],
   "source": [
    "model_4.compile(optimizer=optimiser, loss='categorical_crossentropy', metrics=['categorical_accuracy'])\n",
    "print (model_4.summary())"
   ]
  },
  {
   "cell_type": "code",
   "execution_count": null,
   "metadata": {},
   "outputs": [],
   "source": [
    "checkpoint = ModelCheckpoint(getFilePath(), monitor='val_loss', verbose=1, save_best_only=False, save_weights_only=False, mode='auto',save_freq = 'epoch')\n",
    "\n",
    "callbacks_list = [checkpoint, LR]"
   ]
  },
  {
   "cell_type": "code",
   "execution_count": null,
   "metadata": {},
   "outputs": [],
   "source": [
    "history_4 = model_4.fit(train_generator, steps_per_epoch=steps_per_epoch, epochs=num_epochs, verbose=1, \n",
    "                    callbacks=callbacks_list, validation_data=val_generator, \n",
    "                    validation_steps=validation_steps, class_weight=None, workers=1, initial_epoch=0)"
   ]
  },
  {
   "cell_type": "code",
   "execution_count": null,
   "metadata": {},
   "outputs": [],
   "source": [
    "plot(history_4)"
   ]
  },
  {
   "cell_type": "markdown",
   "metadata": {},
   "source": [
    "## Model 5: Multi Layer Conv3D+Batch Normalisation+Dropout (fully packed model)"
   ]
  },
  {
   "cell_type": "code",
   "execution_count": null,
   "metadata": {},
   "outputs": [],
   "source": [
    "num_epochs = 30\n",
    "print ('# epochs =', num_epochs)"
   ]
  },
  {
   "cell_type": "code",
   "execution_count": null,
   "metadata": {},
   "outputs": [],
   "source": [
    "filtersize=(3,3,3)\n",
    "dense_neurons=256\n",
    "\n",
    "model_5 = Sequential()\n",
    "model_5.add(Conv3D(32, filtersize, padding='same',input_shape=(15,120,120,3)))\n",
    "model_5.add(Activation('relu'))\n",
    "model_5.add(BatchNormalization())\n",
    "\n",
    "model_5.add(Conv3D(32, filtersize, padding='same',input_shape=(15,120,120,3)))\n",
    "model_5.add(Activation('relu'))\n",
    "model_5.add(BatchNormalization())\n",
    "\n",
    "model_5.add(MaxPooling3D(pool_size=(2, 2, 2)))\n",
    "\n",
    "model_5.add(Conv3D(64, filtersize, padding='same'))\n",
    "model_5.add(Activation('relu'))\n",
    "model_5.add(BatchNormalization())\n",
    "\n",
    "model_5.add(Conv3D(64, filtersize, padding='same'))\n",
    "model_5.add(Activation('relu'))\n",
    "model_5.add(BatchNormalization())\n",
    "\n",
    "model_5.add(Conv3D(64, filtersize, padding='same'))\n",
    "model_5.add(Activation('relu'))\n",
    "model_5.add(BatchNormalization())\n",
    "\n",
    "\n",
    "model_5.add(MaxPooling3D(pool_size=(2, 2, 2)))\n",
    "\n",
    "\n",
    "model_5.add(Flatten())\n",
    "model_5.add(Dense(dense_neurons,activation='relu'))\n",
    "model_5.add(BatchNormalization())\n",
    "model_5.add(Dropout(0.25))\n",
    "\n",
    "model_5.add(Dense(dense_neurons,activation='relu'))\n",
    "model_5.add(BatchNormalization())\n",
    "model_5.add(Dropout(0.25))\n",
    "\n",
    "model_5.add(Dense(num_classes,activation='softmax'))"
   ]
  },
  {
   "cell_type": "code",
   "execution_count": null,
   "metadata": {},
   "outputs": [],
   "source": [
    "model_5.compile(optimizer=optimiser, loss='categorical_crossentropy', metrics=['categorical_accuracy'])\n",
    "print (model_5.summary())"
   ]
  },
  {
   "cell_type": "code",
   "execution_count": null,
   "metadata": {},
   "outputs": [],
   "source": [
    "checkpoint = ModelCheckpoint(getFilePath(), monitor='val_loss', verbose=1, save_best_only=False, save_weights_only=False, mode='auto',save_freq = 'epoch')\n",
    "\n",
    "callbacks_list = [checkpoint, LR]"
   ]
  },
  {
   "cell_type": "code",
   "execution_count": null,
   "metadata": {},
   "outputs": [],
   "source": [
    "history_5 = model_5.fit(train_generator, steps_per_epoch=steps_per_epoch, epochs=num_epochs, verbose=1, \n",
    "                    callbacks=callbacks_list, validation_data=val_generator, \n",
    "                    validation_steps=validation_steps, class_weight=None, workers=1, initial_epoch=0)"
   ]
  },
  {
   "cell_type": "code",
   "execution_count": null,
   "metadata": {},
   "outputs": [],
   "source": [
    "plot(history_5)"
   ]
  }
 ],
 "metadata": {
  "kernelspec": {
   "display_name": "Python 3",
   "language": "python",
   "name": "python3"
  },
  "language_info": {
   "codemirror_mode": {
    "name": "ipython",
    "version": 3
   },
   "file_extension": ".py",
   "mimetype": "text/x-python",
   "name": "python",
   "nbconvert_exporter": "python",
   "pygments_lexer": "ipython3",
   "version": "3.7.4"
  }
 },
 "nbformat": 4,
 "nbformat_minor": 4
}
