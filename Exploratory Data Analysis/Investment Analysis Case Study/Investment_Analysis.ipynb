{
 "cells": [
  {
   "cell_type": "markdown",
   "metadata": {},
   "source": [
    "# Spark Funds Investment Assignment"
   ]
  },
  {
   "cell_type": "markdown",
   "metadata": {},
   "source": [
    "Importing Required Libraries"
   ]
  },
  {
   "cell_type": "code",
   "execution_count": 2,
   "metadata": {},
   "outputs": [],
   "source": [
    "import pandas as pd\n",
    "import numpy as np\n",
    "import warnings\n",
    "import matplotlib.pyplot as plt \n",
    "import seaborn as sns\n",
    "warnings.filterwarnings('ignore')"
   ]
  },
  {
   "cell_type": "markdown",
   "metadata": {},
   "source": [
    "# Checkpoint 1: Data Cleaning 1"
   ]
  },
  {
   "cell_type": "markdown",
   "metadata": {},
   "source": [
    "# Data Understanding"
   ]
  },
  {
   "cell_type": "markdown",
   "metadata": {},
   "source": [
    "Loading Companies dataframe"
   ]
  },
  {
   "cell_type": "code",
   "execution_count": 3,
   "metadata": {},
   "outputs": [],
   "source": [
    "companies = pd.read_csv(\"companies.csv\", encoding='palmos')"
   ]
  },
  {
   "cell_type": "code",
   "execution_count": 4,
   "metadata": {},
   "outputs": [
    {
     "data": {
      "text/html": [
       "<div>\n",
       "<style scoped>\n",
       "    .dataframe tbody tr th:only-of-type {\n",
       "        vertical-align: middle;\n",
       "    }\n",
       "\n",
       "    .dataframe tbody tr th {\n",
       "        vertical-align: top;\n",
       "    }\n",
       "\n",
       "    .dataframe thead th {\n",
       "        text-align: right;\n",
       "    }\n",
       "</style>\n",
       "<table border=\"1\" class=\"dataframe\">\n",
       "  <thead>\n",
       "    <tr style=\"text-align: right;\">\n",
       "      <th></th>\n",
       "      <th>permalink</th>\n",
       "      <th>name</th>\n",
       "      <th>homepage_url</th>\n",
       "      <th>category_list</th>\n",
       "      <th>status</th>\n",
       "      <th>country_code</th>\n",
       "      <th>state_code</th>\n",
       "      <th>region</th>\n",
       "      <th>city</th>\n",
       "      <th>founded_at</th>\n",
       "    </tr>\n",
       "  </thead>\n",
       "  <tbody>\n",
       "    <tr>\n",
       "      <td>0</td>\n",
       "      <td>/Organization/-Fame</td>\n",
       "      <td>#fame</td>\n",
       "      <td>http://livfame.com</td>\n",
       "      <td>Media</td>\n",
       "      <td>operating</td>\n",
       "      <td>IND</td>\n",
       "      <td>16</td>\n",
       "      <td>Mumbai</td>\n",
       "      <td>Mumbai</td>\n",
       "      <td>NaN</td>\n",
       "    </tr>\n",
       "    <tr>\n",
       "      <td>1</td>\n",
       "      <td>/Organization/-Qounter</td>\n",
       "      <td>:Qounter</td>\n",
       "      <td>http://www.qounter.com</td>\n",
       "      <td>Application Platforms|Real Time|Social Network...</td>\n",
       "      <td>operating</td>\n",
       "      <td>USA</td>\n",
       "      <td>DE</td>\n",
       "      <td>DE - Other</td>\n",
       "      <td>Delaware City</td>\n",
       "      <td>04-09-2014</td>\n",
       "    </tr>\n",
       "    <tr>\n",
       "      <td>2</td>\n",
       "      <td>/Organization/-The-One-Of-Them-Inc-</td>\n",
       "      <td>(THE) ONE of THEM,Inc.</td>\n",
       "      <td>http://oneofthem.jp</td>\n",
       "      <td>Apps|Games|Mobile</td>\n",
       "      <td>operating</td>\n",
       "      <td>NaN</td>\n",
       "      <td>NaN</td>\n",
       "      <td>NaN</td>\n",
       "      <td>NaN</td>\n",
       "      <td>NaN</td>\n",
       "    </tr>\n",
       "    <tr>\n",
       "      <td>3</td>\n",
       "      <td>/Organization/0-6-Com</td>\n",
       "      <td>0-6.com</td>\n",
       "      <td>http://www.0-6.com</td>\n",
       "      <td>Curated Web</td>\n",
       "      <td>operating</td>\n",
       "      <td>CHN</td>\n",
       "      <td>22</td>\n",
       "      <td>Beijing</td>\n",
       "      <td>Beijing</td>\n",
       "      <td>01-01-2007</td>\n",
       "    </tr>\n",
       "    <tr>\n",
       "      <td>4</td>\n",
       "      <td>/Organization/004-Technologies</td>\n",
       "      <td>004 Technologies</td>\n",
       "      <td>http://004gmbh.de/en/004-interact</td>\n",
       "      <td>Software</td>\n",
       "      <td>operating</td>\n",
       "      <td>USA</td>\n",
       "      <td>IL</td>\n",
       "      <td>Springfield, Illinois</td>\n",
       "      <td>Champaign</td>\n",
       "      <td>01-01-2010</td>\n",
       "    </tr>\n",
       "  </tbody>\n",
       "</table>\n",
       "</div>"
      ],
      "text/plain": [
       "                             permalink                    name  \\\n",
       "0                  /Organization/-Fame                   #fame   \n",
       "1               /Organization/-Qounter                :Qounter   \n",
       "2  /Organization/-The-One-Of-Them-Inc-  (THE) ONE of THEM,Inc.   \n",
       "3                /Organization/0-6-Com                 0-6.com   \n",
       "4       /Organization/004-Technologies        004 Technologies   \n",
       "\n",
       "                        homepage_url  \\\n",
       "0                 http://livfame.com   \n",
       "1             http://www.qounter.com   \n",
       "2                http://oneofthem.jp   \n",
       "3                 http://www.0-6.com   \n",
       "4  http://004gmbh.de/en/004-interact   \n",
       "\n",
       "                                       category_list     status country_code  \\\n",
       "0                                              Media  operating          IND   \n",
       "1  Application Platforms|Real Time|Social Network...  operating          USA   \n",
       "2                                  Apps|Games|Mobile  operating          NaN   \n",
       "3                                        Curated Web  operating          CHN   \n",
       "4                                           Software  operating          USA   \n",
       "\n",
       "  state_code                 region           city  founded_at  \n",
       "0         16                 Mumbai         Mumbai         NaN  \n",
       "1         DE             DE - Other  Delaware City  04-09-2014  \n",
       "2        NaN                    NaN            NaN         NaN  \n",
       "3         22                Beijing        Beijing  01-01-2007  \n",
       "4         IL  Springfield, Illinois      Champaign  01-01-2010  "
      ]
     },
     "execution_count": 4,
     "metadata": {},
     "output_type": "execute_result"
    }
   ],
   "source": [
    "#Taking a glance at companies data\n",
    "companies.head()"
   ]
  },
  {
   "cell_type": "code",
   "execution_count": 5,
   "metadata": {},
   "outputs": [
    {
     "data": {
      "text/plain": [
       "(66368, 10)"
      ]
     },
     "execution_count": 5,
     "metadata": {},
     "output_type": "execute_result"
    }
   ],
   "source": [
    "#check for shape of data\n",
    "companies.shape"
   ]
  },
  {
   "cell_type": "code",
   "execution_count": 6,
   "metadata": {},
   "outputs": [
    {
     "data": {
      "text/plain": [
       "Index(['permalink', 'name', 'homepage_url', 'category_list', 'status',\n",
       "       'country_code', 'state_code', 'region', 'city', 'founded_at'],\n",
       "      dtype='object')"
      ]
     },
     "execution_count": 6,
     "metadata": {},
     "output_type": "execute_result"
    }
   ],
   "source": [
    "#checking columns of data\n",
    "companies.columns"
   ]
  },
  {
   "cell_type": "code",
   "execution_count": 7,
   "metadata": {},
   "outputs": [
    {
     "name": "stdout",
     "output_type": "stream",
     "text": [
      "<class 'pandas.core.frame.DataFrame'>\n",
      "RangeIndex: 66368 entries, 0 to 66367\n",
      "Data columns (total 10 columns):\n",
      "permalink        66368 non-null object\n",
      "name             66367 non-null object\n",
      "homepage_url     61310 non-null object\n",
      "category_list    63220 non-null object\n",
      "status           66368 non-null object\n",
      "country_code     59410 non-null object\n",
      "state_code       57821 non-null object\n",
      "region           58338 non-null object\n",
      "city             58340 non-null object\n",
      "founded_at       51147 non-null object\n",
      "dtypes: object(10)\n",
      "memory usage: 5.1+ MB\n"
     ]
    }
   ],
   "source": [
    "#Check data type each columns\n",
    "companies.info()"
   ]
  },
  {
   "cell_type": "markdown",
   "metadata": {},
   "source": [
    "Here \"permalink\" colmn contains uniques ID for each company name. Now we will check unique values in \"Permalink\" column."
   ]
  },
  {
   "cell_type": "code",
   "execution_count": 8,
   "metadata": {},
   "outputs": [
    {
     "data": {
      "text/html": [
       "<div>\n",
       "<style scoped>\n",
       "    .dataframe tbody tr th:only-of-type {\n",
       "        vertical-align: middle;\n",
       "    }\n",
       "\n",
       "    .dataframe tbody tr th {\n",
       "        vertical-align: top;\n",
       "    }\n",
       "\n",
       "    .dataframe thead th {\n",
       "        text-align: right;\n",
       "    }\n",
       "</style>\n",
       "<table border=\"1\" class=\"dataframe\">\n",
       "  <thead>\n",
       "    <tr style=\"text-align: right;\">\n",
       "      <th></th>\n",
       "      <th>permalink</th>\n",
       "      <th>name</th>\n",
       "      <th>homepage_url</th>\n",
       "      <th>category_list</th>\n",
       "      <th>status</th>\n",
       "      <th>country_code</th>\n",
       "      <th>state_code</th>\n",
       "      <th>region</th>\n",
       "      <th>city</th>\n",
       "      <th>founded_at</th>\n",
       "    </tr>\n",
       "  </thead>\n",
       "  <tbody>\n",
       "    <tr>\n",
       "      <td>0</td>\n",
       "      <td>/ORGANIZATION/-FAME</td>\n",
       "      <td>#fame</td>\n",
       "      <td>http://livfame.com</td>\n",
       "      <td>Media</td>\n",
       "      <td>operating</td>\n",
       "      <td>IND</td>\n",
       "      <td>16</td>\n",
       "      <td>Mumbai</td>\n",
       "      <td>Mumbai</td>\n",
       "      <td>NaN</td>\n",
       "    </tr>\n",
       "    <tr>\n",
       "      <td>1</td>\n",
       "      <td>/ORGANIZATION/-QOUNTER</td>\n",
       "      <td>:Qounter</td>\n",
       "      <td>http://www.qounter.com</td>\n",
       "      <td>Application Platforms|Real Time|Social Network...</td>\n",
       "      <td>operating</td>\n",
       "      <td>USA</td>\n",
       "      <td>DE</td>\n",
       "      <td>DE - Other</td>\n",
       "      <td>Delaware City</td>\n",
       "      <td>04-09-2014</td>\n",
       "    </tr>\n",
       "    <tr>\n",
       "      <td>2</td>\n",
       "      <td>/ORGANIZATION/-THE-ONE-OF-THEM-INC-</td>\n",
       "      <td>(THE) ONE of THEM,Inc.</td>\n",
       "      <td>http://oneofthem.jp</td>\n",
       "      <td>Apps|Games|Mobile</td>\n",
       "      <td>operating</td>\n",
       "      <td>NaN</td>\n",
       "      <td>NaN</td>\n",
       "      <td>NaN</td>\n",
       "      <td>NaN</td>\n",
       "      <td>NaN</td>\n",
       "    </tr>\n",
       "    <tr>\n",
       "      <td>3</td>\n",
       "      <td>/ORGANIZATION/0-6-COM</td>\n",
       "      <td>0-6.com</td>\n",
       "      <td>http://www.0-6.com</td>\n",
       "      <td>Curated Web</td>\n",
       "      <td>operating</td>\n",
       "      <td>CHN</td>\n",
       "      <td>22</td>\n",
       "      <td>Beijing</td>\n",
       "      <td>Beijing</td>\n",
       "      <td>01-01-2007</td>\n",
       "    </tr>\n",
       "    <tr>\n",
       "      <td>4</td>\n",
       "      <td>/ORGANIZATION/004-TECHNOLOGIES</td>\n",
       "      <td>004 Technologies</td>\n",
       "      <td>http://004gmbh.de/en/004-interact</td>\n",
       "      <td>Software</td>\n",
       "      <td>operating</td>\n",
       "      <td>USA</td>\n",
       "      <td>IL</td>\n",
       "      <td>Springfield, Illinois</td>\n",
       "      <td>Champaign</td>\n",
       "      <td>01-01-2010</td>\n",
       "    </tr>\n",
       "  </tbody>\n",
       "</table>\n",
       "</div>"
      ],
      "text/plain": [
       "                             permalink                    name  \\\n",
       "0                  /ORGANIZATION/-FAME                   #fame   \n",
       "1               /ORGANIZATION/-QOUNTER                :Qounter   \n",
       "2  /ORGANIZATION/-THE-ONE-OF-THEM-INC-  (THE) ONE of THEM,Inc.   \n",
       "3                /ORGANIZATION/0-6-COM                 0-6.com   \n",
       "4       /ORGANIZATION/004-TECHNOLOGIES        004 Technologies   \n",
       "\n",
       "                        homepage_url  \\\n",
       "0                 http://livfame.com   \n",
       "1             http://www.qounter.com   \n",
       "2                http://oneofthem.jp   \n",
       "3                 http://www.0-6.com   \n",
       "4  http://004gmbh.de/en/004-interact   \n",
       "\n",
       "                                       category_list     status country_code  \\\n",
       "0                                              Media  operating          IND   \n",
       "1  Application Platforms|Real Time|Social Network...  operating          USA   \n",
       "2                                  Apps|Games|Mobile  operating          NaN   \n",
       "3                                        Curated Web  operating          CHN   \n",
       "4                                           Software  operating          USA   \n",
       "\n",
       "  state_code                 region           city  founded_at  \n",
       "0         16                 Mumbai         Mumbai         NaN  \n",
       "1         DE             DE - Other  Delaware City  04-09-2014  \n",
       "2        NaN                    NaN            NaN         NaN  \n",
       "3         22                Beijing        Beijing  01-01-2007  \n",
       "4         IL  Springfield, Illinois      Champaign  01-01-2010  "
      ]
     },
     "execution_count": 8,
     "metadata": {},
     "output_type": "execute_result"
    }
   ],
   "source": [
    "#Converting all the elements in columns to upper case to avoid any duplicate values\n",
    "companies['permalink'] = companies['permalink'].str.upper()\n",
    "companies.head()"
   ]
  },
  {
   "cell_type": "code",
   "execution_count": 9,
   "metadata": {},
   "outputs": [
    {
     "data": {
      "text/plain": [
       "66368"
      ]
     },
     "execution_count": 9,
     "metadata": {},
     "output_type": "execute_result"
    }
   ],
   "source": [
    "companies['permalink'].nunique()"
   ]
  },
  {
   "cell_type": "markdown",
   "metadata": {},
   "source": [
    "Loading Rounds2 Dataframe"
   ]
  },
  {
   "cell_type": "code",
   "execution_count": 10,
   "metadata": {},
   "outputs": [],
   "source": [
    "rounds2 = pd.read_csv('rounds2.csv', encoding='palmos')"
   ]
  },
  {
   "cell_type": "code",
   "execution_count": 11,
   "metadata": {},
   "outputs": [
    {
     "data": {
      "text/html": [
       "<div>\n",
       "<style scoped>\n",
       "    .dataframe tbody tr th:only-of-type {\n",
       "        vertical-align: middle;\n",
       "    }\n",
       "\n",
       "    .dataframe tbody tr th {\n",
       "        vertical-align: top;\n",
       "    }\n",
       "\n",
       "    .dataframe thead th {\n",
       "        text-align: right;\n",
       "    }\n",
       "</style>\n",
       "<table border=\"1\" class=\"dataframe\">\n",
       "  <thead>\n",
       "    <tr style=\"text-align: right;\">\n",
       "      <th></th>\n",
       "      <th>company_permalink</th>\n",
       "      <th>funding_round_permalink</th>\n",
       "      <th>funding_round_type</th>\n",
       "      <th>funding_round_code</th>\n",
       "      <th>funded_at</th>\n",
       "      <th>raised_amount_usd</th>\n",
       "    </tr>\n",
       "  </thead>\n",
       "  <tbody>\n",
       "    <tr>\n",
       "      <td>0</td>\n",
       "      <td>/organization/-fame</td>\n",
       "      <td>/funding-round/9a01d05418af9f794eebff7ace91f638</td>\n",
       "      <td>venture</td>\n",
       "      <td>B</td>\n",
       "      <td>05-01-2015</td>\n",
       "      <td>10000000.0</td>\n",
       "    </tr>\n",
       "    <tr>\n",
       "      <td>1</td>\n",
       "      <td>/ORGANIZATION/-QOUNTER</td>\n",
       "      <td>/funding-round/22dacff496eb7acb2b901dec1dfe5633</td>\n",
       "      <td>venture</td>\n",
       "      <td>A</td>\n",
       "      <td>14-10-2014</td>\n",
       "      <td>NaN</td>\n",
       "    </tr>\n",
       "    <tr>\n",
       "      <td>2</td>\n",
       "      <td>/organization/-qounter</td>\n",
       "      <td>/funding-round/b44fbb94153f6cdef13083530bb48030</td>\n",
       "      <td>seed</td>\n",
       "      <td>NaN</td>\n",
       "      <td>01-03-2014</td>\n",
       "      <td>700000.0</td>\n",
       "    </tr>\n",
       "    <tr>\n",
       "      <td>3</td>\n",
       "      <td>/ORGANIZATION/-THE-ONE-OF-THEM-INC-</td>\n",
       "      <td>/funding-round/650b8f704416801069bb178a1418776b</td>\n",
       "      <td>venture</td>\n",
       "      <td>B</td>\n",
       "      <td>30-01-2014</td>\n",
       "      <td>3406878.0</td>\n",
       "    </tr>\n",
       "    <tr>\n",
       "      <td>4</td>\n",
       "      <td>/organization/0-6-com</td>\n",
       "      <td>/funding-round/5727accaeaa57461bd22a9bdd945382d</td>\n",
       "      <td>venture</td>\n",
       "      <td>A</td>\n",
       "      <td>19-03-2008</td>\n",
       "      <td>2000000.0</td>\n",
       "    </tr>\n",
       "  </tbody>\n",
       "</table>\n",
       "</div>"
      ],
      "text/plain": [
       "                     company_permalink  \\\n",
       "0                  /organization/-fame   \n",
       "1               /ORGANIZATION/-QOUNTER   \n",
       "2               /organization/-qounter   \n",
       "3  /ORGANIZATION/-THE-ONE-OF-THEM-INC-   \n",
       "4                /organization/0-6-com   \n",
       "\n",
       "                           funding_round_permalink funding_round_type  \\\n",
       "0  /funding-round/9a01d05418af9f794eebff7ace91f638            venture   \n",
       "1  /funding-round/22dacff496eb7acb2b901dec1dfe5633            venture   \n",
       "2  /funding-round/b44fbb94153f6cdef13083530bb48030               seed   \n",
       "3  /funding-round/650b8f704416801069bb178a1418776b            venture   \n",
       "4  /funding-round/5727accaeaa57461bd22a9bdd945382d            venture   \n",
       "\n",
       "  funding_round_code   funded_at  raised_amount_usd  \n",
       "0                  B  05-01-2015         10000000.0  \n",
       "1                  A  14-10-2014                NaN  \n",
       "2                NaN  01-03-2014           700000.0  \n",
       "3                  B  30-01-2014          3406878.0  \n",
       "4                  A  19-03-2008          2000000.0  "
      ]
     },
     "execution_count": 11,
     "metadata": {},
     "output_type": "execute_result"
    }
   ],
   "source": [
    "#checking head for rounds2 dataframe\n",
    "rounds2.head()"
   ]
  },
  {
   "cell_type": "code",
   "execution_count": 12,
   "metadata": {},
   "outputs": [
    {
     "data": {
      "text/plain": [
       "(114949, 6)"
      ]
     },
     "execution_count": 12,
     "metadata": {},
     "output_type": "execute_result"
    }
   ],
   "source": [
    "#check shape of rounds2\n",
    "rounds2.shape"
   ]
  },
  {
   "cell_type": "code",
   "execution_count": 13,
   "metadata": {},
   "outputs": [
    {
     "name": "stdout",
     "output_type": "stream",
     "text": [
      "<class 'pandas.core.frame.DataFrame'>\n",
      "RangeIndex: 114949 entries, 0 to 114948\n",
      "Data columns (total 6 columns):\n",
      "company_permalink          114949 non-null object\n",
      "funding_round_permalink    114949 non-null object\n",
      "funding_round_type         114949 non-null object\n",
      "funding_round_code         31140 non-null object\n",
      "funded_at                  114949 non-null object\n",
      "raised_amount_usd          94959 non-null float64\n",
      "dtypes: float64(1), object(5)\n",
      "memory usage: 5.3+ MB\n"
     ]
    }
   ],
   "source": [
    "rounds2.info()"
   ]
  },
  {
   "cell_type": "markdown",
   "metadata": {},
   "source": [
    "Here in rounds 2 column \"company_permalink\" seems as same as \"permalink\" column in companies dataframe.Lets check unique values for the same"
   ]
  },
  {
   "cell_type": "code",
   "execution_count": 14,
   "metadata": {},
   "outputs": [],
   "source": [
    "#Converting all the elements in columns to upper case to avoid any duplicate values\n",
    "rounds2['company_permalink'] = rounds2['company_permalink'].str.upper()"
   ]
  },
  {
   "cell_type": "code",
   "execution_count": 15,
   "metadata": {},
   "outputs": [
    {
     "data": {
      "text/plain": [
       "66368"
      ]
     },
     "execution_count": 15,
     "metadata": {},
     "output_type": "execute_result"
    }
   ],
   "source": [
    "rounds2.company_permalink.nunique()"
   ]
  },
  {
   "cell_type": "markdown",
   "metadata": {},
   "source": [
    "Now to check if there are any companies present in rounds2 which are not present in companies file."
   ]
  },
  {
   "cell_type": "code",
   "execution_count": 16,
   "metadata": {},
   "outputs": [
    {
     "data": {
      "text/html": [
       "<div>\n",
       "<style scoped>\n",
       "    .dataframe tbody tr th:only-of-type {\n",
       "        vertical-align: middle;\n",
       "    }\n",
       "\n",
       "    .dataframe tbody tr th {\n",
       "        vertical-align: top;\n",
       "    }\n",
       "\n",
       "    .dataframe thead th {\n",
       "        text-align: right;\n",
       "    }\n",
       "</style>\n",
       "<table border=\"1\" class=\"dataframe\">\n",
       "  <thead>\n",
       "    <tr style=\"text-align: right;\">\n",
       "      <th></th>\n",
       "      <th>company_permalink</th>\n",
       "      <th>funding_round_permalink</th>\n",
       "      <th>funding_round_type</th>\n",
       "      <th>funding_round_code</th>\n",
       "      <th>funded_at</th>\n",
       "      <th>raised_amount_usd</th>\n",
       "    </tr>\n",
       "  </thead>\n",
       "  <tbody>\n",
       "  </tbody>\n",
       "</table>\n",
       "</div>"
      ],
      "text/plain": [
       "Empty DataFrame\n",
       "Columns: [company_permalink, funding_round_permalink, funding_round_type, funding_round_code, funded_at, raised_amount_usd]\n",
       "Index: []"
      ]
     },
     "execution_count": 16,
     "metadata": {},
     "output_type": "execute_result"
    }
   ],
   "source": [
    "rounds2[~rounds2['company_permalink'].str.upper().isin(companies['permalink'].str.upper())]"
   ]
  },
  {
   "cell_type": "markdown",
   "metadata": {},
   "source": [
    "As per above result there are no such companies present in rounds2 file which are not in companies file."
   ]
  },
  {
   "cell_type": "markdown",
   "metadata": {},
   "source": [
    "Now as per observations we merge two files on common column \"permalink\""
   ]
  },
  {
   "cell_type": "code",
   "execution_count": 17,
   "metadata": {},
   "outputs": [],
   "source": [
    "#Merging two dataframes\n",
    "master_frame = pd.merge(rounds2, companies, how=\"inner\", left_on=\"company_permalink\", right_on=\"permalink\")\n"
   ]
  },
  {
   "cell_type": "code",
   "execution_count": 18,
   "metadata": {},
   "outputs": [
    {
     "data": {
      "text/html": [
       "<div>\n",
       "<style scoped>\n",
       "    .dataframe tbody tr th:only-of-type {\n",
       "        vertical-align: middle;\n",
       "    }\n",
       "\n",
       "    .dataframe tbody tr th {\n",
       "        vertical-align: top;\n",
       "    }\n",
       "\n",
       "    .dataframe thead th {\n",
       "        text-align: right;\n",
       "    }\n",
       "</style>\n",
       "<table border=\"1\" class=\"dataframe\">\n",
       "  <thead>\n",
       "    <tr style=\"text-align: right;\">\n",
       "      <th></th>\n",
       "      <th>company_permalink</th>\n",
       "      <th>funding_round_permalink</th>\n",
       "      <th>funding_round_type</th>\n",
       "      <th>funding_round_code</th>\n",
       "      <th>funded_at</th>\n",
       "      <th>raised_amount_usd</th>\n",
       "      <th>permalink</th>\n",
       "      <th>name</th>\n",
       "      <th>homepage_url</th>\n",
       "      <th>category_list</th>\n",
       "      <th>status</th>\n",
       "      <th>country_code</th>\n",
       "      <th>state_code</th>\n",
       "      <th>region</th>\n",
       "      <th>city</th>\n",
       "      <th>founded_at</th>\n",
       "    </tr>\n",
       "  </thead>\n",
       "  <tbody>\n",
       "    <tr>\n",
       "      <td>0</td>\n",
       "      <td>/ORGANIZATION/-FAME</td>\n",
       "      <td>/funding-round/9a01d05418af9f794eebff7ace91f638</td>\n",
       "      <td>venture</td>\n",
       "      <td>B</td>\n",
       "      <td>05-01-2015</td>\n",
       "      <td>10000000.0</td>\n",
       "      <td>/ORGANIZATION/-FAME</td>\n",
       "      <td>#fame</td>\n",
       "      <td>http://livfame.com</td>\n",
       "      <td>Media</td>\n",
       "      <td>operating</td>\n",
       "      <td>IND</td>\n",
       "      <td>16</td>\n",
       "      <td>Mumbai</td>\n",
       "      <td>Mumbai</td>\n",
       "      <td>NaN</td>\n",
       "    </tr>\n",
       "    <tr>\n",
       "      <td>1</td>\n",
       "      <td>/ORGANIZATION/-QOUNTER</td>\n",
       "      <td>/funding-round/22dacff496eb7acb2b901dec1dfe5633</td>\n",
       "      <td>venture</td>\n",
       "      <td>A</td>\n",
       "      <td>14-10-2014</td>\n",
       "      <td>NaN</td>\n",
       "      <td>/ORGANIZATION/-QOUNTER</td>\n",
       "      <td>:Qounter</td>\n",
       "      <td>http://www.qounter.com</td>\n",
       "      <td>Application Platforms|Real Time|Social Network...</td>\n",
       "      <td>operating</td>\n",
       "      <td>USA</td>\n",
       "      <td>DE</td>\n",
       "      <td>DE - Other</td>\n",
       "      <td>Delaware City</td>\n",
       "      <td>04-09-2014</td>\n",
       "    </tr>\n",
       "    <tr>\n",
       "      <td>2</td>\n",
       "      <td>/ORGANIZATION/-QOUNTER</td>\n",
       "      <td>/funding-round/b44fbb94153f6cdef13083530bb48030</td>\n",
       "      <td>seed</td>\n",
       "      <td>NaN</td>\n",
       "      <td>01-03-2014</td>\n",
       "      <td>700000.0</td>\n",
       "      <td>/ORGANIZATION/-QOUNTER</td>\n",
       "      <td>:Qounter</td>\n",
       "      <td>http://www.qounter.com</td>\n",
       "      <td>Application Platforms|Real Time|Social Network...</td>\n",
       "      <td>operating</td>\n",
       "      <td>USA</td>\n",
       "      <td>DE</td>\n",
       "      <td>DE - Other</td>\n",
       "      <td>Delaware City</td>\n",
       "      <td>04-09-2014</td>\n",
       "    </tr>\n",
       "    <tr>\n",
       "      <td>3</td>\n",
       "      <td>/ORGANIZATION/-THE-ONE-OF-THEM-INC-</td>\n",
       "      <td>/funding-round/650b8f704416801069bb178a1418776b</td>\n",
       "      <td>venture</td>\n",
       "      <td>B</td>\n",
       "      <td>30-01-2014</td>\n",
       "      <td>3406878.0</td>\n",
       "      <td>/ORGANIZATION/-THE-ONE-OF-THEM-INC-</td>\n",
       "      <td>(THE) ONE of THEM,Inc.</td>\n",
       "      <td>http://oneofthem.jp</td>\n",
       "      <td>Apps|Games|Mobile</td>\n",
       "      <td>operating</td>\n",
       "      <td>NaN</td>\n",
       "      <td>NaN</td>\n",
       "      <td>NaN</td>\n",
       "      <td>NaN</td>\n",
       "      <td>NaN</td>\n",
       "    </tr>\n",
       "    <tr>\n",
       "      <td>4</td>\n",
       "      <td>/ORGANIZATION/0-6-COM</td>\n",
       "      <td>/funding-round/5727accaeaa57461bd22a9bdd945382d</td>\n",
       "      <td>venture</td>\n",
       "      <td>A</td>\n",
       "      <td>19-03-2008</td>\n",
       "      <td>2000000.0</td>\n",
       "      <td>/ORGANIZATION/0-6-COM</td>\n",
       "      <td>0-6.com</td>\n",
       "      <td>http://www.0-6.com</td>\n",
       "      <td>Curated Web</td>\n",
       "      <td>operating</td>\n",
       "      <td>CHN</td>\n",
       "      <td>22</td>\n",
       "      <td>Beijing</td>\n",
       "      <td>Beijing</td>\n",
       "      <td>01-01-2007</td>\n",
       "    </tr>\n",
       "  </tbody>\n",
       "</table>\n",
       "</div>"
      ],
      "text/plain": [
       "                     company_permalink  \\\n",
       "0                  /ORGANIZATION/-FAME   \n",
       "1               /ORGANIZATION/-QOUNTER   \n",
       "2               /ORGANIZATION/-QOUNTER   \n",
       "3  /ORGANIZATION/-THE-ONE-OF-THEM-INC-   \n",
       "4                /ORGANIZATION/0-6-COM   \n",
       "\n",
       "                           funding_round_permalink funding_round_type  \\\n",
       "0  /funding-round/9a01d05418af9f794eebff7ace91f638            venture   \n",
       "1  /funding-round/22dacff496eb7acb2b901dec1dfe5633            venture   \n",
       "2  /funding-round/b44fbb94153f6cdef13083530bb48030               seed   \n",
       "3  /funding-round/650b8f704416801069bb178a1418776b            venture   \n",
       "4  /funding-round/5727accaeaa57461bd22a9bdd945382d            venture   \n",
       "\n",
       "  funding_round_code   funded_at  raised_amount_usd  \\\n",
       "0                  B  05-01-2015         10000000.0   \n",
       "1                  A  14-10-2014                NaN   \n",
       "2                NaN  01-03-2014           700000.0   \n",
       "3                  B  30-01-2014          3406878.0   \n",
       "4                  A  19-03-2008          2000000.0   \n",
       "\n",
       "                             permalink                    name  \\\n",
       "0                  /ORGANIZATION/-FAME                   #fame   \n",
       "1               /ORGANIZATION/-QOUNTER                :Qounter   \n",
       "2               /ORGANIZATION/-QOUNTER                :Qounter   \n",
       "3  /ORGANIZATION/-THE-ONE-OF-THEM-INC-  (THE) ONE of THEM,Inc.   \n",
       "4                /ORGANIZATION/0-6-COM                 0-6.com   \n",
       "\n",
       "             homepage_url                                      category_list  \\\n",
       "0      http://livfame.com                                              Media   \n",
       "1  http://www.qounter.com  Application Platforms|Real Time|Social Network...   \n",
       "2  http://www.qounter.com  Application Platforms|Real Time|Social Network...   \n",
       "3     http://oneofthem.jp                                  Apps|Games|Mobile   \n",
       "4      http://www.0-6.com                                        Curated Web   \n",
       "\n",
       "      status country_code state_code      region           city  founded_at  \n",
       "0  operating          IND         16      Mumbai         Mumbai         NaN  \n",
       "1  operating          USA         DE  DE - Other  Delaware City  04-09-2014  \n",
       "2  operating          USA         DE  DE - Other  Delaware City  04-09-2014  \n",
       "3  operating          NaN        NaN         NaN            NaN         NaN  \n",
       "4  operating          CHN         22     Beijing        Beijing  01-01-2007  "
      ]
     },
     "execution_count": 18,
     "metadata": {},
     "output_type": "execute_result"
    }
   ],
   "source": [
    "#check merged dataframe\n",
    "master_frame.head()"
   ]
  },
  {
   "cell_type": "code",
   "execution_count": 19,
   "metadata": {},
   "outputs": [],
   "source": [
    "#Dropping extra column \"permalink\"\n",
    "master_frame = master_frame.drop(['permalink'],axis = 1)"
   ]
  },
  {
   "cell_type": "code",
   "execution_count": 20,
   "metadata": {},
   "outputs": [
    {
     "data": {
      "text/plain": [
       "(114949, 15)"
      ]
     },
     "execution_count": 20,
     "metadata": {},
     "output_type": "execute_result"
    }
   ],
   "source": [
    "#checking number of rows and columns in master_frame\n",
    "master_frame.shape"
   ]
  },
  {
   "cell_type": "markdown",
   "metadata": {},
   "source": [
    "# Missing values treatment"
   ]
  },
  {
   "cell_type": "code",
   "execution_count": 21,
   "metadata": {},
   "outputs": [
    {
     "data": {
      "text/plain": [
       "company_permalink              0\n",
       "funding_round_permalink        0\n",
       "funding_round_type             0\n",
       "funding_round_code         83809\n",
       "funded_at                      0\n",
       "raised_amount_usd          19990\n",
       "name                           1\n",
       "homepage_url                6134\n",
       "category_list               3410\n",
       "status                         0\n",
       "country_code                8678\n",
       "state_code                 10946\n",
       "region                     10167\n",
       "city                       10164\n",
       "founded_at                 20521\n",
       "dtype: int64"
      ]
     },
     "execution_count": 21,
     "metadata": {},
     "output_type": "execute_result"
    }
   ],
   "source": [
    "master_frame.isnull().sum()"
   ]
  },
  {
   "cell_type": "code",
   "execution_count": 22,
   "metadata": {},
   "outputs": [
    {
     "data": {
      "text/plain": [
       "company_permalink           0.00\n",
       "funding_round_permalink     0.00\n",
       "funding_round_type          0.00\n",
       "funding_round_code         72.91\n",
       "funded_at                   0.00\n",
       "raised_amount_usd          17.39\n",
       "name                        0.00\n",
       "homepage_url                5.34\n",
       "category_list               2.97\n",
       "status                      0.00\n",
       "country_code                7.55\n",
       "state_code                  9.52\n",
       "region                      8.84\n",
       "city                        8.84\n",
       "founded_at                 17.85\n",
       "dtype: float64"
      ]
     },
     "execution_count": 22,
     "metadata": {},
     "output_type": "execute_result"
    }
   ],
   "source": [
    "#checking percentage of missing values\n",
    "round(100*(master_frame.isnull().sum()/len(master_frame.index)),2)"
   ]
  },
  {
   "cell_type": "markdown",
   "metadata": {},
   "source": [
    "Here in abouve result we can see the percentage of missing values for each column present in master_frame.\n",
    "1. As per observation our required column for further analysis which are having missing values are \"raised_amount_usd\",\"category_list\" and \"country_code\" .\n",
    "2. Column \"raised_amount_usd\" having 17% mising values but as its our main column based on which our investment decisions will be made so we should not drop or impute that much missing missing values as it will likesly to disturbe our end result.\n",
    "3. For columns \"country_code\" and \"category_list\" have missing values less than 10% we will drop these values as numbers are less.\n",
    "4. For other columns having missing values,these columns will not play such important role in our further analysis so we will not treat its missing values. "
   ]
  },
  {
   "cell_type": "code",
   "execution_count": 23,
   "metadata": {},
   "outputs": [
    {
     "data": {
      "text/plain": [
       "company_permalink              0\n",
       "funding_round_permalink        0\n",
       "funding_round_type             0\n",
       "funding_round_code         76684\n",
       "funded_at                      0\n",
       "raised_amount_usd          17163\n",
       "name                           1\n",
       "homepage_url                4552\n",
       "category_list               1739\n",
       "status                         0\n",
       "country_code                   0\n",
       "state_code                  2268\n",
       "region                      1489\n",
       "city                        1486\n",
       "founded_at                 16808\n",
       "dtype: int64"
      ]
     },
     "execution_count": 23,
     "metadata": {},
     "output_type": "execute_result"
    }
   ],
   "source": [
    "#dropping missing values for 'country_code' column.\n",
    "master_frame = master_frame[~pd.isnull(master_frame[\"country_code\"])]\n",
    "master_frame.isnull().sum()"
   ]
  },
  {
   "cell_type": "code",
   "execution_count": 24,
   "metadata": {},
   "outputs": [
    {
     "data": {
      "text/plain": [
       "company_permalink              0\n",
       "funding_round_permalink        0\n",
       "funding_round_type             0\n",
       "funding_round_code         75198\n",
       "funded_at                      0\n",
       "raised_amount_usd          16003\n",
       "name                           1\n",
       "homepage_url                4220\n",
       "category_list                  0\n",
       "status                         0\n",
       "country_code                   0\n",
       "state_code                  2213\n",
       "region                      1455\n",
       "city                        1452\n",
       "founded_at                 16063\n",
       "dtype: int64"
      ]
     },
     "execution_count": 24,
     "metadata": {},
     "output_type": "execute_result"
    }
   ],
   "source": [
    "##dropping missing values for 'ategory_list' column.\n",
    "master_frame = master_frame[~pd.isnull(master_frame[\"category_list\"])]\n",
    "master_frame.isnull().sum()"
   ]
  },
  {
   "cell_type": "markdown",
   "metadata": {},
   "source": [
    "# Checkpoint 2: Funding Type Analysis"
   ]
  },
  {
   "cell_type": "markdown",
   "metadata": {},
   "source": [
    "Selection of Investment Type from Seed, Angel, Venture and Private Equity based on investment amount in range of 5 to 15 milion USD."
   ]
  },
  {
   "cell_type": "markdown",
   "metadata": {},
   "source": [
    "Checking outliars in \"raised_amount_usd\" column."
   ]
  },
  {
   "cell_type": "code",
   "execution_count": 25,
   "metadata": {},
   "outputs": [
    {
     "data": {
      "text/plain": [
       "count    8.852900e+04\n",
       "mean     1.047385e+07\n",
       "std      1.118118e+08\n",
       "min      0.000000e+00\n",
       "25%      3.705180e+05\n",
       "50%      1.800000e+06\n",
       "75%      7.100000e+06\n",
       "max      2.127194e+10\n",
       "Name: raised_amount_usd, dtype: float64"
      ]
     },
     "execution_count": 25,
     "metadata": {},
     "output_type": "execute_result"
    }
   ],
   "source": [
    "master_frame.raised_amount_usd.describe()"
   ]
  },
  {
   "cell_type": "markdown",
   "metadata": {},
   "source": [
    "As per above observation we can say that there are outliers present, there is large difference between 25% and min also between 75% and max. Thus we take median as a reprensentative for investment type."
   ]
  },
  {
   "cell_type": "code",
   "execution_count": 26,
   "metadata": {},
   "outputs": [
    {
     "data": {
      "text/plain": [
       "funding_round_type\n",
       "angel                      414906.0\n",
       "convertible_note           300000.0\n",
       "debt_financing            1096653.0\n",
       "equity_crowdfunding         85000.0\n",
       "grant                      225000.0\n",
       "non_equity_assistance       60000.0\n",
       "post_ipo_debt            19900000.0\n",
       "post_ipo_equity          12262852.5\n",
       "private_equity           20000000.0\n",
       "product_crowdfunding       211500.0\n",
       "secondary_market         45850000.0\n",
       "seed                       300000.0\n",
       "undisclosed               1100000.0\n",
       "venture                   5000000.0\n",
       "Name: raised_amount_usd, dtype: float64"
      ]
     },
     "execution_count": 26,
     "metadata": {},
     "output_type": "execute_result"
    }
   ],
   "source": [
    "#checking median for each investment type\n",
    "master_frame.groupby('funding_round_type')['raised_amount_usd'].median()"
   ]
  },
  {
   "cell_type": "markdown",
   "metadata": {},
   "source": [
    "Here in above result we can say that Venture type will be most suitable for Sparks Funds as its value in 5 to 15 million."
   ]
  },
  {
   "cell_type": "markdown",
   "metadata": {},
   "source": [
    "Now we will create sub dataframe for venture type only."
   ]
  },
  {
   "cell_type": "code",
   "execution_count": 27,
   "metadata": {},
   "outputs": [],
   "source": [
    "venture_df = master_frame.loc[master_frame['funding_round_type'] == 'venture', :]"
   ]
  },
  {
   "cell_type": "code",
   "execution_count": 28,
   "metadata": {},
   "outputs": [
    {
     "data": {
      "text/plain": [
       "(52024, 15)"
      ]
     },
     "execution_count": 28,
     "metadata": {},
     "output_type": "execute_result"
    }
   ],
   "source": [
    "venture_df.shape"
   ]
  },
  {
   "cell_type": "code",
   "execution_count": 29,
   "metadata": {},
   "outputs": [
    {
     "data": {
      "text/html": [
       "<div>\n",
       "<style scoped>\n",
       "    .dataframe tbody tr th:only-of-type {\n",
       "        vertical-align: middle;\n",
       "    }\n",
       "\n",
       "    .dataframe tbody tr th {\n",
       "        vertical-align: top;\n",
       "    }\n",
       "\n",
       "    .dataframe thead th {\n",
       "        text-align: right;\n",
       "    }\n",
       "</style>\n",
       "<table border=\"1\" class=\"dataframe\">\n",
       "  <thead>\n",
       "    <tr style=\"text-align: right;\">\n",
       "      <th></th>\n",
       "      <th>company_permalink</th>\n",
       "      <th>funding_round_permalink</th>\n",
       "      <th>funding_round_type</th>\n",
       "      <th>funding_round_code</th>\n",
       "      <th>funded_at</th>\n",
       "      <th>raised_amount_usd</th>\n",
       "      <th>name</th>\n",
       "      <th>homepage_url</th>\n",
       "      <th>category_list</th>\n",
       "      <th>status</th>\n",
       "      <th>country_code</th>\n",
       "      <th>state_code</th>\n",
       "      <th>region</th>\n",
       "      <th>city</th>\n",
       "      <th>founded_at</th>\n",
       "    </tr>\n",
       "  </thead>\n",
       "  <tbody>\n",
       "    <tr>\n",
       "      <td>0</td>\n",
       "      <td>/ORGANIZATION/-FAME</td>\n",
       "      <td>/funding-round/9a01d05418af9f794eebff7ace91f638</td>\n",
       "      <td>venture</td>\n",
       "      <td>B</td>\n",
       "      <td>05-01-2015</td>\n",
       "      <td>10000000.0</td>\n",
       "      <td>#fame</td>\n",
       "      <td>http://livfame.com</td>\n",
       "      <td>Media</td>\n",
       "      <td>operating</td>\n",
       "      <td>IND</td>\n",
       "      <td>16</td>\n",
       "      <td>Mumbai</td>\n",
       "      <td>Mumbai</td>\n",
       "      <td>NaN</td>\n",
       "    </tr>\n",
       "    <tr>\n",
       "      <td>1</td>\n",
       "      <td>/ORGANIZATION/-QOUNTER</td>\n",
       "      <td>/funding-round/22dacff496eb7acb2b901dec1dfe5633</td>\n",
       "      <td>venture</td>\n",
       "      <td>A</td>\n",
       "      <td>14-10-2014</td>\n",
       "      <td>NaN</td>\n",
       "      <td>:Qounter</td>\n",
       "      <td>http://www.qounter.com</td>\n",
       "      <td>Application Platforms|Real Time|Social Network...</td>\n",
       "      <td>operating</td>\n",
       "      <td>USA</td>\n",
       "      <td>DE</td>\n",
       "      <td>DE - Other</td>\n",
       "      <td>Delaware City</td>\n",
       "      <td>04-09-2014</td>\n",
       "    </tr>\n",
       "    <tr>\n",
       "      <td>4</td>\n",
       "      <td>/ORGANIZATION/0-6-COM</td>\n",
       "      <td>/funding-round/5727accaeaa57461bd22a9bdd945382d</td>\n",
       "      <td>venture</td>\n",
       "      <td>A</td>\n",
       "      <td>19-03-2008</td>\n",
       "      <td>2000000.0</td>\n",
       "      <td>0-6.com</td>\n",
       "      <td>http://www.0-6.com</td>\n",
       "      <td>Curated Web</td>\n",
       "      <td>operating</td>\n",
       "      <td>CHN</td>\n",
       "      <td>22</td>\n",
       "      <td>Beijing</td>\n",
       "      <td>Beijing</td>\n",
       "      <td>01-01-2007</td>\n",
       "    </tr>\n",
       "    <tr>\n",
       "      <td>5</td>\n",
       "      <td>/ORGANIZATION/004-TECHNOLOGIES</td>\n",
       "      <td>/funding-round/1278dd4e6a37fa4b7d7e06c21b3c1830</td>\n",
       "      <td>venture</td>\n",
       "      <td>NaN</td>\n",
       "      <td>24-07-2014</td>\n",
       "      <td>NaN</td>\n",
       "      <td>004 Technologies</td>\n",
       "      <td>http://004gmbh.de/en/004-interact</td>\n",
       "      <td>Software</td>\n",
       "      <td>operating</td>\n",
       "      <td>USA</td>\n",
       "      <td>IL</td>\n",
       "      <td>Springfield, Illinois</td>\n",
       "      <td>Champaign</td>\n",
       "      <td>01-01-2010</td>\n",
       "    </tr>\n",
       "    <tr>\n",
       "      <td>8</td>\n",
       "      <td>/ORGANIZATION/0NDINE-BIOMEDICAL-INC</td>\n",
       "      <td>/funding-round/954b9499724b946ad8c396a57a5f3b72</td>\n",
       "      <td>venture</td>\n",
       "      <td>NaN</td>\n",
       "      <td>21-12-2009</td>\n",
       "      <td>719491.0</td>\n",
       "      <td>Ondine Biomedical Inc.</td>\n",
       "      <td>http://ondinebio.com</td>\n",
       "      <td>Biotechnology</td>\n",
       "      <td>operating</td>\n",
       "      <td>CAN</td>\n",
       "      <td>BC</td>\n",
       "      <td>Vancouver</td>\n",
       "      <td>Vancouver</td>\n",
       "      <td>01-01-1997</td>\n",
       "    </tr>\n",
       "  </tbody>\n",
       "</table>\n",
       "</div>"
      ],
      "text/plain": [
       "                     company_permalink  \\\n",
       "0                  /ORGANIZATION/-FAME   \n",
       "1               /ORGANIZATION/-QOUNTER   \n",
       "4                /ORGANIZATION/0-6-COM   \n",
       "5       /ORGANIZATION/004-TECHNOLOGIES   \n",
       "8  /ORGANIZATION/0NDINE-BIOMEDICAL-INC   \n",
       "\n",
       "                           funding_round_permalink funding_round_type  \\\n",
       "0  /funding-round/9a01d05418af9f794eebff7ace91f638            venture   \n",
       "1  /funding-round/22dacff496eb7acb2b901dec1dfe5633            venture   \n",
       "4  /funding-round/5727accaeaa57461bd22a9bdd945382d            venture   \n",
       "5  /funding-round/1278dd4e6a37fa4b7d7e06c21b3c1830            venture   \n",
       "8  /funding-round/954b9499724b946ad8c396a57a5f3b72            venture   \n",
       "\n",
       "  funding_round_code   funded_at  raised_amount_usd                    name  \\\n",
       "0                  B  05-01-2015         10000000.0                   #fame   \n",
       "1                  A  14-10-2014                NaN                :Qounter   \n",
       "4                  A  19-03-2008          2000000.0                 0-6.com   \n",
       "5                NaN  24-07-2014                NaN        004 Technologies   \n",
       "8                NaN  21-12-2009           719491.0  Ondine Biomedical Inc.   \n",
       "\n",
       "                        homepage_url  \\\n",
       "0                 http://livfame.com   \n",
       "1             http://www.qounter.com   \n",
       "4                 http://www.0-6.com   \n",
       "5  http://004gmbh.de/en/004-interact   \n",
       "8               http://ondinebio.com   \n",
       "\n",
       "                                       category_list     status country_code  \\\n",
       "0                                              Media  operating          IND   \n",
       "1  Application Platforms|Real Time|Social Network...  operating          USA   \n",
       "4                                        Curated Web  operating          CHN   \n",
       "5                                           Software  operating          USA   \n",
       "8                                      Biotechnology  operating          CAN   \n",
       "\n",
       "  state_code                 region           city  founded_at  \n",
       "0         16                 Mumbai         Mumbai         NaN  \n",
       "1         DE             DE - Other  Delaware City  04-09-2014  \n",
       "4         22                Beijing        Beijing  01-01-2007  \n",
       "5         IL  Springfield, Illinois      Champaign  01-01-2010  \n",
       "8         BC              Vancouver      Vancouver  01-01-1997  "
      ]
     },
     "execution_count": 29,
     "metadata": {},
     "output_type": "execute_result"
    }
   ],
   "source": [
    "venture_df.head()"
   ]
  },
  {
   "cell_type": "markdown",
   "metadata": {},
   "source": [
    "# Checkpoint 3: Country Analysis"
   ]
  },
  {
   "cell_type": "markdown",
   "metadata": {},
   "source": [
    "As we know the best investment type for Sparks Funds, now lets find out top 9 best countries with highest total fundings having venture investment type."
   ]
  },
  {
   "cell_type": "code",
   "execution_count": 30,
   "metadata": {},
   "outputs": [],
   "source": [
    "top9 = venture_df.groupby('country_code')['raised_amount_usd'].sum().sort_values(ascending=False).reset_index().head(9)"
   ]
  },
  {
   "cell_type": "code",
   "execution_count": 31,
   "metadata": {},
   "outputs": [
    {
     "data": {
      "text/html": [
       "<div>\n",
       "<style scoped>\n",
       "    .dataframe tbody tr th:only-of-type {\n",
       "        vertical-align: middle;\n",
       "    }\n",
       "\n",
       "    .dataframe tbody tr th {\n",
       "        vertical-align: top;\n",
       "    }\n",
       "\n",
       "    .dataframe thead th {\n",
       "        text-align: right;\n",
       "    }\n",
       "</style>\n",
       "<table border=\"1\" class=\"dataframe\">\n",
       "  <thead>\n",
       "    <tr style=\"text-align: right;\">\n",
       "      <th></th>\n",
       "      <th>country_code</th>\n",
       "      <th>raised_amount_usd</th>\n",
       "    </tr>\n",
       "  </thead>\n",
       "  <tbody>\n",
       "    <tr>\n",
       "      <td>0</td>\n",
       "      <td>USA</td>\n",
       "      <td>4.200680e+11</td>\n",
       "    </tr>\n",
       "    <tr>\n",
       "      <td>1</td>\n",
       "      <td>CHN</td>\n",
       "      <td>3.933892e+10</td>\n",
       "    </tr>\n",
       "    <tr>\n",
       "      <td>2</td>\n",
       "      <td>GBR</td>\n",
       "      <td>2.007281e+10</td>\n",
       "    </tr>\n",
       "    <tr>\n",
       "      <td>3</td>\n",
       "      <td>IND</td>\n",
       "      <td>1.426151e+10</td>\n",
       "    </tr>\n",
       "    <tr>\n",
       "      <td>4</td>\n",
       "      <td>CAN</td>\n",
       "      <td>9.482218e+09</td>\n",
       "    </tr>\n",
       "    <tr>\n",
       "      <td>5</td>\n",
       "      <td>FRA</td>\n",
       "      <td>7.226851e+09</td>\n",
       "    </tr>\n",
       "    <tr>\n",
       "      <td>6</td>\n",
       "      <td>ISR</td>\n",
       "      <td>6.854350e+09</td>\n",
       "    </tr>\n",
       "    <tr>\n",
       "      <td>7</td>\n",
       "      <td>DEU</td>\n",
       "      <td>6.306922e+09</td>\n",
       "    </tr>\n",
       "    <tr>\n",
       "      <td>8</td>\n",
       "      <td>JPN</td>\n",
       "      <td>3.167647e+09</td>\n",
       "    </tr>\n",
       "  </tbody>\n",
       "</table>\n",
       "</div>"
      ],
      "text/plain": [
       "  country_code  raised_amount_usd\n",
       "0          USA       4.200680e+11\n",
       "1          CHN       3.933892e+10\n",
       "2          GBR       2.007281e+10\n",
       "3          IND       1.426151e+10\n",
       "4          CAN       9.482218e+09\n",
       "5          FRA       7.226851e+09\n",
       "6          ISR       6.854350e+09\n",
       "7          DEU       6.306922e+09\n",
       "8          JPN       3.167647e+09"
      ]
     },
     "execution_count": 31,
     "metadata": {},
     "output_type": "execute_result"
    }
   ],
   "source": [
    "#check top9 dataframe\n",
    "top9"
   ]
  },
  {
   "cell_type": "markdown",
   "metadata": {},
   "source": [
    "From above result we can conclude that top 3 english speaking countries are:\n",
    "1. USA - United States of America\n",
    "2. GBR - United Kingdom\n",
    "3. IND - India"
   ]
  },
  {
   "cell_type": "markdown",
   "metadata": {},
   "source": [
    "# Checkpoint 4: Sector Analysis 1"
   ]
  },
  {
   "cell_type": "markdown",
   "metadata": {},
   "source": [
    "Now for sector analysis we need to extract Primary sector from category_list column and mapp it to one of eight main sector present in mapping file."
   ]
  },
  {
   "cell_type": "code",
   "execution_count": 32,
   "metadata": {},
   "outputs": [],
   "source": [
    "#Extracting Primary sector\n",
    "master_frame['Primay_Sector'] = master_frame['category_list'].apply(lambda x : x.split(\"|\")[0])"
   ]
  },
  {
   "cell_type": "code",
   "execution_count": 33,
   "metadata": {},
   "outputs": [
    {
     "data": {
      "text/html": [
       "<div>\n",
       "<style scoped>\n",
       "    .dataframe tbody tr th:only-of-type {\n",
       "        vertical-align: middle;\n",
       "    }\n",
       "\n",
       "    .dataframe tbody tr th {\n",
       "        vertical-align: top;\n",
       "    }\n",
       "\n",
       "    .dataframe thead th {\n",
       "        text-align: right;\n",
       "    }\n",
       "</style>\n",
       "<table border=\"1\" class=\"dataframe\">\n",
       "  <thead>\n",
       "    <tr style=\"text-align: right;\">\n",
       "      <th></th>\n",
       "      <th>company_permalink</th>\n",
       "      <th>funding_round_permalink</th>\n",
       "      <th>funding_round_type</th>\n",
       "      <th>funding_round_code</th>\n",
       "      <th>funded_at</th>\n",
       "      <th>raised_amount_usd</th>\n",
       "      <th>name</th>\n",
       "      <th>homepage_url</th>\n",
       "      <th>category_list</th>\n",
       "      <th>status</th>\n",
       "      <th>country_code</th>\n",
       "      <th>state_code</th>\n",
       "      <th>region</th>\n",
       "      <th>city</th>\n",
       "      <th>founded_at</th>\n",
       "      <th>Primay_Sector</th>\n",
       "    </tr>\n",
       "  </thead>\n",
       "  <tbody>\n",
       "    <tr>\n",
       "      <td>0</td>\n",
       "      <td>/ORGANIZATION/-FAME</td>\n",
       "      <td>/funding-round/9a01d05418af9f794eebff7ace91f638</td>\n",
       "      <td>venture</td>\n",
       "      <td>B</td>\n",
       "      <td>05-01-2015</td>\n",
       "      <td>10000000.0</td>\n",
       "      <td>#fame</td>\n",
       "      <td>http://livfame.com</td>\n",
       "      <td>Media</td>\n",
       "      <td>operating</td>\n",
       "      <td>IND</td>\n",
       "      <td>16</td>\n",
       "      <td>Mumbai</td>\n",
       "      <td>Mumbai</td>\n",
       "      <td>NaN</td>\n",
       "      <td>Media</td>\n",
       "    </tr>\n",
       "    <tr>\n",
       "      <td>1</td>\n",
       "      <td>/ORGANIZATION/-QOUNTER</td>\n",
       "      <td>/funding-round/22dacff496eb7acb2b901dec1dfe5633</td>\n",
       "      <td>venture</td>\n",
       "      <td>A</td>\n",
       "      <td>14-10-2014</td>\n",
       "      <td>NaN</td>\n",
       "      <td>:Qounter</td>\n",
       "      <td>http://www.qounter.com</td>\n",
       "      <td>Application Platforms|Real Time|Social Network...</td>\n",
       "      <td>operating</td>\n",
       "      <td>USA</td>\n",
       "      <td>DE</td>\n",
       "      <td>DE - Other</td>\n",
       "      <td>Delaware City</td>\n",
       "      <td>04-09-2014</td>\n",
       "      <td>Application Platforms</td>\n",
       "    </tr>\n",
       "    <tr>\n",
       "      <td>2</td>\n",
       "      <td>/ORGANIZATION/-QOUNTER</td>\n",
       "      <td>/funding-round/b44fbb94153f6cdef13083530bb48030</td>\n",
       "      <td>seed</td>\n",
       "      <td>NaN</td>\n",
       "      <td>01-03-2014</td>\n",
       "      <td>700000.0</td>\n",
       "      <td>:Qounter</td>\n",
       "      <td>http://www.qounter.com</td>\n",
       "      <td>Application Platforms|Real Time|Social Network...</td>\n",
       "      <td>operating</td>\n",
       "      <td>USA</td>\n",
       "      <td>DE</td>\n",
       "      <td>DE - Other</td>\n",
       "      <td>Delaware City</td>\n",
       "      <td>04-09-2014</td>\n",
       "      <td>Application Platforms</td>\n",
       "    </tr>\n",
       "    <tr>\n",
       "      <td>4</td>\n",
       "      <td>/ORGANIZATION/0-6-COM</td>\n",
       "      <td>/funding-round/5727accaeaa57461bd22a9bdd945382d</td>\n",
       "      <td>venture</td>\n",
       "      <td>A</td>\n",
       "      <td>19-03-2008</td>\n",
       "      <td>2000000.0</td>\n",
       "      <td>0-6.com</td>\n",
       "      <td>http://www.0-6.com</td>\n",
       "      <td>Curated Web</td>\n",
       "      <td>operating</td>\n",
       "      <td>CHN</td>\n",
       "      <td>22</td>\n",
       "      <td>Beijing</td>\n",
       "      <td>Beijing</td>\n",
       "      <td>01-01-2007</td>\n",
       "      <td>Curated Web</td>\n",
       "    </tr>\n",
       "    <tr>\n",
       "      <td>5</td>\n",
       "      <td>/ORGANIZATION/004-TECHNOLOGIES</td>\n",
       "      <td>/funding-round/1278dd4e6a37fa4b7d7e06c21b3c1830</td>\n",
       "      <td>venture</td>\n",
       "      <td>NaN</td>\n",
       "      <td>24-07-2014</td>\n",
       "      <td>NaN</td>\n",
       "      <td>004 Technologies</td>\n",
       "      <td>http://004gmbh.de/en/004-interact</td>\n",
       "      <td>Software</td>\n",
       "      <td>operating</td>\n",
       "      <td>USA</td>\n",
       "      <td>IL</td>\n",
       "      <td>Springfield, Illinois</td>\n",
       "      <td>Champaign</td>\n",
       "      <td>01-01-2010</td>\n",
       "      <td>Software</td>\n",
       "    </tr>\n",
       "  </tbody>\n",
       "</table>\n",
       "</div>"
      ],
      "text/plain": [
       "                company_permalink  \\\n",
       "0             /ORGANIZATION/-FAME   \n",
       "1          /ORGANIZATION/-QOUNTER   \n",
       "2          /ORGANIZATION/-QOUNTER   \n",
       "4           /ORGANIZATION/0-6-COM   \n",
       "5  /ORGANIZATION/004-TECHNOLOGIES   \n",
       "\n",
       "                           funding_round_permalink funding_round_type  \\\n",
       "0  /funding-round/9a01d05418af9f794eebff7ace91f638            venture   \n",
       "1  /funding-round/22dacff496eb7acb2b901dec1dfe5633            venture   \n",
       "2  /funding-round/b44fbb94153f6cdef13083530bb48030               seed   \n",
       "4  /funding-round/5727accaeaa57461bd22a9bdd945382d            venture   \n",
       "5  /funding-round/1278dd4e6a37fa4b7d7e06c21b3c1830            venture   \n",
       "\n",
       "  funding_round_code   funded_at  raised_amount_usd              name  \\\n",
       "0                  B  05-01-2015         10000000.0             #fame   \n",
       "1                  A  14-10-2014                NaN          :Qounter   \n",
       "2                NaN  01-03-2014           700000.0          :Qounter   \n",
       "4                  A  19-03-2008          2000000.0           0-6.com   \n",
       "5                NaN  24-07-2014                NaN  004 Technologies   \n",
       "\n",
       "                        homepage_url  \\\n",
       "0                 http://livfame.com   \n",
       "1             http://www.qounter.com   \n",
       "2             http://www.qounter.com   \n",
       "4                 http://www.0-6.com   \n",
       "5  http://004gmbh.de/en/004-interact   \n",
       "\n",
       "                                       category_list     status country_code  \\\n",
       "0                                              Media  operating          IND   \n",
       "1  Application Platforms|Real Time|Social Network...  operating          USA   \n",
       "2  Application Platforms|Real Time|Social Network...  operating          USA   \n",
       "4                                        Curated Web  operating          CHN   \n",
       "5                                           Software  operating          USA   \n",
       "\n",
       "  state_code                 region           city  founded_at  \\\n",
       "0         16                 Mumbai         Mumbai         NaN   \n",
       "1         DE             DE - Other  Delaware City  04-09-2014   \n",
       "2         DE             DE - Other  Delaware City  04-09-2014   \n",
       "4         22                Beijing        Beijing  01-01-2007   \n",
       "5         IL  Springfield, Illinois      Champaign  01-01-2010   \n",
       "\n",
       "           Primay_Sector  \n",
       "0                  Media  \n",
       "1  Application Platforms  \n",
       "2  Application Platforms  \n",
       "4            Curated Web  \n",
       "5               Software  "
      ]
     },
     "execution_count": 33,
     "metadata": {},
     "output_type": "execute_result"
    }
   ],
   "source": [
    "#checking master frame\n",
    "master_frame.head()"
   ]
  },
  {
   "cell_type": "code",
   "execution_count": 34,
   "metadata": {},
   "outputs": [
    {
     "data": {
      "text/plain": [
       "(104532, 16)"
      ]
     },
     "execution_count": 34,
     "metadata": {},
     "output_type": "execute_result"
    }
   ],
   "source": [
    "master_frame.shape"
   ]
  },
  {
   "cell_type": "markdown",
   "metadata": {},
   "source": [
    "Reading mapping.csv"
   ]
  },
  {
   "cell_type": "code",
   "execution_count": 35,
   "metadata": {},
   "outputs": [],
   "source": [
    "mapping = pd.read_csv('mapping.csv')"
   ]
  },
  {
   "cell_type": "code",
   "execution_count": 36,
   "metadata": {},
   "outputs": [
    {
     "data": {
      "text/html": [
       "<div>\n",
       "<style scoped>\n",
       "    .dataframe tbody tr th:only-of-type {\n",
       "        vertical-align: middle;\n",
       "    }\n",
       "\n",
       "    .dataframe tbody tr th {\n",
       "        vertical-align: top;\n",
       "    }\n",
       "\n",
       "    .dataframe thead th {\n",
       "        text-align: right;\n",
       "    }\n",
       "</style>\n",
       "<table border=\"1\" class=\"dataframe\">\n",
       "  <thead>\n",
       "    <tr style=\"text-align: right;\">\n",
       "      <th></th>\n",
       "      <th>category_list</th>\n",
       "      <th>Automotive &amp; Sports</th>\n",
       "      <th>Blanks</th>\n",
       "      <th>Cleantech / Semiconductors</th>\n",
       "      <th>Entertainment</th>\n",
       "      <th>Health</th>\n",
       "      <th>Manufacturing</th>\n",
       "      <th>News, Search and Messaging</th>\n",
       "      <th>Others</th>\n",
       "      <th>Social, Finance, Analytics, Advertising</th>\n",
       "    </tr>\n",
       "  </thead>\n",
       "  <tbody>\n",
       "    <tr>\n",
       "      <td>0</td>\n",
       "      <td>NaN</td>\n",
       "      <td>0</td>\n",
       "      <td>1</td>\n",
       "      <td>0</td>\n",
       "      <td>0</td>\n",
       "      <td>0</td>\n",
       "      <td>0</td>\n",
       "      <td>0</td>\n",
       "      <td>0</td>\n",
       "      <td>0</td>\n",
       "    </tr>\n",
       "    <tr>\n",
       "      <td>1</td>\n",
       "      <td>3D</td>\n",
       "      <td>0</td>\n",
       "      <td>0</td>\n",
       "      <td>0</td>\n",
       "      <td>0</td>\n",
       "      <td>0</td>\n",
       "      <td>1</td>\n",
       "      <td>0</td>\n",
       "      <td>0</td>\n",
       "      <td>0</td>\n",
       "    </tr>\n",
       "    <tr>\n",
       "      <td>2</td>\n",
       "      <td>3D Printing</td>\n",
       "      <td>0</td>\n",
       "      <td>0</td>\n",
       "      <td>0</td>\n",
       "      <td>0</td>\n",
       "      <td>0</td>\n",
       "      <td>1</td>\n",
       "      <td>0</td>\n",
       "      <td>0</td>\n",
       "      <td>0</td>\n",
       "    </tr>\n",
       "    <tr>\n",
       "      <td>3</td>\n",
       "      <td>3D Technology</td>\n",
       "      <td>0</td>\n",
       "      <td>0</td>\n",
       "      <td>0</td>\n",
       "      <td>0</td>\n",
       "      <td>0</td>\n",
       "      <td>1</td>\n",
       "      <td>0</td>\n",
       "      <td>0</td>\n",
       "      <td>0</td>\n",
       "    </tr>\n",
       "    <tr>\n",
       "      <td>4</td>\n",
       "      <td>Accounting</td>\n",
       "      <td>0</td>\n",
       "      <td>0</td>\n",
       "      <td>0</td>\n",
       "      <td>0</td>\n",
       "      <td>0</td>\n",
       "      <td>0</td>\n",
       "      <td>0</td>\n",
       "      <td>0</td>\n",
       "      <td>1</td>\n",
       "    </tr>\n",
       "  </tbody>\n",
       "</table>\n",
       "</div>"
      ],
      "text/plain": [
       "   category_list  Automotive & Sports  Blanks  Cleantech / Semiconductors  \\\n",
       "0            NaN                    0       1                           0   \n",
       "1             3D                    0       0                           0   \n",
       "2    3D Printing                    0       0                           0   \n",
       "3  3D Technology                    0       0                           0   \n",
       "4     Accounting                    0       0                           0   \n",
       "\n",
       "   Entertainment  Health  Manufacturing  News, Search and Messaging  Others  \\\n",
       "0              0       0              0                           0       0   \n",
       "1              0       0              1                           0       0   \n",
       "2              0       0              1                           0       0   \n",
       "3              0       0              1                           0       0   \n",
       "4              0       0              0                           0       0   \n",
       "\n",
       "   Social, Finance, Analytics, Advertising  \n",
       "0                                        0  \n",
       "1                                        0  \n",
       "2                                        0  \n",
       "3                                        0  \n",
       "4                                        1  "
      ]
     },
     "execution_count": 36,
     "metadata": {},
     "output_type": "execute_result"
    }
   ],
   "source": [
    "mapping.head()"
   ]
  },
  {
   "cell_type": "code",
   "execution_count": 37,
   "metadata": {},
   "outputs": [
    {
     "data": {
      "text/plain": [
       "(688, 10)"
      ]
     },
     "execution_count": 37,
     "metadata": {},
     "output_type": "execute_result"
    }
   ],
   "source": [
    "mapping.shape"
   ]
  },
  {
   "cell_type": "code",
   "execution_count": 38,
   "metadata": {},
   "outputs": [
    {
     "data": {
      "text/plain": [
       "category_list                              1\n",
       "Automotive & Sports                        0\n",
       "Blanks                                     0\n",
       "Cleantech / Semiconductors                 0\n",
       "Entertainment                              0\n",
       "Health                                     0\n",
       "Manufacturing                              0\n",
       "News, Search and Messaging                 0\n",
       "Others                                     0\n",
       "Social, Finance, Analytics, Advertising    0\n",
       "dtype: int64"
      ]
     },
     "execution_count": 38,
     "metadata": {},
     "output_type": "execute_result"
    }
   ],
   "source": [
    "#checking missing values in mapping file\n",
    "mapping.isnull().sum()"
   ]
  },
  {
   "cell_type": "code",
   "execution_count": 39,
   "metadata": {},
   "outputs": [
    {
     "data": {
      "text/plain": [
       "category_list                              0\n",
       "Automotive & Sports                        0\n",
       "Blanks                                     0\n",
       "Cleantech / Semiconductors                 0\n",
       "Entertainment                              0\n",
       "Health                                     0\n",
       "Manufacturing                              0\n",
       "News, Search and Messaging                 0\n",
       "Others                                     0\n",
       "Social, Finance, Analytics, Advertising    0\n",
       "dtype: int64"
      ]
     },
     "execution_count": 39,
     "metadata": {},
     "output_type": "execute_result"
    }
   ],
   "source": [
    "#dropping missing value\n",
    "mapping = mapping[~pd.isnull(mapping[\"category_list\"])]\n",
    "mapping.isnull().sum()"
   ]
  },
  {
   "cell_type": "code",
   "execution_count": 40,
   "metadata": {},
   "outputs": [],
   "source": [
    "#dropping blanks column as its not one of our main sectors.\n",
    "mapping = mapping.drop(columns = 'Blanks')"
   ]
  },
  {
   "cell_type": "code",
   "execution_count": 41,
   "metadata": {},
   "outputs": [
    {
     "data": {
      "text/html": [
       "<div>\n",
       "<style scoped>\n",
       "    .dataframe tbody tr th:only-of-type {\n",
       "        vertical-align: middle;\n",
       "    }\n",
       "\n",
       "    .dataframe tbody tr th {\n",
       "        vertical-align: top;\n",
       "    }\n",
       "\n",
       "    .dataframe thead th {\n",
       "        text-align: right;\n",
       "    }\n",
       "</style>\n",
       "<table border=\"1\" class=\"dataframe\">\n",
       "  <thead>\n",
       "    <tr style=\"text-align: right;\">\n",
       "      <th></th>\n",
       "      <th>category_list</th>\n",
       "      <th>Automotive &amp; Sports</th>\n",
       "      <th>Cleantech / Semiconductors</th>\n",
       "      <th>Entertainment</th>\n",
       "      <th>Health</th>\n",
       "      <th>Manufacturing</th>\n",
       "      <th>News, Search and Messaging</th>\n",
       "      <th>Others</th>\n",
       "      <th>Social, Finance, Analytics, Advertising</th>\n",
       "    </tr>\n",
       "  </thead>\n",
       "  <tbody>\n",
       "    <tr>\n",
       "      <td>1</td>\n",
       "      <td>3D</td>\n",
       "      <td>0</td>\n",
       "      <td>0</td>\n",
       "      <td>0</td>\n",
       "      <td>0</td>\n",
       "      <td>1</td>\n",
       "      <td>0</td>\n",
       "      <td>0</td>\n",
       "      <td>0</td>\n",
       "    </tr>\n",
       "    <tr>\n",
       "      <td>2</td>\n",
       "      <td>3D Printing</td>\n",
       "      <td>0</td>\n",
       "      <td>0</td>\n",
       "      <td>0</td>\n",
       "      <td>0</td>\n",
       "      <td>1</td>\n",
       "      <td>0</td>\n",
       "      <td>0</td>\n",
       "      <td>0</td>\n",
       "    </tr>\n",
       "    <tr>\n",
       "      <td>3</td>\n",
       "      <td>3D Technology</td>\n",
       "      <td>0</td>\n",
       "      <td>0</td>\n",
       "      <td>0</td>\n",
       "      <td>0</td>\n",
       "      <td>1</td>\n",
       "      <td>0</td>\n",
       "      <td>0</td>\n",
       "      <td>0</td>\n",
       "    </tr>\n",
       "    <tr>\n",
       "      <td>4</td>\n",
       "      <td>Accounting</td>\n",
       "      <td>0</td>\n",
       "      <td>0</td>\n",
       "      <td>0</td>\n",
       "      <td>0</td>\n",
       "      <td>0</td>\n",
       "      <td>0</td>\n",
       "      <td>0</td>\n",
       "      <td>1</td>\n",
       "    </tr>\n",
       "    <tr>\n",
       "      <td>5</td>\n",
       "      <td>Active Lifestyle</td>\n",
       "      <td>0</td>\n",
       "      <td>0</td>\n",
       "      <td>0</td>\n",
       "      <td>1</td>\n",
       "      <td>0</td>\n",
       "      <td>0</td>\n",
       "      <td>0</td>\n",
       "      <td>0</td>\n",
       "    </tr>\n",
       "  </tbody>\n",
       "</table>\n",
       "</div>"
      ],
      "text/plain": [
       "      category_list  Automotive & Sports  Cleantech / Semiconductors  \\\n",
       "1                3D                    0                           0   \n",
       "2       3D Printing                    0                           0   \n",
       "3     3D Technology                    0                           0   \n",
       "4        Accounting                    0                           0   \n",
       "5  Active Lifestyle                    0                           0   \n",
       "\n",
       "   Entertainment  Health  Manufacturing  News, Search and Messaging  Others  \\\n",
       "1              0       0              1                           0       0   \n",
       "2              0       0              1                           0       0   \n",
       "3              0       0              1                           0       0   \n",
       "4              0       0              0                           0       0   \n",
       "5              0       1              0                           0       0   \n",
       "\n",
       "   Social, Finance, Analytics, Advertising  \n",
       "1                                        0  \n",
       "2                                        0  \n",
       "3                                        0  \n",
       "4                                        1  \n",
       "5                                        0  "
      ]
     },
     "execution_count": 41,
     "metadata": {},
     "output_type": "execute_result"
    }
   ],
   "source": [
    "mapping.head()"
   ]
  },
  {
   "cell_type": "code",
   "execution_count": 42,
   "metadata": {},
   "outputs": [
    {
     "data": {
      "text/html": [
       "<div>\n",
       "<style scoped>\n",
       "    .dataframe tbody tr th:only-of-type {\n",
       "        vertical-align: middle;\n",
       "    }\n",
       "\n",
       "    .dataframe tbody tr th {\n",
       "        vertical-align: top;\n",
       "    }\n",
       "\n",
       "    .dataframe thead th {\n",
       "        text-align: right;\n",
       "    }\n",
       "</style>\n",
       "<table border=\"1\" class=\"dataframe\">\n",
       "  <thead>\n",
       "    <tr style=\"text-align: right;\">\n",
       "      <th></th>\n",
       "      <th>company_permalink</th>\n",
       "      <th>funding_round_permalink</th>\n",
       "      <th>funding_round_type</th>\n",
       "      <th>funding_round_code</th>\n",
       "      <th>funded_at</th>\n",
       "      <th>raised_amount_usd</th>\n",
       "      <th>name</th>\n",
       "      <th>homepage_url</th>\n",
       "      <th>category_list_x</th>\n",
       "      <th>status</th>\n",
       "      <th>...</th>\n",
       "      <th>Primay_Sector</th>\n",
       "      <th>category_list_y</th>\n",
       "      <th>Automotive &amp; Sports</th>\n",
       "      <th>Cleantech / Semiconductors</th>\n",
       "      <th>Entertainment</th>\n",
       "      <th>Health</th>\n",
       "      <th>Manufacturing</th>\n",
       "      <th>News, Search and Messaging</th>\n",
       "      <th>Others</th>\n",
       "      <th>Social, Finance, Analytics, Advertising</th>\n",
       "    </tr>\n",
       "  </thead>\n",
       "  <tbody>\n",
       "    <tr>\n",
       "      <td>0</td>\n",
       "      <td>/ORGANIZATION/-FAME</td>\n",
       "      <td>/funding-round/9a01d05418af9f794eebff7ace91f638</td>\n",
       "      <td>venture</td>\n",
       "      <td>B</td>\n",
       "      <td>05-01-2015</td>\n",
       "      <td>10000000.0</td>\n",
       "      <td>#fame</td>\n",
       "      <td>http://livfame.com</td>\n",
       "      <td>Media</td>\n",
       "      <td>operating</td>\n",
       "      <td>...</td>\n",
       "      <td>Media</td>\n",
       "      <td>Media</td>\n",
       "      <td>0</td>\n",
       "      <td>0</td>\n",
       "      <td>1</td>\n",
       "      <td>0</td>\n",
       "      <td>0</td>\n",
       "      <td>0</td>\n",
       "      <td>0</td>\n",
       "      <td>0</td>\n",
       "    </tr>\n",
       "    <tr>\n",
       "      <td>1</td>\n",
       "      <td>/ORGANIZATION/90MIN</td>\n",
       "      <td>/funding-round/21a2cbf6f2fb2a1c2a61e04bf930dfe6</td>\n",
       "      <td>venture</td>\n",
       "      <td>NaN</td>\n",
       "      <td>06-10-2015</td>\n",
       "      <td>15000000.0</td>\n",
       "      <td>90min</td>\n",
       "      <td>http://www.90min.com</td>\n",
       "      <td>Media|News|Publishing|Soccer|Sports</td>\n",
       "      <td>operating</td>\n",
       "      <td>...</td>\n",
       "      <td>Media</td>\n",
       "      <td>Media</td>\n",
       "      <td>0</td>\n",
       "      <td>0</td>\n",
       "      <td>1</td>\n",
       "      <td>0</td>\n",
       "      <td>0</td>\n",
       "      <td>0</td>\n",
       "      <td>0</td>\n",
       "      <td>0</td>\n",
       "    </tr>\n",
       "    <tr>\n",
       "      <td>2</td>\n",
       "      <td>/ORGANIZATION/90MIN</td>\n",
       "      <td>/funding-round/bd626ed022f5c66574b1afe234f3c90d</td>\n",
       "      <td>venture</td>\n",
       "      <td>NaN</td>\n",
       "      <td>07-05-2013</td>\n",
       "      <td>5800000.0</td>\n",
       "      <td>90min</td>\n",
       "      <td>http://www.90min.com</td>\n",
       "      <td>Media|News|Publishing|Soccer|Sports</td>\n",
       "      <td>operating</td>\n",
       "      <td>...</td>\n",
       "      <td>Media</td>\n",
       "      <td>Media</td>\n",
       "      <td>0</td>\n",
       "      <td>0</td>\n",
       "      <td>1</td>\n",
       "      <td>0</td>\n",
       "      <td>0</td>\n",
       "      <td>0</td>\n",
       "      <td>0</td>\n",
       "      <td>0</td>\n",
       "    </tr>\n",
       "    <tr>\n",
       "      <td>3</td>\n",
       "      <td>/ORGANIZATION/90MIN</td>\n",
       "      <td>/funding-round/fd4b15e8c97ee2ffc0acccdbe1a98810</td>\n",
       "      <td>venture</td>\n",
       "      <td>NaN</td>\n",
       "      <td>26-03-2014</td>\n",
       "      <td>18000000.0</td>\n",
       "      <td>90min</td>\n",
       "      <td>http://www.90min.com</td>\n",
       "      <td>Media|News|Publishing|Soccer|Sports</td>\n",
       "      <td>operating</td>\n",
       "      <td>...</td>\n",
       "      <td>Media</td>\n",
       "      <td>Media</td>\n",
       "      <td>0</td>\n",
       "      <td>0</td>\n",
       "      <td>1</td>\n",
       "      <td>0</td>\n",
       "      <td>0</td>\n",
       "      <td>0</td>\n",
       "      <td>0</td>\n",
       "      <td>0</td>\n",
       "    </tr>\n",
       "    <tr>\n",
       "      <td>4</td>\n",
       "      <td>/ORGANIZATION/A-B-PRODUCTIONS</td>\n",
       "      <td>/funding-round/23bab180ab73f0dcc3f555bebdf89ade</td>\n",
       "      <td>debt_financing</td>\n",
       "      <td>NaN</td>\n",
       "      <td>21-01-2014</td>\n",
       "      <td>NaN</td>\n",
       "      <td>A.B Productions</td>\n",
       "      <td>NaN</td>\n",
       "      <td>Media|Music|News</td>\n",
       "      <td>operating</td>\n",
       "      <td>...</td>\n",
       "      <td>Media</td>\n",
       "      <td>Media</td>\n",
       "      <td>0</td>\n",
       "      <td>0</td>\n",
       "      <td>1</td>\n",
       "      <td>0</td>\n",
       "      <td>0</td>\n",
       "      <td>0</td>\n",
       "      <td>0</td>\n",
       "      <td>0</td>\n",
       "    </tr>\n",
       "  </tbody>\n",
       "</table>\n",
       "<p>5 rows × 25 columns</p>\n",
       "</div>"
      ],
      "text/plain": [
       "               company_permalink  \\\n",
       "0            /ORGANIZATION/-FAME   \n",
       "1            /ORGANIZATION/90MIN   \n",
       "2            /ORGANIZATION/90MIN   \n",
       "3            /ORGANIZATION/90MIN   \n",
       "4  /ORGANIZATION/A-B-PRODUCTIONS   \n",
       "\n",
       "                           funding_round_permalink funding_round_type  \\\n",
       "0  /funding-round/9a01d05418af9f794eebff7ace91f638            venture   \n",
       "1  /funding-round/21a2cbf6f2fb2a1c2a61e04bf930dfe6            venture   \n",
       "2  /funding-round/bd626ed022f5c66574b1afe234f3c90d            venture   \n",
       "3  /funding-round/fd4b15e8c97ee2ffc0acccdbe1a98810            venture   \n",
       "4  /funding-round/23bab180ab73f0dcc3f555bebdf89ade     debt_financing   \n",
       "\n",
       "  funding_round_code   funded_at  raised_amount_usd             name  \\\n",
       "0                  B  05-01-2015         10000000.0            #fame   \n",
       "1                NaN  06-10-2015         15000000.0            90min   \n",
       "2                NaN  07-05-2013          5800000.0            90min   \n",
       "3                NaN  26-03-2014         18000000.0            90min   \n",
       "4                NaN  21-01-2014                NaN  A.B Productions   \n",
       "\n",
       "           homepage_url                      category_list_x     status  ...  \\\n",
       "0    http://livfame.com                                Media  operating  ...   \n",
       "1  http://www.90min.com  Media|News|Publishing|Soccer|Sports  operating  ...   \n",
       "2  http://www.90min.com  Media|News|Publishing|Soccer|Sports  operating  ...   \n",
       "3  http://www.90min.com  Media|News|Publishing|Soccer|Sports  operating  ...   \n",
       "4                   NaN                     Media|Music|News  operating  ...   \n",
       "\n",
       "  Primay_Sector category_list_y Automotive & Sports  \\\n",
       "0         Media           Media                   0   \n",
       "1         Media           Media                   0   \n",
       "2         Media           Media                   0   \n",
       "3         Media           Media                   0   \n",
       "4         Media           Media                   0   \n",
       "\n",
       "  Cleantech / Semiconductors Entertainment Health Manufacturing  \\\n",
       "0                          0             1      0             0   \n",
       "1                          0             1      0             0   \n",
       "2                          0             1      0             0   \n",
       "3                          0             1      0             0   \n",
       "4                          0             1      0             0   \n",
       "\n",
       "   News, Search and Messaging  Others  Social, Finance, Analytics, Advertising  \n",
       "0                           0       0                                        0  \n",
       "1                           0       0                                        0  \n",
       "2                           0       0                                        0  \n",
       "3                           0       0                                        0  \n",
       "4                           0       0                                        0  \n",
       "\n",
       "[5 rows x 25 columns]"
      ]
     },
     "execution_count": 42,
     "metadata": {},
     "output_type": "execute_result"
    }
   ],
   "source": [
    "#Merging Master Frame with Mapping data frame\n",
    "final_df = pd.merge(master_frame, mapping, how=\"inner\", left_on=\"Primay_Sector\", right_on=\"category_list\")\n",
    "final_df.head()"
   ]
  },
  {
   "cell_type": "code",
   "execution_count": 43,
   "metadata": {},
   "outputs": [
    {
     "data": {
      "text/plain": [
       "(96812, 25)"
      ]
     },
     "execution_count": 43,
     "metadata": {},
     "output_type": "execute_result"
    }
   ],
   "source": [
    "final_df.shape"
   ]
  },
  {
   "cell_type": "markdown",
   "metadata": {},
   "source": [
    "Now we need to map each primary sector to its corresponding main sector. For that we will use Pandas melt funtion."
   ]
  },
  {
   "cell_type": "code",
   "execution_count": 44,
   "metadata": {},
   "outputs": [],
   "source": [
    "#storing values variables in value_vars variable\n",
    "value_vars = list(final_df.columns[-8:])"
   ]
  },
  {
   "cell_type": "code",
   "execution_count": 45,
   "metadata": {},
   "outputs": [
    {
     "data": {
      "text/plain": [
       "['Automotive & Sports',\n",
       " 'Cleantech / Semiconductors',\n",
       " 'Entertainment',\n",
       " 'Health',\n",
       " 'Manufacturing',\n",
       " 'News, Search and Messaging',\n",
       " 'Others',\n",
       " 'Social, Finance, Analytics, Advertising']"
      ]
     },
     "execution_count": 45,
     "metadata": {},
     "output_type": "execute_result"
    }
   ],
   "source": [
    "value_vars"
   ]
  },
  {
   "cell_type": "code",
   "execution_count": 46,
   "metadata": {},
   "outputs": [],
   "source": [
    "#storing id variables in id_vars\n",
    "id_vars = list(np.setdiff1d(final_df.columns, value_vars))"
   ]
  },
  {
   "cell_type": "code",
   "execution_count": 47,
   "metadata": {},
   "outputs": [
    {
     "data": {
      "text/plain": [
       "['Primay_Sector',\n",
       " 'category_list_x',\n",
       " 'category_list_y',\n",
       " 'city',\n",
       " 'company_permalink',\n",
       " 'country_code',\n",
       " 'founded_at',\n",
       " 'funded_at',\n",
       " 'funding_round_code',\n",
       " 'funding_round_permalink',\n",
       " 'funding_round_type',\n",
       " 'homepage_url',\n",
       " 'name',\n",
       " 'raised_amount_usd',\n",
       " 'region',\n",
       " 'state_code',\n",
       " 'status']"
      ]
     },
     "execution_count": 47,
     "metadata": {},
     "output_type": "execute_result"
    }
   ],
   "source": [
    "id_vars"
   ]
  },
  {
   "cell_type": "code",
   "execution_count": 48,
   "metadata": {},
   "outputs": [],
   "source": [
    "#Using melt function\n",
    "final_df = pd.melt(final_df, id_vars = id_vars, value_vars = value_vars)"
   ]
  },
  {
   "cell_type": "code",
   "execution_count": 49,
   "metadata": {},
   "outputs": [
    {
     "data": {
      "text/html": [
       "<div>\n",
       "<style scoped>\n",
       "    .dataframe tbody tr th:only-of-type {\n",
       "        vertical-align: middle;\n",
       "    }\n",
       "\n",
       "    .dataframe tbody tr th {\n",
       "        vertical-align: top;\n",
       "    }\n",
       "\n",
       "    .dataframe thead th {\n",
       "        text-align: right;\n",
       "    }\n",
       "</style>\n",
       "<table border=\"1\" class=\"dataframe\">\n",
       "  <thead>\n",
       "    <tr style=\"text-align: right;\">\n",
       "      <th></th>\n",
       "      <th>Primay_Sector</th>\n",
       "      <th>category_list_x</th>\n",
       "      <th>category_list_y</th>\n",
       "      <th>city</th>\n",
       "      <th>company_permalink</th>\n",
       "      <th>country_code</th>\n",
       "      <th>founded_at</th>\n",
       "      <th>funded_at</th>\n",
       "      <th>funding_round_code</th>\n",
       "      <th>funding_round_permalink</th>\n",
       "      <th>funding_round_type</th>\n",
       "      <th>homepage_url</th>\n",
       "      <th>name</th>\n",
       "      <th>raised_amount_usd</th>\n",
       "      <th>region</th>\n",
       "      <th>state_code</th>\n",
       "      <th>status</th>\n",
       "      <th>variable</th>\n",
       "      <th>value</th>\n",
       "    </tr>\n",
       "  </thead>\n",
       "  <tbody>\n",
       "    <tr>\n",
       "      <td>0</td>\n",
       "      <td>Media</td>\n",
       "      <td>Media</td>\n",
       "      <td>Media</td>\n",
       "      <td>Mumbai</td>\n",
       "      <td>/ORGANIZATION/-FAME</td>\n",
       "      <td>IND</td>\n",
       "      <td>NaN</td>\n",
       "      <td>05-01-2015</td>\n",
       "      <td>B</td>\n",
       "      <td>/funding-round/9a01d05418af9f794eebff7ace91f638</td>\n",
       "      <td>venture</td>\n",
       "      <td>http://livfame.com</td>\n",
       "      <td>#fame</td>\n",
       "      <td>10000000.0</td>\n",
       "      <td>Mumbai</td>\n",
       "      <td>16</td>\n",
       "      <td>operating</td>\n",
       "      <td>Automotive &amp; Sports</td>\n",
       "      <td>0</td>\n",
       "    </tr>\n",
       "    <tr>\n",
       "      <td>1</td>\n",
       "      <td>Media</td>\n",
       "      <td>Media|News|Publishing|Soccer|Sports</td>\n",
       "      <td>Media</td>\n",
       "      <td>London</td>\n",
       "      <td>/ORGANIZATION/90MIN</td>\n",
       "      <td>GBR</td>\n",
       "      <td>01-01-2011</td>\n",
       "      <td>06-10-2015</td>\n",
       "      <td>NaN</td>\n",
       "      <td>/funding-round/21a2cbf6f2fb2a1c2a61e04bf930dfe6</td>\n",
       "      <td>venture</td>\n",
       "      <td>http://www.90min.com</td>\n",
       "      <td>90min</td>\n",
       "      <td>15000000.0</td>\n",
       "      <td>London</td>\n",
       "      <td>H9</td>\n",
       "      <td>operating</td>\n",
       "      <td>Automotive &amp; Sports</td>\n",
       "      <td>0</td>\n",
       "    </tr>\n",
       "    <tr>\n",
       "      <td>2</td>\n",
       "      <td>Media</td>\n",
       "      <td>Media|News|Publishing|Soccer|Sports</td>\n",
       "      <td>Media</td>\n",
       "      <td>London</td>\n",
       "      <td>/ORGANIZATION/90MIN</td>\n",
       "      <td>GBR</td>\n",
       "      <td>01-01-2011</td>\n",
       "      <td>07-05-2013</td>\n",
       "      <td>NaN</td>\n",
       "      <td>/funding-round/bd626ed022f5c66574b1afe234f3c90d</td>\n",
       "      <td>venture</td>\n",
       "      <td>http://www.90min.com</td>\n",
       "      <td>90min</td>\n",
       "      <td>5800000.0</td>\n",
       "      <td>London</td>\n",
       "      <td>H9</td>\n",
       "      <td>operating</td>\n",
       "      <td>Automotive &amp; Sports</td>\n",
       "      <td>0</td>\n",
       "    </tr>\n",
       "    <tr>\n",
       "      <td>3</td>\n",
       "      <td>Media</td>\n",
       "      <td>Media|News|Publishing|Soccer|Sports</td>\n",
       "      <td>Media</td>\n",
       "      <td>London</td>\n",
       "      <td>/ORGANIZATION/90MIN</td>\n",
       "      <td>GBR</td>\n",
       "      <td>01-01-2011</td>\n",
       "      <td>26-03-2014</td>\n",
       "      <td>NaN</td>\n",
       "      <td>/funding-round/fd4b15e8c97ee2ffc0acccdbe1a98810</td>\n",
       "      <td>venture</td>\n",
       "      <td>http://www.90min.com</td>\n",
       "      <td>90min</td>\n",
       "      <td>18000000.0</td>\n",
       "      <td>London</td>\n",
       "      <td>H9</td>\n",
       "      <td>operating</td>\n",
       "      <td>Automotive &amp; Sports</td>\n",
       "      <td>0</td>\n",
       "    </tr>\n",
       "    <tr>\n",
       "      <td>4</td>\n",
       "      <td>Media</td>\n",
       "      <td>Media|Music|News</td>\n",
       "      <td>Media</td>\n",
       "      <td>Los Angeles</td>\n",
       "      <td>/ORGANIZATION/A-B-PRODUCTIONS</td>\n",
       "      <td>USA</td>\n",
       "      <td>11-12-2012</td>\n",
       "      <td>21-01-2014</td>\n",
       "      <td>NaN</td>\n",
       "      <td>/funding-round/23bab180ab73f0dcc3f555bebdf89ade</td>\n",
       "      <td>debt_financing</td>\n",
       "      <td>NaN</td>\n",
       "      <td>A.B Productions</td>\n",
       "      <td>NaN</td>\n",
       "      <td>Los Angeles</td>\n",
       "      <td>CA</td>\n",
       "      <td>operating</td>\n",
       "      <td>Automotive &amp; Sports</td>\n",
       "      <td>0</td>\n",
       "    </tr>\n",
       "  </tbody>\n",
       "</table>\n",
       "</div>"
      ],
      "text/plain": [
       "  Primay_Sector                      category_list_x category_list_y  \\\n",
       "0         Media                                Media           Media   \n",
       "1         Media  Media|News|Publishing|Soccer|Sports           Media   \n",
       "2         Media  Media|News|Publishing|Soccer|Sports           Media   \n",
       "3         Media  Media|News|Publishing|Soccer|Sports           Media   \n",
       "4         Media                     Media|Music|News           Media   \n",
       "\n",
       "          city              company_permalink country_code  founded_at  \\\n",
       "0       Mumbai            /ORGANIZATION/-FAME          IND         NaN   \n",
       "1       London            /ORGANIZATION/90MIN          GBR  01-01-2011   \n",
       "2       London            /ORGANIZATION/90MIN          GBR  01-01-2011   \n",
       "3       London            /ORGANIZATION/90MIN          GBR  01-01-2011   \n",
       "4  Los Angeles  /ORGANIZATION/A-B-PRODUCTIONS          USA  11-12-2012   \n",
       "\n",
       "    funded_at funding_round_code  \\\n",
       "0  05-01-2015                  B   \n",
       "1  06-10-2015                NaN   \n",
       "2  07-05-2013                NaN   \n",
       "3  26-03-2014                NaN   \n",
       "4  21-01-2014                NaN   \n",
       "\n",
       "                           funding_round_permalink funding_round_type  \\\n",
       "0  /funding-round/9a01d05418af9f794eebff7ace91f638            venture   \n",
       "1  /funding-round/21a2cbf6f2fb2a1c2a61e04bf930dfe6            venture   \n",
       "2  /funding-round/bd626ed022f5c66574b1afe234f3c90d            venture   \n",
       "3  /funding-round/fd4b15e8c97ee2ffc0acccdbe1a98810            venture   \n",
       "4  /funding-round/23bab180ab73f0dcc3f555bebdf89ade     debt_financing   \n",
       "\n",
       "           homepage_url             name  raised_amount_usd       region  \\\n",
       "0    http://livfame.com            #fame         10000000.0       Mumbai   \n",
       "1  http://www.90min.com            90min         15000000.0       London   \n",
       "2  http://www.90min.com            90min          5800000.0       London   \n",
       "3  http://www.90min.com            90min         18000000.0       London   \n",
       "4                   NaN  A.B Productions                NaN  Los Angeles   \n",
       "\n",
       "  state_code     status             variable  value  \n",
       "0         16  operating  Automotive & Sports      0  \n",
       "1         H9  operating  Automotive & Sports      0  \n",
       "2         H9  operating  Automotive & Sports      0  \n",
       "3         H9  operating  Automotive & Sports      0  \n",
       "4         CA  operating  Automotive & Sports      0  "
      ]
     },
     "execution_count": 49,
     "metadata": {},
     "output_type": "execute_result"
    }
   ],
   "source": [
    "final_df.head()"
   ]
  },
  {
   "cell_type": "code",
   "execution_count": 50,
   "metadata": {},
   "outputs": [],
   "source": [
    "#Dropping rows where value =0\n",
    "final_df = final_df[final_df['value']==1]\n",
    "final_df= final_df.drop('value', axis=1)"
   ]
  },
  {
   "cell_type": "code",
   "execution_count": 51,
   "metadata": {},
   "outputs": [
    {
     "data": {
      "text/html": [
       "<div>\n",
       "<style scoped>\n",
       "    .dataframe tbody tr th:only-of-type {\n",
       "        vertical-align: middle;\n",
       "    }\n",
       "\n",
       "    .dataframe tbody tr th {\n",
       "        vertical-align: top;\n",
       "    }\n",
       "\n",
       "    .dataframe thead th {\n",
       "        text-align: right;\n",
       "    }\n",
       "</style>\n",
       "<table border=\"1\" class=\"dataframe\">\n",
       "  <thead>\n",
       "    <tr style=\"text-align: right;\">\n",
       "      <th></th>\n",
       "      <th>Primay_Sector</th>\n",
       "      <th>category_list_x</th>\n",
       "      <th>category_list_y</th>\n",
       "      <th>city</th>\n",
       "      <th>company_permalink</th>\n",
       "      <th>country_code</th>\n",
       "      <th>founded_at</th>\n",
       "      <th>funded_at</th>\n",
       "      <th>funding_round_code</th>\n",
       "      <th>funding_round_permalink</th>\n",
       "      <th>funding_round_type</th>\n",
       "      <th>homepage_url</th>\n",
       "      <th>name</th>\n",
       "      <th>raised_amount_usd</th>\n",
       "      <th>region</th>\n",
       "      <th>state_code</th>\n",
       "      <th>status</th>\n",
       "      <th>variable</th>\n",
       "    </tr>\n",
       "  </thead>\n",
       "  <tbody>\n",
       "    <tr>\n",
       "      <td>49631</td>\n",
       "      <td>Sports</td>\n",
       "      <td>Sports</td>\n",
       "      <td>Sports</td>\n",
       "      <td>Vinding</td>\n",
       "      <td>/ORGANIZATION/12-STAR-SURVIVAL</td>\n",
       "      <td>DNK</td>\n",
       "      <td>17-07-2013</td>\n",
       "      <td>17-10-2013</td>\n",
       "      <td>NaN</td>\n",
       "      <td>/funding-round/9c08e07cfd6bdacade795671e09b86e6</td>\n",
       "      <td>equity_crowdfunding</td>\n",
       "      <td>http://www.12starsurvival.com</td>\n",
       "      <td>12 Star Survival</td>\n",
       "      <td>NaN</td>\n",
       "      <td>DNK - Other</td>\n",
       "      <td>21</td>\n",
       "      <td>operating</td>\n",
       "      <td>Automotive &amp; Sports</td>\n",
       "    </tr>\n",
       "    <tr>\n",
       "      <td>49632</td>\n",
       "      <td>Sports</td>\n",
       "      <td>Sports</td>\n",
       "      <td>Sports</td>\n",
       "      <td>Chicago</td>\n",
       "      <td>/ORGANIZATION/120-SPORTS</td>\n",
       "      <td>USA</td>\n",
       "      <td>01-01-2013</td>\n",
       "      <td>20-02-2014</td>\n",
       "      <td>NaN</td>\n",
       "      <td>/funding-round/55642880265ba4cc73eda4abcac4f8da</td>\n",
       "      <td>undisclosed</td>\n",
       "      <td>http://www.120sports.com</td>\n",
       "      <td>120 Sports</td>\n",
       "      <td>NaN</td>\n",
       "      <td>Chicago</td>\n",
       "      <td>IL</td>\n",
       "      <td>operating</td>\n",
       "      <td>Automotive &amp; Sports</td>\n",
       "    </tr>\n",
       "    <tr>\n",
       "      <td>49633</td>\n",
       "      <td>Sports</td>\n",
       "      <td>Sports</td>\n",
       "      <td>Sports</td>\n",
       "      <td>Rockledge</td>\n",
       "      <td>/ORGANIZATION/24-HOUR-PRO-MUSCLE-GYM</td>\n",
       "      <td>USA</td>\n",
       "      <td>15-07-2014</td>\n",
       "      <td>23-10-2014</td>\n",
       "      <td>NaN</td>\n",
       "      <td>/funding-round/5af77fb3e30fdfdcbeb465f6e6fe6204</td>\n",
       "      <td>equity_crowdfunding</td>\n",
       "      <td>http://24hourpromusclegym.com</td>\n",
       "      <td>24 Hour Pro Muscle Gym</td>\n",
       "      <td>NaN</td>\n",
       "      <td>Florida's Space Coast</td>\n",
       "      <td>FL</td>\n",
       "      <td>operating</td>\n",
       "      <td>Automotive &amp; Sports</td>\n",
       "    </tr>\n",
       "    <tr>\n",
       "      <td>49634</td>\n",
       "      <td>Sports</td>\n",
       "      <td>Sports</td>\n",
       "      <td>Sports</td>\n",
       "      <td>Johnston</td>\n",
       "      <td>/ORGANIZATION/5-STAR-QUARTERBACK</td>\n",
       "      <td>USA</td>\n",
       "      <td>01-08-2011</td>\n",
       "      <td>08-09-2011</td>\n",
       "      <td>NaN</td>\n",
       "      <td>/funding-round/a3ba7f72162fd85ac4558bfc1bbdaaf5</td>\n",
       "      <td>equity_crowdfunding</td>\n",
       "      <td>http://www.5starquarterback.com</td>\n",
       "      <td>5 Star Quarterback</td>\n",
       "      <td>NaN</td>\n",
       "      <td>Providence</td>\n",
       "      <td>RI</td>\n",
       "      <td>operating</td>\n",
       "      <td>Automotive &amp; Sports</td>\n",
       "    </tr>\n",
       "    <tr>\n",
       "      <td>49635</td>\n",
       "      <td>Sports</td>\n",
       "      <td>Sports|Technology</td>\n",
       "      <td>Sports</td>\n",
       "      <td>NaN</td>\n",
       "      <td>/ORGANIZATION/8PACKS</td>\n",
       "      <td>SGP</td>\n",
       "      <td>02-02-2014</td>\n",
       "      <td>01-03-2014</td>\n",
       "      <td>NaN</td>\n",
       "      <td>/funding-round/07f2f27f3185af9ec625af06fa77e3cb</td>\n",
       "      <td>seed</td>\n",
       "      <td>http://www.8packs.com</td>\n",
       "      <td>8packs</td>\n",
       "      <td>39473.0</td>\n",
       "      <td>NaN</td>\n",
       "      <td>NaN</td>\n",
       "      <td>operating</td>\n",
       "      <td>Automotive &amp; Sports</td>\n",
       "    </tr>\n",
       "    <tr>\n",
       "      <td>...</td>\n",
       "      <td>...</td>\n",
       "      <td>...</td>\n",
       "      <td>...</td>\n",
       "      <td>...</td>\n",
       "      <td>...</td>\n",
       "      <td>...</td>\n",
       "      <td>...</td>\n",
       "      <td>...</td>\n",
       "      <td>...</td>\n",
       "      <td>...</td>\n",
       "      <td>...</td>\n",
       "      <td>...</td>\n",
       "      <td>...</td>\n",
       "      <td>...</td>\n",
       "      <td>...</td>\n",
       "      <td>...</td>\n",
       "      <td>...</td>\n",
       "      <td>...</td>\n",
       "    </tr>\n",
       "    <tr>\n",
       "      <td>774480</td>\n",
       "      <td>Social Buying</td>\n",
       "      <td>Social Buying|Social Media</td>\n",
       "      <td>Social Buying</td>\n",
       "      <td>Santa Monica</td>\n",
       "      <td>/ORGANIZATION/THISNEXT</td>\n",
       "      <td>USA</td>\n",
       "      <td>01-12-2005</td>\n",
       "      <td>01-01-2008</td>\n",
       "      <td>B</td>\n",
       "      <td>/funding-round/3ba5a2f756c9754968fc1c1638f4f415</td>\n",
       "      <td>venture</td>\n",
       "      <td>http://www.thisnext.com</td>\n",
       "      <td>ThisNext</td>\n",
       "      <td>5000000.0</td>\n",
       "      <td>Los Angeles</td>\n",
       "      <td>CA</td>\n",
       "      <td>operating</td>\n",
       "      <td>Social, Finance, Analytics, Advertising</td>\n",
       "    </tr>\n",
       "    <tr>\n",
       "      <td>774481</td>\n",
       "      <td>Social Buying</td>\n",
       "      <td>Social Buying|Social Media</td>\n",
       "      <td>Social Buying</td>\n",
       "      <td>Santa Monica</td>\n",
       "      <td>/ORGANIZATION/THISNEXT</td>\n",
       "      <td>USA</td>\n",
       "      <td>01-12-2005</td>\n",
       "      <td>01-06-2007</td>\n",
       "      <td>NaN</td>\n",
       "      <td>/funding-round/4cef7f142aed1cdacf828342c31178ec</td>\n",
       "      <td>debt_financing</td>\n",
       "      <td>http://www.thisnext.com</td>\n",
       "      <td>ThisNext</td>\n",
       "      <td>NaN</td>\n",
       "      <td>Los Angeles</td>\n",
       "      <td>CA</td>\n",
       "      <td>operating</td>\n",
       "      <td>Social, Finance, Analytics, Advertising</td>\n",
       "    </tr>\n",
       "    <tr>\n",
       "      <td>774482</td>\n",
       "      <td>Social Buying</td>\n",
       "      <td>Social Buying|Social Media</td>\n",
       "      <td>Social Buying</td>\n",
       "      <td>Santa Monica</td>\n",
       "      <td>/ORGANIZATION/THISNEXT</td>\n",
       "      <td>USA</td>\n",
       "      <td>01-12-2005</td>\n",
       "      <td>28-01-2010</td>\n",
       "      <td>C</td>\n",
       "      <td>/funding-round/592259ebb95e05fd04e1bdc021a9d080</td>\n",
       "      <td>venture</td>\n",
       "      <td>http://www.thisnext.com</td>\n",
       "      <td>ThisNext</td>\n",
       "      <td>1199999.0</td>\n",
       "      <td>Los Angeles</td>\n",
       "      <td>CA</td>\n",
       "      <td>operating</td>\n",
       "      <td>Social, Finance, Analytics, Advertising</td>\n",
       "    </tr>\n",
       "    <tr>\n",
       "      <td>774483</td>\n",
       "      <td>Social Buying</td>\n",
       "      <td>Social Buying|Social Media</td>\n",
       "      <td>Social Buying</td>\n",
       "      <td>Santa Monica</td>\n",
       "      <td>/ORGANIZATION/THISNEXT</td>\n",
       "      <td>USA</td>\n",
       "      <td>01-12-2005</td>\n",
       "      <td>01-01-2006</td>\n",
       "      <td>A</td>\n",
       "      <td>/funding-round/e4b456b224280682adc488e9a503c40d</td>\n",
       "      <td>venture</td>\n",
       "      <td>http://www.thisnext.com</td>\n",
       "      <td>ThisNext</td>\n",
       "      <td>2500000.0</td>\n",
       "      <td>Los Angeles</td>\n",
       "      <td>CA</td>\n",
       "      <td>operating</td>\n",
       "      <td>Social, Finance, Analytics, Advertising</td>\n",
       "    </tr>\n",
       "    <tr>\n",
       "      <td>774484</td>\n",
       "      <td>Social Buying</td>\n",
       "      <td>Social Buying|Social CRM|Social Media Advertis...</td>\n",
       "      <td>Social Buying</td>\n",
       "      <td>San Jose</td>\n",
       "      <td>/ORGANIZATION/WELINK</td>\n",
       "      <td>USA</td>\n",
       "      <td>20-01-2012</td>\n",
       "      <td>29-06-2012</td>\n",
       "      <td>NaN</td>\n",
       "      <td>/funding-round/0ebc04f924925f7e105004f169e92f10</td>\n",
       "      <td>seed</td>\n",
       "      <td>http://welink.com</td>\n",
       "      <td>WeLink</td>\n",
       "      <td>20000.0</td>\n",
       "      <td>SF Bay Area</td>\n",
       "      <td>CA</td>\n",
       "      <td>operating</td>\n",
       "      <td>Social, Finance, Analytics, Advertising</td>\n",
       "    </tr>\n",
       "  </tbody>\n",
       "</table>\n",
       "<p>96812 rows × 18 columns</p>\n",
       "</div>"
      ],
      "text/plain": [
       "        Primay_Sector                                    category_list_x  \\\n",
       "49631          Sports                                             Sports   \n",
       "49632          Sports                                             Sports   \n",
       "49633          Sports                                             Sports   \n",
       "49634          Sports                                             Sports   \n",
       "49635          Sports                                  Sports|Technology   \n",
       "...               ...                                                ...   \n",
       "774480  Social Buying                         Social Buying|Social Media   \n",
       "774481  Social Buying                         Social Buying|Social Media   \n",
       "774482  Social Buying                         Social Buying|Social Media   \n",
       "774483  Social Buying                         Social Buying|Social Media   \n",
       "774484  Social Buying  Social Buying|Social CRM|Social Media Advertis...   \n",
       "\n",
       "       category_list_y          city                     company_permalink  \\\n",
       "49631           Sports       Vinding        /ORGANIZATION/12-STAR-SURVIVAL   \n",
       "49632           Sports       Chicago              /ORGANIZATION/120-SPORTS   \n",
       "49633           Sports     Rockledge  /ORGANIZATION/24-HOUR-PRO-MUSCLE-GYM   \n",
       "49634           Sports      Johnston      /ORGANIZATION/5-STAR-QUARTERBACK   \n",
       "49635           Sports           NaN                  /ORGANIZATION/8PACKS   \n",
       "...                ...           ...                                   ...   \n",
       "774480   Social Buying  Santa Monica                /ORGANIZATION/THISNEXT   \n",
       "774481   Social Buying  Santa Monica                /ORGANIZATION/THISNEXT   \n",
       "774482   Social Buying  Santa Monica                /ORGANIZATION/THISNEXT   \n",
       "774483   Social Buying  Santa Monica                /ORGANIZATION/THISNEXT   \n",
       "774484   Social Buying      San Jose                  /ORGANIZATION/WELINK   \n",
       "\n",
       "       country_code  founded_at   funded_at funding_round_code  \\\n",
       "49631           DNK  17-07-2013  17-10-2013                NaN   \n",
       "49632           USA  01-01-2013  20-02-2014                NaN   \n",
       "49633           USA  15-07-2014  23-10-2014                NaN   \n",
       "49634           USA  01-08-2011  08-09-2011                NaN   \n",
       "49635           SGP  02-02-2014  01-03-2014                NaN   \n",
       "...             ...         ...         ...                ...   \n",
       "774480          USA  01-12-2005  01-01-2008                  B   \n",
       "774481          USA  01-12-2005  01-06-2007                NaN   \n",
       "774482          USA  01-12-2005  28-01-2010                  C   \n",
       "774483          USA  01-12-2005  01-01-2006                  A   \n",
       "774484          USA  20-01-2012  29-06-2012                NaN   \n",
       "\n",
       "                                funding_round_permalink   funding_round_type  \\\n",
       "49631   /funding-round/9c08e07cfd6bdacade795671e09b86e6  equity_crowdfunding   \n",
       "49632   /funding-round/55642880265ba4cc73eda4abcac4f8da          undisclosed   \n",
       "49633   /funding-round/5af77fb3e30fdfdcbeb465f6e6fe6204  equity_crowdfunding   \n",
       "49634   /funding-round/a3ba7f72162fd85ac4558bfc1bbdaaf5  equity_crowdfunding   \n",
       "49635   /funding-round/07f2f27f3185af9ec625af06fa77e3cb                 seed   \n",
       "...                                                 ...                  ...   \n",
       "774480  /funding-round/3ba5a2f756c9754968fc1c1638f4f415              venture   \n",
       "774481  /funding-round/4cef7f142aed1cdacf828342c31178ec       debt_financing   \n",
       "774482  /funding-round/592259ebb95e05fd04e1bdc021a9d080              venture   \n",
       "774483  /funding-round/e4b456b224280682adc488e9a503c40d              venture   \n",
       "774484  /funding-round/0ebc04f924925f7e105004f169e92f10                 seed   \n",
       "\n",
       "                           homepage_url                    name  \\\n",
       "49631     http://www.12starsurvival.com        12 Star Survival   \n",
       "49632          http://www.120sports.com              120 Sports   \n",
       "49633     http://24hourpromusclegym.com  24 Hour Pro Muscle Gym   \n",
       "49634   http://www.5starquarterback.com      5 Star Quarterback   \n",
       "49635             http://www.8packs.com                  8packs   \n",
       "...                                 ...                     ...   \n",
       "774480          http://www.thisnext.com                ThisNext   \n",
       "774481          http://www.thisnext.com                ThisNext   \n",
       "774482          http://www.thisnext.com                ThisNext   \n",
       "774483          http://www.thisnext.com                ThisNext   \n",
       "774484                http://welink.com                  WeLink   \n",
       "\n",
       "        raised_amount_usd                 region state_code     status  \\\n",
       "49631                 NaN            DNK - Other         21  operating   \n",
       "49632                 NaN                Chicago         IL  operating   \n",
       "49633                 NaN  Florida's Space Coast         FL  operating   \n",
       "49634                 NaN             Providence         RI  operating   \n",
       "49635             39473.0                    NaN        NaN  operating   \n",
       "...                   ...                    ...        ...        ...   \n",
       "774480          5000000.0            Los Angeles         CA  operating   \n",
       "774481                NaN            Los Angeles         CA  operating   \n",
       "774482          1199999.0            Los Angeles         CA  operating   \n",
       "774483          2500000.0            Los Angeles         CA  operating   \n",
       "774484            20000.0            SF Bay Area         CA  operating   \n",
       "\n",
       "                                       variable  \n",
       "49631                       Automotive & Sports  \n",
       "49632                       Automotive & Sports  \n",
       "49633                       Automotive & Sports  \n",
       "49634                       Automotive & Sports  \n",
       "49635                       Automotive & Sports  \n",
       "...                                         ...  \n",
       "774480  Social, Finance, Analytics, Advertising  \n",
       "774481  Social, Finance, Analytics, Advertising  \n",
       "774482  Social, Finance, Analytics, Advertising  \n",
       "774483  Social, Finance, Analytics, Advertising  \n",
       "774484  Social, Finance, Analytics, Advertising  \n",
       "\n",
       "[96812 rows x 18 columns]"
      ]
     },
     "execution_count": 51,
     "metadata": {},
     "output_type": "execute_result"
    }
   ],
   "source": [
    "final_df"
   ]
  },
  {
   "cell_type": "code",
   "execution_count": 52,
   "metadata": {},
   "outputs": [
    {
     "data": {
      "text/html": [
       "<div>\n",
       "<style scoped>\n",
       "    .dataframe tbody tr th:only-of-type {\n",
       "        vertical-align: middle;\n",
       "    }\n",
       "\n",
       "    .dataframe tbody tr th {\n",
       "        vertical-align: top;\n",
       "    }\n",
       "\n",
       "    .dataframe thead th {\n",
       "        text-align: right;\n",
       "    }\n",
       "</style>\n",
       "<table border=\"1\" class=\"dataframe\">\n",
       "  <thead>\n",
       "    <tr style=\"text-align: right;\">\n",
       "      <th></th>\n",
       "      <th>Primay_Sector</th>\n",
       "      <th>category_list_x</th>\n",
       "      <th>category_list_y</th>\n",
       "      <th>city</th>\n",
       "      <th>company_permalink</th>\n",
       "      <th>country_code</th>\n",
       "      <th>founded_at</th>\n",
       "      <th>funded_at</th>\n",
       "      <th>funding_round_code</th>\n",
       "      <th>funding_round_permalink</th>\n",
       "      <th>funding_round_type</th>\n",
       "      <th>homepage_url</th>\n",
       "      <th>name</th>\n",
       "      <th>raised_amount_usd</th>\n",
       "      <th>region</th>\n",
       "      <th>state_code</th>\n",
       "      <th>status</th>\n",
       "      <th>Main sector</th>\n",
       "    </tr>\n",
       "  </thead>\n",
       "  <tbody>\n",
       "    <tr>\n",
       "      <td>49631</td>\n",
       "      <td>Sports</td>\n",
       "      <td>Sports</td>\n",
       "      <td>Sports</td>\n",
       "      <td>Vinding</td>\n",
       "      <td>/ORGANIZATION/12-STAR-SURVIVAL</td>\n",
       "      <td>DNK</td>\n",
       "      <td>17-07-2013</td>\n",
       "      <td>17-10-2013</td>\n",
       "      <td>NaN</td>\n",
       "      <td>/funding-round/9c08e07cfd6bdacade795671e09b86e6</td>\n",
       "      <td>equity_crowdfunding</td>\n",
       "      <td>http://www.12starsurvival.com</td>\n",
       "      <td>12 Star Survival</td>\n",
       "      <td>NaN</td>\n",
       "      <td>DNK - Other</td>\n",
       "      <td>21</td>\n",
       "      <td>operating</td>\n",
       "      <td>Automotive &amp; Sports</td>\n",
       "    </tr>\n",
       "    <tr>\n",
       "      <td>49632</td>\n",
       "      <td>Sports</td>\n",
       "      <td>Sports</td>\n",
       "      <td>Sports</td>\n",
       "      <td>Chicago</td>\n",
       "      <td>/ORGANIZATION/120-SPORTS</td>\n",
       "      <td>USA</td>\n",
       "      <td>01-01-2013</td>\n",
       "      <td>20-02-2014</td>\n",
       "      <td>NaN</td>\n",
       "      <td>/funding-round/55642880265ba4cc73eda4abcac4f8da</td>\n",
       "      <td>undisclosed</td>\n",
       "      <td>http://www.120sports.com</td>\n",
       "      <td>120 Sports</td>\n",
       "      <td>NaN</td>\n",
       "      <td>Chicago</td>\n",
       "      <td>IL</td>\n",
       "      <td>operating</td>\n",
       "      <td>Automotive &amp; Sports</td>\n",
       "    </tr>\n",
       "    <tr>\n",
       "      <td>49633</td>\n",
       "      <td>Sports</td>\n",
       "      <td>Sports</td>\n",
       "      <td>Sports</td>\n",
       "      <td>Rockledge</td>\n",
       "      <td>/ORGANIZATION/24-HOUR-PRO-MUSCLE-GYM</td>\n",
       "      <td>USA</td>\n",
       "      <td>15-07-2014</td>\n",
       "      <td>23-10-2014</td>\n",
       "      <td>NaN</td>\n",
       "      <td>/funding-round/5af77fb3e30fdfdcbeb465f6e6fe6204</td>\n",
       "      <td>equity_crowdfunding</td>\n",
       "      <td>http://24hourpromusclegym.com</td>\n",
       "      <td>24 Hour Pro Muscle Gym</td>\n",
       "      <td>NaN</td>\n",
       "      <td>Florida's Space Coast</td>\n",
       "      <td>FL</td>\n",
       "      <td>operating</td>\n",
       "      <td>Automotive &amp; Sports</td>\n",
       "    </tr>\n",
       "    <tr>\n",
       "      <td>49634</td>\n",
       "      <td>Sports</td>\n",
       "      <td>Sports</td>\n",
       "      <td>Sports</td>\n",
       "      <td>Johnston</td>\n",
       "      <td>/ORGANIZATION/5-STAR-QUARTERBACK</td>\n",
       "      <td>USA</td>\n",
       "      <td>01-08-2011</td>\n",
       "      <td>08-09-2011</td>\n",
       "      <td>NaN</td>\n",
       "      <td>/funding-round/a3ba7f72162fd85ac4558bfc1bbdaaf5</td>\n",
       "      <td>equity_crowdfunding</td>\n",
       "      <td>http://www.5starquarterback.com</td>\n",
       "      <td>5 Star Quarterback</td>\n",
       "      <td>NaN</td>\n",
       "      <td>Providence</td>\n",
       "      <td>RI</td>\n",
       "      <td>operating</td>\n",
       "      <td>Automotive &amp; Sports</td>\n",
       "    </tr>\n",
       "    <tr>\n",
       "      <td>49635</td>\n",
       "      <td>Sports</td>\n",
       "      <td>Sports|Technology</td>\n",
       "      <td>Sports</td>\n",
       "      <td>NaN</td>\n",
       "      <td>/ORGANIZATION/8PACKS</td>\n",
       "      <td>SGP</td>\n",
       "      <td>02-02-2014</td>\n",
       "      <td>01-03-2014</td>\n",
       "      <td>NaN</td>\n",
       "      <td>/funding-round/07f2f27f3185af9ec625af06fa77e3cb</td>\n",
       "      <td>seed</td>\n",
       "      <td>http://www.8packs.com</td>\n",
       "      <td>8packs</td>\n",
       "      <td>39473.0</td>\n",
       "      <td>NaN</td>\n",
       "      <td>NaN</td>\n",
       "      <td>operating</td>\n",
       "      <td>Automotive &amp; Sports</td>\n",
       "    </tr>\n",
       "  </tbody>\n",
       "</table>\n",
       "</div>"
      ],
      "text/plain": [
       "      Primay_Sector    category_list_x category_list_y       city  \\\n",
       "49631        Sports             Sports          Sports    Vinding   \n",
       "49632        Sports             Sports          Sports    Chicago   \n",
       "49633        Sports             Sports          Sports  Rockledge   \n",
       "49634        Sports             Sports          Sports   Johnston   \n",
       "49635        Sports  Sports|Technology          Sports        NaN   \n",
       "\n",
       "                          company_permalink country_code  founded_at  \\\n",
       "49631        /ORGANIZATION/12-STAR-SURVIVAL          DNK  17-07-2013   \n",
       "49632              /ORGANIZATION/120-SPORTS          USA  01-01-2013   \n",
       "49633  /ORGANIZATION/24-HOUR-PRO-MUSCLE-GYM          USA  15-07-2014   \n",
       "49634      /ORGANIZATION/5-STAR-QUARTERBACK          USA  01-08-2011   \n",
       "49635                  /ORGANIZATION/8PACKS          SGP  02-02-2014   \n",
       "\n",
       "        funded_at funding_round_code  \\\n",
       "49631  17-10-2013                NaN   \n",
       "49632  20-02-2014                NaN   \n",
       "49633  23-10-2014                NaN   \n",
       "49634  08-09-2011                NaN   \n",
       "49635  01-03-2014                NaN   \n",
       "\n",
       "                               funding_round_permalink   funding_round_type  \\\n",
       "49631  /funding-round/9c08e07cfd6bdacade795671e09b86e6  equity_crowdfunding   \n",
       "49632  /funding-round/55642880265ba4cc73eda4abcac4f8da          undisclosed   \n",
       "49633  /funding-round/5af77fb3e30fdfdcbeb465f6e6fe6204  equity_crowdfunding   \n",
       "49634  /funding-round/a3ba7f72162fd85ac4558bfc1bbdaaf5  equity_crowdfunding   \n",
       "49635  /funding-round/07f2f27f3185af9ec625af06fa77e3cb                 seed   \n",
       "\n",
       "                          homepage_url                    name  \\\n",
       "49631    http://www.12starsurvival.com        12 Star Survival   \n",
       "49632         http://www.120sports.com              120 Sports   \n",
       "49633    http://24hourpromusclegym.com  24 Hour Pro Muscle Gym   \n",
       "49634  http://www.5starquarterback.com      5 Star Quarterback   \n",
       "49635            http://www.8packs.com                  8packs   \n",
       "\n",
       "       raised_amount_usd                 region state_code     status  \\\n",
       "49631                NaN            DNK - Other         21  operating   \n",
       "49632                NaN                Chicago         IL  operating   \n",
       "49633                NaN  Florida's Space Coast         FL  operating   \n",
       "49634                NaN             Providence         RI  operating   \n",
       "49635            39473.0                    NaN        NaN  operating   \n",
       "\n",
       "               Main sector  \n",
       "49631  Automotive & Sports  \n",
       "49632  Automotive & Sports  \n",
       "49633  Automotive & Sports  \n",
       "49634  Automotive & Sports  \n",
       "49635  Automotive & Sports  "
      ]
     },
     "execution_count": 52,
     "metadata": {},
     "output_type": "execute_result"
    }
   ],
   "source": [
    "#Renaming variable column to main sector\n",
    "final_df = final_df.rename(columns={'variable': 'Main sector'})\n",
    "final_df.head()"
   ]
  },
  {
   "cell_type": "code",
   "execution_count": 53,
   "metadata": {},
   "outputs": [
    {
     "data": {
      "text/html": [
       "<div>\n",
       "<style scoped>\n",
       "    .dataframe tbody tr th:only-of-type {\n",
       "        vertical-align: middle;\n",
       "    }\n",
       "\n",
       "    .dataframe tbody tr th {\n",
       "        vertical-align: top;\n",
       "    }\n",
       "\n",
       "    .dataframe thead th {\n",
       "        text-align: right;\n",
       "    }\n",
       "</style>\n",
       "<table border=\"1\" class=\"dataframe\">\n",
       "  <thead>\n",
       "    <tr style=\"text-align: right;\">\n",
       "      <th></th>\n",
       "      <th>Primary sector</th>\n",
       "      <th>category_list_x</th>\n",
       "      <th>category_list_y</th>\n",
       "      <th>city</th>\n",
       "      <th>company_permalink</th>\n",
       "      <th>country_code</th>\n",
       "      <th>founded_at</th>\n",
       "      <th>funded_at</th>\n",
       "      <th>funding_round_code</th>\n",
       "      <th>funding_round_permalink</th>\n",
       "      <th>funding_round_type</th>\n",
       "      <th>homepage_url</th>\n",
       "      <th>name</th>\n",
       "      <th>raised_amount_usd</th>\n",
       "      <th>region</th>\n",
       "      <th>state_code</th>\n",
       "      <th>status</th>\n",
       "      <th>Main sector</th>\n",
       "    </tr>\n",
       "  </thead>\n",
       "  <tbody>\n",
       "    <tr>\n",
       "      <td>49631</td>\n",
       "      <td>Sports</td>\n",
       "      <td>Sports</td>\n",
       "      <td>Sports</td>\n",
       "      <td>Vinding</td>\n",
       "      <td>/ORGANIZATION/12-STAR-SURVIVAL</td>\n",
       "      <td>DNK</td>\n",
       "      <td>17-07-2013</td>\n",
       "      <td>17-10-2013</td>\n",
       "      <td>NaN</td>\n",
       "      <td>/funding-round/9c08e07cfd6bdacade795671e09b86e6</td>\n",
       "      <td>equity_crowdfunding</td>\n",
       "      <td>http://www.12starsurvival.com</td>\n",
       "      <td>12 Star Survival</td>\n",
       "      <td>NaN</td>\n",
       "      <td>DNK - Other</td>\n",
       "      <td>21</td>\n",
       "      <td>operating</td>\n",
       "      <td>Automotive &amp; Sports</td>\n",
       "    </tr>\n",
       "    <tr>\n",
       "      <td>49632</td>\n",
       "      <td>Sports</td>\n",
       "      <td>Sports</td>\n",
       "      <td>Sports</td>\n",
       "      <td>Chicago</td>\n",
       "      <td>/ORGANIZATION/120-SPORTS</td>\n",
       "      <td>USA</td>\n",
       "      <td>01-01-2013</td>\n",
       "      <td>20-02-2014</td>\n",
       "      <td>NaN</td>\n",
       "      <td>/funding-round/55642880265ba4cc73eda4abcac4f8da</td>\n",
       "      <td>undisclosed</td>\n",
       "      <td>http://www.120sports.com</td>\n",
       "      <td>120 Sports</td>\n",
       "      <td>NaN</td>\n",
       "      <td>Chicago</td>\n",
       "      <td>IL</td>\n",
       "      <td>operating</td>\n",
       "      <td>Automotive &amp; Sports</td>\n",
       "    </tr>\n",
       "    <tr>\n",
       "      <td>49633</td>\n",
       "      <td>Sports</td>\n",
       "      <td>Sports</td>\n",
       "      <td>Sports</td>\n",
       "      <td>Rockledge</td>\n",
       "      <td>/ORGANIZATION/24-HOUR-PRO-MUSCLE-GYM</td>\n",
       "      <td>USA</td>\n",
       "      <td>15-07-2014</td>\n",
       "      <td>23-10-2014</td>\n",
       "      <td>NaN</td>\n",
       "      <td>/funding-round/5af77fb3e30fdfdcbeb465f6e6fe6204</td>\n",
       "      <td>equity_crowdfunding</td>\n",
       "      <td>http://24hourpromusclegym.com</td>\n",
       "      <td>24 Hour Pro Muscle Gym</td>\n",
       "      <td>NaN</td>\n",
       "      <td>Florida's Space Coast</td>\n",
       "      <td>FL</td>\n",
       "      <td>operating</td>\n",
       "      <td>Automotive &amp; Sports</td>\n",
       "    </tr>\n",
       "    <tr>\n",
       "      <td>49634</td>\n",
       "      <td>Sports</td>\n",
       "      <td>Sports</td>\n",
       "      <td>Sports</td>\n",
       "      <td>Johnston</td>\n",
       "      <td>/ORGANIZATION/5-STAR-QUARTERBACK</td>\n",
       "      <td>USA</td>\n",
       "      <td>01-08-2011</td>\n",
       "      <td>08-09-2011</td>\n",
       "      <td>NaN</td>\n",
       "      <td>/funding-round/a3ba7f72162fd85ac4558bfc1bbdaaf5</td>\n",
       "      <td>equity_crowdfunding</td>\n",
       "      <td>http://www.5starquarterback.com</td>\n",
       "      <td>5 Star Quarterback</td>\n",
       "      <td>NaN</td>\n",
       "      <td>Providence</td>\n",
       "      <td>RI</td>\n",
       "      <td>operating</td>\n",
       "      <td>Automotive &amp; Sports</td>\n",
       "    </tr>\n",
       "    <tr>\n",
       "      <td>49635</td>\n",
       "      <td>Sports</td>\n",
       "      <td>Sports|Technology</td>\n",
       "      <td>Sports</td>\n",
       "      <td>NaN</td>\n",
       "      <td>/ORGANIZATION/8PACKS</td>\n",
       "      <td>SGP</td>\n",
       "      <td>02-02-2014</td>\n",
       "      <td>01-03-2014</td>\n",
       "      <td>NaN</td>\n",
       "      <td>/funding-round/07f2f27f3185af9ec625af06fa77e3cb</td>\n",
       "      <td>seed</td>\n",
       "      <td>http://www.8packs.com</td>\n",
       "      <td>8packs</td>\n",
       "      <td>39473.0</td>\n",
       "      <td>NaN</td>\n",
       "      <td>NaN</td>\n",
       "      <td>operating</td>\n",
       "      <td>Automotive &amp; Sports</td>\n",
       "    </tr>\n",
       "  </tbody>\n",
       "</table>\n",
       "</div>"
      ],
      "text/plain": [
       "      Primary sector    category_list_x category_list_y       city  \\\n",
       "49631         Sports             Sports          Sports    Vinding   \n",
       "49632         Sports             Sports          Sports    Chicago   \n",
       "49633         Sports             Sports          Sports  Rockledge   \n",
       "49634         Sports             Sports          Sports   Johnston   \n",
       "49635         Sports  Sports|Technology          Sports        NaN   \n",
       "\n",
       "                          company_permalink country_code  founded_at  \\\n",
       "49631        /ORGANIZATION/12-STAR-SURVIVAL          DNK  17-07-2013   \n",
       "49632              /ORGANIZATION/120-SPORTS          USA  01-01-2013   \n",
       "49633  /ORGANIZATION/24-HOUR-PRO-MUSCLE-GYM          USA  15-07-2014   \n",
       "49634      /ORGANIZATION/5-STAR-QUARTERBACK          USA  01-08-2011   \n",
       "49635                  /ORGANIZATION/8PACKS          SGP  02-02-2014   \n",
       "\n",
       "        funded_at funding_round_code  \\\n",
       "49631  17-10-2013                NaN   \n",
       "49632  20-02-2014                NaN   \n",
       "49633  23-10-2014                NaN   \n",
       "49634  08-09-2011                NaN   \n",
       "49635  01-03-2014                NaN   \n",
       "\n",
       "                               funding_round_permalink   funding_round_type  \\\n",
       "49631  /funding-round/9c08e07cfd6bdacade795671e09b86e6  equity_crowdfunding   \n",
       "49632  /funding-round/55642880265ba4cc73eda4abcac4f8da          undisclosed   \n",
       "49633  /funding-round/5af77fb3e30fdfdcbeb465f6e6fe6204  equity_crowdfunding   \n",
       "49634  /funding-round/a3ba7f72162fd85ac4558bfc1bbdaaf5  equity_crowdfunding   \n",
       "49635  /funding-round/07f2f27f3185af9ec625af06fa77e3cb                 seed   \n",
       "\n",
       "                          homepage_url                    name  \\\n",
       "49631    http://www.12starsurvival.com        12 Star Survival   \n",
       "49632         http://www.120sports.com              120 Sports   \n",
       "49633    http://24hourpromusclegym.com  24 Hour Pro Muscle Gym   \n",
       "49634  http://www.5starquarterback.com      5 Star Quarterback   \n",
       "49635            http://www.8packs.com                  8packs   \n",
       "\n",
       "       raised_amount_usd                 region state_code     status  \\\n",
       "49631                NaN            DNK - Other         21  operating   \n",
       "49632                NaN                Chicago         IL  operating   \n",
       "49633                NaN  Florida's Space Coast         FL  operating   \n",
       "49634                NaN             Providence         RI  operating   \n",
       "49635            39473.0                    NaN        NaN  operating   \n",
       "\n",
       "               Main sector  \n",
       "49631  Automotive & Sports  \n",
       "49632  Automotive & Sports  \n",
       "49633  Automotive & Sports  \n",
       "49634  Automotive & Sports  \n",
       "49635  Automotive & Sports  "
      ]
     },
     "execution_count": 53,
     "metadata": {},
     "output_type": "execute_result"
    }
   ],
   "source": [
    "#Renaming Primay_sector column to Primary sector.\n",
    "final_df = final_df.rename(columns={'Primay_Sector': 'Primary sector'})\n",
    "final_df.head()"
   ]
  },
  {
   "cell_type": "markdown",
   "metadata": {},
   "source": [
    "# Checkpoint 5: Sector Analysis 2"
   ]
  },
  {
   "cell_type": "markdown",
   "metadata": {},
   "source": [
    "- Now we have to create three data frame namely D1,D2 and D3 for country C1,C2 and C3 which are our top three countries USA, GBR and IND\n",
    "- It also should have investment type venture\n",
    "- Funding ammount should be in between 5 to 15 million"
   ]
  },
  {
   "cell_type": "code",
   "execution_count": 55,
   "metadata": {},
   "outputs": [],
   "source": [
    "#Creating sub-dataframe D1 for country C1\n",
    "D1 = final_df[(final_df.country_code == 'USA') & (final_df.funding_round_type == 'venture') & ((final_df['raised_amount_usd'] >= 5000000) & (final_df['raised_amount_usd']<=15000000))]"
   ]
  },
  {
   "cell_type": "code",
   "execution_count": 57,
   "metadata": {},
   "outputs": [
    {
     "data": {
      "text/plain": [
       "(11149, 18)"
      ]
     },
     "execution_count": 57,
     "metadata": {},
     "output_type": "execute_result"
    }
   ],
   "source": [
    "#check shape\n",
    "D1.shape"
   ]
  },
  {
   "cell_type": "code",
   "execution_count": 58,
   "metadata": {},
   "outputs": [
    {
     "data": {
      "text/html": [
       "<div>\n",
       "<style scoped>\n",
       "    .dataframe tbody tr th:only-of-type {\n",
       "        vertical-align: middle;\n",
       "    }\n",
       "\n",
       "    .dataframe tbody tr th {\n",
       "        vertical-align: top;\n",
       "    }\n",
       "\n",
       "    .dataframe thead th {\n",
       "        text-align: right;\n",
       "    }\n",
       "</style>\n",
       "<table border=\"1\" class=\"dataframe\">\n",
       "  <thead>\n",
       "    <tr style=\"text-align: right;\">\n",
       "      <th></th>\n",
       "      <th>Primary sector</th>\n",
       "      <th>category_list_x</th>\n",
       "      <th>category_list_y</th>\n",
       "      <th>city</th>\n",
       "      <th>company_permalink</th>\n",
       "      <th>country_code</th>\n",
       "      <th>founded_at</th>\n",
       "      <th>funded_at</th>\n",
       "      <th>funding_round_code</th>\n",
       "      <th>funding_round_permalink</th>\n",
       "      <th>funding_round_type</th>\n",
       "      <th>homepage_url</th>\n",
       "      <th>name</th>\n",
       "      <th>raised_amount_usd</th>\n",
       "      <th>region</th>\n",
       "      <th>state_code</th>\n",
       "      <th>status</th>\n",
       "      <th>Main sector</th>\n",
       "    </tr>\n",
       "  </thead>\n",
       "  <tbody>\n",
       "    <tr>\n",
       "      <td>49660</td>\n",
       "      <td>Sports</td>\n",
       "      <td>Sports</td>\n",
       "      <td>Sports</td>\n",
       "      <td>San Francisco</td>\n",
       "      <td>/ORGANIZATION/CITIZEN-SPORTS</td>\n",
       "      <td>USA</td>\n",
       "      <td>01-01-2005</td>\n",
       "      <td>01-01-2007</td>\n",
       "      <td>NaN</td>\n",
       "      <td>/funding-round/7e2b3f5858cc3d9e6b397adade04cc5a</td>\n",
       "      <td>venture</td>\n",
       "      <td>http://www.citizensportsinc.com</td>\n",
       "      <td>Citizen Sports</td>\n",
       "      <td>10000000.0</td>\n",
       "      <td>SF Bay Area</td>\n",
       "      <td>CA</td>\n",
       "      <td>acquired</td>\n",
       "      <td>Automotive &amp; Sports</td>\n",
       "    </tr>\n",
       "    <tr>\n",
       "      <td>49664</td>\n",
       "      <td>Sports</td>\n",
       "      <td>Sports|Training</td>\n",
       "      <td>Sports</td>\n",
       "      <td>Boston</td>\n",
       "      <td>/ORGANIZATION/COACHUP</td>\n",
       "      <td>USA</td>\n",
       "      <td>15-05-2011</td>\n",
       "      <td>21-11-2013</td>\n",
       "      <td>A</td>\n",
       "      <td>/funding-round/360f1a5fa7c2c5f61ea0ceabcc12f5b4</td>\n",
       "      <td>venture</td>\n",
       "      <td>http://www.coachup.com</td>\n",
       "      <td>CoachUp</td>\n",
       "      <td>6700000.0</td>\n",
       "      <td>Boston</td>\n",
       "      <td>MA</td>\n",
       "      <td>operating</td>\n",
       "      <td>Automotive &amp; Sports</td>\n",
       "    </tr>\n",
       "    <tr>\n",
       "      <td>49775</td>\n",
       "      <td>Sports</td>\n",
       "      <td>Sports</td>\n",
       "      <td>Sports</td>\n",
       "      <td>Roswell</td>\n",
       "      <td>/ORGANIZATION/PGA-TOUR-SUPERSTORE</td>\n",
       "      <td>USA</td>\n",
       "      <td>01-01-2003</td>\n",
       "      <td>09-05-2011</td>\n",
       "      <td>NaN</td>\n",
       "      <td>/funding-round/479fc01e64d8c86888a1dda3e53c152d</td>\n",
       "      <td>venture</td>\n",
       "      <td>http://pgatoursuperstore.com</td>\n",
       "      <td>PGA TOUR Superstore</td>\n",
       "      <td>9000000.0</td>\n",
       "      <td>Atlanta</td>\n",
       "      <td>GA</td>\n",
       "      <td>operating</td>\n",
       "      <td>Automotive &amp; Sports</td>\n",
       "    </tr>\n",
       "    <tr>\n",
       "      <td>49792</td>\n",
       "      <td>Sports</td>\n",
       "      <td>Sports</td>\n",
       "      <td>Sports</td>\n",
       "      <td>Foxboro</td>\n",
       "      <td>/ORGANIZATION/QUICK-HIT</td>\n",
       "      <td>USA</td>\n",
       "      <td>01-04-2008</td>\n",
       "      <td>14-01-2009</td>\n",
       "      <td>B</td>\n",
       "      <td>/funding-round/011eaf868f2ac45feda0d618237e2d6a</td>\n",
       "      <td>venture</td>\n",
       "      <td>http://quickhit.com</td>\n",
       "      <td>Quick Hit</td>\n",
       "      <td>8000000.0</td>\n",
       "      <td>New Bedford</td>\n",
       "      <td>MA</td>\n",
       "      <td>closed</td>\n",
       "      <td>Automotive &amp; Sports</td>\n",
       "    </tr>\n",
       "    <tr>\n",
       "      <td>49795</td>\n",
       "      <td>Sports</td>\n",
       "      <td>Sports</td>\n",
       "      <td>Sports</td>\n",
       "      <td>Foxboro</td>\n",
       "      <td>/ORGANIZATION/QUICK-HIT</td>\n",
       "      <td>USA</td>\n",
       "      <td>01-04-2008</td>\n",
       "      <td>24-04-2008</td>\n",
       "      <td>A</td>\n",
       "      <td>/funding-round/6b624031ea22ce2954d86c3439f9a5e9</td>\n",
       "      <td>venture</td>\n",
       "      <td>http://quickhit.com</td>\n",
       "      <td>Quick Hit</td>\n",
       "      <td>5000000.0</td>\n",
       "      <td>New Bedford</td>\n",
       "      <td>MA</td>\n",
       "      <td>closed</td>\n",
       "      <td>Automotive &amp; Sports</td>\n",
       "    </tr>\n",
       "  </tbody>\n",
       "</table>\n",
       "</div>"
      ],
      "text/plain": [
       "      Primary sector  category_list_x category_list_y           city  \\\n",
       "49660         Sports           Sports          Sports  San Francisco   \n",
       "49664         Sports  Sports|Training          Sports         Boston   \n",
       "49775         Sports           Sports          Sports        Roswell   \n",
       "49792         Sports           Sports          Sports        Foxboro   \n",
       "49795         Sports           Sports          Sports        Foxboro   \n",
       "\n",
       "                       company_permalink country_code  founded_at   funded_at  \\\n",
       "49660       /ORGANIZATION/CITIZEN-SPORTS          USA  01-01-2005  01-01-2007   \n",
       "49664              /ORGANIZATION/COACHUP          USA  15-05-2011  21-11-2013   \n",
       "49775  /ORGANIZATION/PGA-TOUR-SUPERSTORE          USA  01-01-2003  09-05-2011   \n",
       "49792            /ORGANIZATION/QUICK-HIT          USA  01-04-2008  14-01-2009   \n",
       "49795            /ORGANIZATION/QUICK-HIT          USA  01-04-2008  24-04-2008   \n",
       "\n",
       "      funding_round_code                          funding_round_permalink  \\\n",
       "49660                NaN  /funding-round/7e2b3f5858cc3d9e6b397adade04cc5a   \n",
       "49664                  A  /funding-round/360f1a5fa7c2c5f61ea0ceabcc12f5b4   \n",
       "49775                NaN  /funding-round/479fc01e64d8c86888a1dda3e53c152d   \n",
       "49792                  B  /funding-round/011eaf868f2ac45feda0d618237e2d6a   \n",
       "49795                  A  /funding-round/6b624031ea22ce2954d86c3439f9a5e9   \n",
       "\n",
       "      funding_round_type                     homepage_url  \\\n",
       "49660            venture  http://www.citizensportsinc.com   \n",
       "49664            venture           http://www.coachup.com   \n",
       "49775            venture     http://pgatoursuperstore.com   \n",
       "49792            venture              http://quickhit.com   \n",
       "49795            venture              http://quickhit.com   \n",
       "\n",
       "                      name  raised_amount_usd       region state_code  \\\n",
       "49660       Citizen Sports         10000000.0  SF Bay Area         CA   \n",
       "49664              CoachUp          6700000.0       Boston         MA   \n",
       "49775  PGA TOUR Superstore          9000000.0      Atlanta         GA   \n",
       "49792            Quick Hit          8000000.0  New Bedford         MA   \n",
       "49795            Quick Hit          5000000.0  New Bedford         MA   \n",
       "\n",
       "          status          Main sector  \n",
       "49660   acquired  Automotive & Sports  \n",
       "49664  operating  Automotive & Sports  \n",
       "49775  operating  Automotive & Sports  \n",
       "49792     closed  Automotive & Sports  \n",
       "49795     closed  Automotive & Sports  "
      ]
     },
     "execution_count": 58,
     "metadata": {},
     "output_type": "execute_result"
    }
   ],
   "source": [
    "#check D1 head\n",
    "D1.head()"
   ]
  },
  {
   "cell_type": "code",
   "execution_count": 88,
   "metadata": {},
   "outputs": [],
   "source": [
    "#Creating sub-dataframe D2 for country C2\n",
    "D2 = final_df[(final_df.country_code == 'GBR') & (final_df.funding_round_type == 'venture') & ((final_df['raised_amount_usd'] >= 5000000) & (final_df['raised_amount_usd']<=15000000))]"
   ]
  },
  {
   "cell_type": "code",
   "execution_count": 89,
   "metadata": {},
   "outputs": [
    {
     "data": {
      "text/plain": [
       "(577, 18)"
      ]
     },
     "execution_count": 89,
     "metadata": {},
     "output_type": "execute_result"
    }
   ],
   "source": [
    "#Check shape\n",
    "D2.shape"
   ]
  },
  {
   "cell_type": "code",
   "execution_count": 90,
   "metadata": {},
   "outputs": [
    {
     "data": {
      "text/html": [
       "<div>\n",
       "<style scoped>\n",
       "    .dataframe tbody tr th:only-of-type {\n",
       "        vertical-align: middle;\n",
       "    }\n",
       "\n",
       "    .dataframe tbody tr th {\n",
       "        vertical-align: top;\n",
       "    }\n",
       "\n",
       "    .dataframe thead th {\n",
       "        text-align: right;\n",
       "    }\n",
       "</style>\n",
       "<table border=\"1\" class=\"dataframe\">\n",
       "  <thead>\n",
       "    <tr style=\"text-align: right;\">\n",
       "      <th></th>\n",
       "      <th>Primary sector</th>\n",
       "      <th>category_list_x</th>\n",
       "      <th>category_list_y</th>\n",
       "      <th>city</th>\n",
       "      <th>company_permalink</th>\n",
       "      <th>country_code</th>\n",
       "      <th>founded_at</th>\n",
       "      <th>funded_at</th>\n",
       "      <th>funding_round_code</th>\n",
       "      <th>funding_round_permalink</th>\n",
       "      <th>funding_round_type</th>\n",
       "      <th>homepage_url</th>\n",
       "      <th>name</th>\n",
       "      <th>raised_amount_usd</th>\n",
       "      <th>region</th>\n",
       "      <th>state_code</th>\n",
       "      <th>status</th>\n",
       "      <th>Main sector</th>\n",
       "    </tr>\n",
       "  </thead>\n",
       "  <tbody>\n",
       "    <tr>\n",
       "      <td>53043</td>\n",
       "      <td>Design</td>\n",
       "      <td>Design|E-Commerce|Furniture|Home &amp; Garden</td>\n",
       "      <td>Design</td>\n",
       "      <td>London</td>\n",
       "      <td>/ORGANIZATION/MADE-COM</td>\n",
       "      <td>GBR</td>\n",
       "      <td>01-01-2010</td>\n",
       "      <td>10-01-2012</td>\n",
       "      <td>B</td>\n",
       "      <td>/funding-round/350da83566d70fe8bc21e4c07f758b63</td>\n",
       "      <td>venture</td>\n",
       "      <td>http://www.made.com</td>\n",
       "      <td>made.com</td>\n",
       "      <td>9278918.0</td>\n",
       "      <td>London</td>\n",
       "      <td>H9</td>\n",
       "      <td>operating</td>\n",
       "      <td>Automotive &amp; Sports</td>\n",
       "    </tr>\n",
       "    <tr>\n",
       "      <td>54698</td>\n",
       "      <td>Cars</td>\n",
       "      <td>Cars|Clean Technology|Diving|Green|Internet|So...</td>\n",
       "      <td>Cars</td>\n",
       "      <td>London</td>\n",
       "      <td>/ORGANIZATION/GREENROAD-TECHNOLOGIES</td>\n",
       "      <td>GBR</td>\n",
       "      <td>01-01-2006</td>\n",
       "      <td>19-05-2011</td>\n",
       "      <td>F</td>\n",
       "      <td>/funding-round/02e891e7e3e9a18f06a6cdfca142a1d7</td>\n",
       "      <td>venture</td>\n",
       "      <td>http://www.greenroad.com</td>\n",
       "      <td>GreenRoad Technologies</td>\n",
       "      <td>13000000.0</td>\n",
       "      <td>London</td>\n",
       "      <td>H9</td>\n",
       "      <td>operating</td>\n",
       "      <td>Automotive &amp; Sports</td>\n",
       "    </tr>\n",
       "    <tr>\n",
       "      <td>54700</td>\n",
       "      <td>Cars</td>\n",
       "      <td>Cars|Clean Technology|Diving|Green|Internet|So...</td>\n",
       "      <td>Cars</td>\n",
       "      <td>London</td>\n",
       "      <td>/ORGANIZATION/GREENROAD-TECHNOLOGIES</td>\n",
       "      <td>GBR</td>\n",
       "      <td>01-01-2006</td>\n",
       "      <td>31-01-2008</td>\n",
       "      <td>NaN</td>\n",
       "      <td>/funding-round/19dc7a4e54c5e83b94bd845c2f7f014a</td>\n",
       "      <td>venture</td>\n",
       "      <td>http://www.greenroad.com</td>\n",
       "      <td>GreenRoad Technologies</td>\n",
       "      <td>14500000.0</td>\n",
       "      <td>London</td>\n",
       "      <td>H9</td>\n",
       "      <td>operating</td>\n",
       "      <td>Automotive &amp; Sports</td>\n",
       "    </tr>\n",
       "    <tr>\n",
       "      <td>54702</td>\n",
       "      <td>Cars</td>\n",
       "      <td>Cars|Clean Technology|Diving|Green|Internet|So...</td>\n",
       "      <td>Cars</td>\n",
       "      <td>London</td>\n",
       "      <td>/ORGANIZATION/GREENROAD-TECHNOLOGIES</td>\n",
       "      <td>GBR</td>\n",
       "      <td>01-01-2006</td>\n",
       "      <td>22-02-2010</td>\n",
       "      <td>E</td>\n",
       "      <td>/funding-round/bc8b878082ee90258328271e138e72fb</td>\n",
       "      <td>venture</td>\n",
       "      <td>http://www.greenroad.com</td>\n",
       "      <td>GreenRoad Technologies</td>\n",
       "      <td>10000000.0</td>\n",
       "      <td>London</td>\n",
       "      <td>H9</td>\n",
       "      <td>operating</td>\n",
       "      <td>Automotive &amp; Sports</td>\n",
       "    </tr>\n",
       "    <tr>\n",
       "      <td>54703</td>\n",
       "      <td>Cars</td>\n",
       "      <td>Cars|Clean Technology|Diving|Green|Internet|So...</td>\n",
       "      <td>Cars</td>\n",
       "      <td>London</td>\n",
       "      <td>/ORGANIZATION/GREENROAD-TECHNOLOGIES</td>\n",
       "      <td>GBR</td>\n",
       "      <td>01-01-2006</td>\n",
       "      <td>28-05-2009</td>\n",
       "      <td>D</td>\n",
       "      <td>/funding-round/d786d56c4c94a68f65e98ac9024fe7fb</td>\n",
       "      <td>venture</td>\n",
       "      <td>http://www.greenroad.com</td>\n",
       "      <td>GreenRoad Technologies</td>\n",
       "      <td>15000000.0</td>\n",
       "      <td>London</td>\n",
       "      <td>H9</td>\n",
       "      <td>operating</td>\n",
       "      <td>Automotive &amp; Sports</td>\n",
       "    </tr>\n",
       "  </tbody>\n",
       "</table>\n",
       "</div>"
      ],
      "text/plain": [
       "      Primary sector                                    category_list_x  \\\n",
       "53043         Design          Design|E-Commerce|Furniture|Home & Garden   \n",
       "54698           Cars  Cars|Clean Technology|Diving|Green|Internet|So...   \n",
       "54700           Cars  Cars|Clean Technology|Diving|Green|Internet|So...   \n",
       "54702           Cars  Cars|Clean Technology|Diving|Green|Internet|So...   \n",
       "54703           Cars  Cars|Clean Technology|Diving|Green|Internet|So...   \n",
       "\n",
       "      category_list_y    city                     company_permalink  \\\n",
       "53043          Design  London                /ORGANIZATION/MADE-COM   \n",
       "54698            Cars  London  /ORGANIZATION/GREENROAD-TECHNOLOGIES   \n",
       "54700            Cars  London  /ORGANIZATION/GREENROAD-TECHNOLOGIES   \n",
       "54702            Cars  London  /ORGANIZATION/GREENROAD-TECHNOLOGIES   \n",
       "54703            Cars  London  /ORGANIZATION/GREENROAD-TECHNOLOGIES   \n",
       "\n",
       "      country_code  founded_at   funded_at funding_round_code  \\\n",
       "53043          GBR  01-01-2010  10-01-2012                  B   \n",
       "54698          GBR  01-01-2006  19-05-2011                  F   \n",
       "54700          GBR  01-01-2006  31-01-2008                NaN   \n",
       "54702          GBR  01-01-2006  22-02-2010                  E   \n",
       "54703          GBR  01-01-2006  28-05-2009                  D   \n",
       "\n",
       "                               funding_round_permalink funding_round_type  \\\n",
       "53043  /funding-round/350da83566d70fe8bc21e4c07f758b63            venture   \n",
       "54698  /funding-round/02e891e7e3e9a18f06a6cdfca142a1d7            venture   \n",
       "54700  /funding-round/19dc7a4e54c5e83b94bd845c2f7f014a            venture   \n",
       "54702  /funding-round/bc8b878082ee90258328271e138e72fb            venture   \n",
       "54703  /funding-round/d786d56c4c94a68f65e98ac9024fe7fb            venture   \n",
       "\n",
       "                   homepage_url                    name  raised_amount_usd  \\\n",
       "53043       http://www.made.com                made.com          9278918.0   \n",
       "54698  http://www.greenroad.com  GreenRoad Technologies         13000000.0   \n",
       "54700  http://www.greenroad.com  GreenRoad Technologies         14500000.0   \n",
       "54702  http://www.greenroad.com  GreenRoad Technologies         10000000.0   \n",
       "54703  http://www.greenroad.com  GreenRoad Technologies         15000000.0   \n",
       "\n",
       "       region state_code     status          Main sector  \n",
       "53043  London         H9  operating  Automotive & Sports  \n",
       "54698  London         H9  operating  Automotive & Sports  \n",
       "54700  London         H9  operating  Automotive & Sports  \n",
       "54702  London         H9  operating  Automotive & Sports  \n",
       "54703  London         H9  operating  Automotive & Sports  "
      ]
     },
     "execution_count": 90,
     "metadata": {},
     "output_type": "execute_result"
    }
   ],
   "source": [
    "#check D2 head\n",
    "D2.head()"
   ]
  },
  {
   "cell_type": "code",
   "execution_count": 91,
   "metadata": {},
   "outputs": [],
   "source": [
    "#Creating sub-dataframe D3 for country C3\n",
    "D3 = final_df[(final_df.country_code == 'IND') & (final_df.funding_round_type == 'venture') & ((final_df['raised_amount_usd'] >= 5000000) & (final_df['raised_amount_usd']<=15000000))]"
   ]
  },
  {
   "cell_type": "code",
   "execution_count": 92,
   "metadata": {},
   "outputs": [
    {
     "data": {
      "text/plain": [
       "(299, 18)"
      ]
     },
     "execution_count": 92,
     "metadata": {},
     "output_type": "execute_result"
    }
   ],
   "source": [
    "#Check Shape\n",
    "D3.shape"
   ]
  },
  {
   "cell_type": "code",
   "execution_count": 93,
   "metadata": {},
   "outputs": [
    {
     "data": {
      "text/html": [
       "<div>\n",
       "<style scoped>\n",
       "    .dataframe tbody tr th:only-of-type {\n",
       "        vertical-align: middle;\n",
       "    }\n",
       "\n",
       "    .dataframe tbody tr th {\n",
       "        vertical-align: top;\n",
       "    }\n",
       "\n",
       "    .dataframe thead th {\n",
       "        text-align: right;\n",
       "    }\n",
       "</style>\n",
       "<table border=\"1\" class=\"dataframe\">\n",
       "  <thead>\n",
       "    <tr style=\"text-align: right;\">\n",
       "      <th></th>\n",
       "      <th>Primary sector</th>\n",
       "      <th>category_list_x</th>\n",
       "      <th>category_list_y</th>\n",
       "      <th>city</th>\n",
       "      <th>company_permalink</th>\n",
       "      <th>country_code</th>\n",
       "      <th>founded_at</th>\n",
       "      <th>funded_at</th>\n",
       "      <th>funding_round_code</th>\n",
       "      <th>funding_round_permalink</th>\n",
       "      <th>funding_round_type</th>\n",
       "      <th>homepage_url</th>\n",
       "      <th>name</th>\n",
       "      <th>raised_amount_usd</th>\n",
       "      <th>region</th>\n",
       "      <th>state_code</th>\n",
       "      <th>status</th>\n",
       "      <th>Main sector</th>\n",
       "    </tr>\n",
       "  </thead>\n",
       "  <tbody>\n",
       "    <tr>\n",
       "      <td>53188</td>\n",
       "      <td>Design</td>\n",
       "      <td>Design</td>\n",
       "      <td>Design</td>\n",
       "      <td>Bangalore</td>\n",
       "      <td>/ORGANIZATION/TONBO-IMAGING</td>\n",
       "      <td>IND</td>\n",
       "      <td>01-01-2012</td>\n",
       "      <td>05-08-2013</td>\n",
       "      <td>A</td>\n",
       "      <td>/funding-round/a8423b53ae8e4995bd52a48eaf5014e0</td>\n",
       "      <td>venture</td>\n",
       "      <td>http://tonboimaging.com</td>\n",
       "      <td>Tonbo Imaging</td>\n",
       "      <td>6400000.0</td>\n",
       "      <td>Bangalore</td>\n",
       "      <td>19</td>\n",
       "      <td>operating</td>\n",
       "      <td>Automotive &amp; Sports</td>\n",
       "    </tr>\n",
       "    <tr>\n",
       "      <td>54632</td>\n",
       "      <td>Designers</td>\n",
       "      <td>Designers|E-Commerce|Fashion|Online Shopping</td>\n",
       "      <td>Designers</td>\n",
       "      <td>Gurgaon</td>\n",
       "      <td>/ORGANIZATION/INDIANROOTS</td>\n",
       "      <td>IND</td>\n",
       "      <td>01-01-2013</td>\n",
       "      <td>07-09-2014</td>\n",
       "      <td>B</td>\n",
       "      <td>/funding-round/f9e85b60f976b7a5e873de366db64159</td>\n",
       "      <td>venture</td>\n",
       "      <td>http://www.indianroots.in/</td>\n",
       "      <td>IndianRoots</td>\n",
       "      <td>5000000.0</td>\n",
       "      <td>New Delhi</td>\n",
       "      <td>10</td>\n",
       "      <td>operating</td>\n",
       "      <td>Automotive &amp; Sports</td>\n",
       "    </tr>\n",
       "    <tr>\n",
       "      <td>54715</td>\n",
       "      <td>Cars</td>\n",
       "      <td>Cars|Retail|Services</td>\n",
       "      <td>Cars</td>\n",
       "      <td>NaN</td>\n",
       "      <td>/ORGANIZATION/MAHINDRA-FIRST-CHOICE</td>\n",
       "      <td>IND</td>\n",
       "      <td>02-08-2007</td>\n",
       "      <td>20-03-2015</td>\n",
       "      <td>NaN</td>\n",
       "      <td>/funding-round/fd1878def2e38049665344ee9f2b22eb</td>\n",
       "      <td>venture</td>\n",
       "      <td>http://mahindrafirstchoice.com/</td>\n",
       "      <td>Mahindra First Choice</td>\n",
       "      <td>15000000.0</td>\n",
       "      <td>NaN</td>\n",
       "      <td>NaN</td>\n",
       "      <td>operating</td>\n",
       "      <td>Automotive &amp; Sports</td>\n",
       "    </tr>\n",
       "    <tr>\n",
       "      <td>69051</td>\n",
       "      <td>Transportation</td>\n",
       "      <td>Transportation|Travel</td>\n",
       "      <td>Transportation</td>\n",
       "      <td>Gurgaon</td>\n",
       "      <td>/ORGANIZATION/MAKEMYTRIP-COM</td>\n",
       "      <td>IND</td>\n",
       "      <td>01-01-2000</td>\n",
       "      <td>08-10-2007</td>\n",
       "      <td>C</td>\n",
       "      <td>/funding-round/166d99cdc07eaac55d15b24d197e3fff</td>\n",
       "      <td>venture</td>\n",
       "      <td>http://makemytrip.com</td>\n",
       "      <td>MakeMyTrip.com</td>\n",
       "      <td>15000000.0</td>\n",
       "      <td>New Delhi</td>\n",
       "      <td>10</td>\n",
       "      <td>ipo</td>\n",
       "      <td>Automotive &amp; Sports</td>\n",
       "    </tr>\n",
       "    <tr>\n",
       "      <td>69052</td>\n",
       "      <td>Transportation</td>\n",
       "      <td>Transportation|Travel</td>\n",
       "      <td>Transportation</td>\n",
       "      <td>Gurgaon</td>\n",
       "      <td>/ORGANIZATION/MAKEMYTRIP-COM</td>\n",
       "      <td>IND</td>\n",
       "      <td>01-01-2000</td>\n",
       "      <td>14-12-2006</td>\n",
       "      <td>B</td>\n",
       "      <td>/funding-round/6bc57a33607a3317b89a4c97011cbfff</td>\n",
       "      <td>venture</td>\n",
       "      <td>http://makemytrip.com</td>\n",
       "      <td>MakeMyTrip.com</td>\n",
       "      <td>13000000.0</td>\n",
       "      <td>New Delhi</td>\n",
       "      <td>10</td>\n",
       "      <td>ipo</td>\n",
       "      <td>Automotive &amp; Sports</td>\n",
       "    </tr>\n",
       "  </tbody>\n",
       "</table>\n",
       "</div>"
      ],
      "text/plain": [
       "       Primary sector                               category_list_x  \\\n",
       "53188          Design                                        Design   \n",
       "54632       Designers  Designers|E-Commerce|Fashion|Online Shopping   \n",
       "54715            Cars                          Cars|Retail|Services   \n",
       "69051  Transportation                         Transportation|Travel   \n",
       "69052  Transportation                         Transportation|Travel   \n",
       "\n",
       "      category_list_y       city                    company_permalink  \\\n",
       "53188          Design  Bangalore          /ORGANIZATION/TONBO-IMAGING   \n",
       "54632       Designers    Gurgaon            /ORGANIZATION/INDIANROOTS   \n",
       "54715            Cars        NaN  /ORGANIZATION/MAHINDRA-FIRST-CHOICE   \n",
       "69051  Transportation    Gurgaon         /ORGANIZATION/MAKEMYTRIP-COM   \n",
       "69052  Transportation    Gurgaon         /ORGANIZATION/MAKEMYTRIP-COM   \n",
       "\n",
       "      country_code  founded_at   funded_at funding_round_code  \\\n",
       "53188          IND  01-01-2012  05-08-2013                  A   \n",
       "54632          IND  01-01-2013  07-09-2014                  B   \n",
       "54715          IND  02-08-2007  20-03-2015                NaN   \n",
       "69051          IND  01-01-2000  08-10-2007                  C   \n",
       "69052          IND  01-01-2000  14-12-2006                  B   \n",
       "\n",
       "                               funding_round_permalink funding_round_type  \\\n",
       "53188  /funding-round/a8423b53ae8e4995bd52a48eaf5014e0            venture   \n",
       "54632  /funding-round/f9e85b60f976b7a5e873de366db64159            venture   \n",
       "54715  /funding-round/fd1878def2e38049665344ee9f2b22eb            venture   \n",
       "69051  /funding-round/166d99cdc07eaac55d15b24d197e3fff            venture   \n",
       "69052  /funding-round/6bc57a33607a3317b89a4c97011cbfff            venture   \n",
       "\n",
       "                          homepage_url                   name  \\\n",
       "53188          http://tonboimaging.com          Tonbo Imaging   \n",
       "54632       http://www.indianroots.in/            IndianRoots   \n",
       "54715  http://mahindrafirstchoice.com/  Mahindra First Choice   \n",
       "69051            http://makemytrip.com         MakeMyTrip.com   \n",
       "69052            http://makemytrip.com         MakeMyTrip.com   \n",
       "\n",
       "       raised_amount_usd     region state_code     status          Main sector  \n",
       "53188          6400000.0  Bangalore         19  operating  Automotive & Sports  \n",
       "54632          5000000.0  New Delhi         10  operating  Automotive & Sports  \n",
       "54715         15000000.0        NaN        NaN  operating  Automotive & Sports  \n",
       "69051         15000000.0  New Delhi         10        ipo  Automotive & Sports  \n",
       "69052         13000000.0  New Delhi         10        ipo  Automotive & Sports  "
      ]
     },
     "execution_count": 93,
     "metadata": {},
     "output_type": "execute_result"
    }
   ],
   "source": [
    "#check D3 head\n",
    "D3.head()"
   ]
  },
  {
   "cell_type": "markdown",
   "metadata": {},
   "source": [
    "# Analysis for Country C1"
   ]
  },
  {
   "cell_type": "markdown",
   "metadata": {},
   "source": [
    "1.Total Number of Investments:"
   ]
  },
  {
   "cell_type": "code",
   "execution_count": 70,
   "metadata": {},
   "outputs": [
    {
     "data": {
      "text/plain": [
       "11149"
      ]
     },
     "execution_count": 70,
     "metadata": {},
     "output_type": "execute_result"
    }
   ],
   "source": [
    "D1.company_permalink.count()"
   ]
  },
  {
   "cell_type": "markdown",
   "metadata": {},
   "source": [
    "2.Total amount of investment :"
   ]
  },
  {
   "cell_type": "code",
   "execution_count": 71,
   "metadata": {},
   "outputs": [
    {
     "data": {
      "text/plain": [
       "99661524549.0"
      ]
     },
     "execution_count": 71,
     "metadata": {},
     "output_type": "execute_result"
    }
   ],
   "source": [
    "D1.raised_amount_usd.sum()"
   ]
  },
  {
   "cell_type": "code",
   "execution_count": 73,
   "metadata": {},
   "outputs": [
    {
     "data": {
      "text/plain": [
       "Others                                     2923\n",
       "Cleantech / Semiconductors                 2297\n",
       "Social, Finance, Analytics, Advertising    1912\n",
       "News, Search and Messaging                 1563\n",
       "Health                                      908\n",
       "Manufacturing                               799\n",
       "Entertainment                               580\n",
       "Automotive & Sports                         167\n",
       "Name: Main sector, dtype: int64"
      ]
     },
     "execution_count": 73,
     "metadata": {},
     "output_type": "execute_result"
    }
   ],
   "source": [
    "D1['Main sector'].value_counts()"
   ]
  },
  {
   "cell_type": "markdown",
   "metadata": {},
   "source": [
    "From above deatails we can tell following things:\n",
    "3. Top sector (based on count of investments) : Others\n",
    "4. Second-best sector (based on count of investments): Cleantech / Semiconductors\n",
    "5. Third-best sector (based on count of investments) : Social, Finance, Analytics, Advertising\n",
    "6. Number of investments in the top sector : 2923\n",
    "7. Number of investments in the second-best sector: 2297\n",
    "8. Number of investments in the third-best sector: 1912"
   ]
  },
  {
   "cell_type": "markdown",
   "metadata": {},
   "source": [
    "9.For the top sector count-wise company, which received the highest investment: \n",
    "\n",
    "Here I have taken company's unique ID which is permalink as multiple companies can have same name"
   ]
  },
  {
   "cell_type": "code",
   "execution_count": 97,
   "metadata": {
    "scrolled": true
   },
   "outputs": [
    {
     "data": {
      "text/plain": [
       "company_permalink\n",
       "/ORGANIZATION/VIRTUSTREAM              64300000.0\n",
       "/ORGANIZATION/CAPELLA                  54968051.0\n",
       "/ORGANIZATION/AIRTIGHT-NETWORKS        54201907.0\n",
       "/ORGANIZATION/DECARTA                  52100000.0\n",
       "/ORGANIZATION/BLACK-DUCK-SOFTWARE      51000000.0\n",
       "                                          ...    \n",
       "/ORGANIZATION/SANPULSE-TECHNOLOGIES     5000000.0\n",
       "/ORGANIZATION/IRIDIAN-TECHNOLOGIES      5000000.0\n",
       "/ORGANIZATION/VICTRIO                   5000000.0\n",
       "/ORGANIZATION/PET-S-CHOICE              5000000.0\n",
       "/ORGANIZATION/URBAN-REMEDY              5000000.0\n",
       "Name: raised_amount_usd, Length: 2030, dtype: float64"
      ]
     },
     "execution_count": 97,
     "metadata": {},
     "output_type": "execute_result"
    }
   ],
   "source": [
    "D1[D1['Main sector']=='Others'].groupby(by='company_permalink')['raised_amount_usd'].sum().sort_values(ascending = False)"
   ]
  },
  {
   "cell_type": "markdown",
   "metadata": {},
   "source": [
    "Company : /ORGANIZATION/VIRTUSTREAM"
   ]
  },
  {
   "cell_type": "markdown",
   "metadata": {},
   "source": [
    "10.For the second best sector count-wise, which company received the highest investment: "
   ]
  },
  {
   "cell_type": "code",
   "execution_count": 85,
   "metadata": {},
   "outputs": [
    {
     "data": {
      "text/plain": [
       "company_permalink\n",
       "/ORGANIZATION/BIODESIX               75300000.0\n",
       "/ORGANIZATION/TIGO-ENERGY            68739496.0\n",
       "/ORGANIZATION/FORSIGHT-LABS          61300001.0\n",
       "/ORGANIZATION/RHEONIX                56124758.0\n",
       "/ORGANIZATION/SCIENERGY              55375423.0\n",
       "                                        ...    \n",
       "/ORGANIZATION/AZURAY-TECHNOLOGIES     5000000.0\n",
       "/ORGANIZATION/GT-UROLOGICAL           5000000.0\n",
       "/ORGANIZATION/BENCHLING               5000000.0\n",
       "/ORGANIZATION/HADRON-SYSTEMS          5000000.0\n",
       "/ORGANIZATION/1BOG                    5000000.0\n",
       "Name: raised_amount_usd, Length: 1582, dtype: float64"
      ]
     },
     "execution_count": 85,
     "metadata": {},
     "output_type": "execute_result"
    }
   ],
   "source": [
    "D1[D1['Main sector']=='Cleantech / Semiconductors'].groupby(by='company_permalink')['raised_amount_usd'].sum().sort_values(ascending = False)"
   ]
  },
  {
   "cell_type": "markdown",
   "metadata": {},
   "source": [
    "Company : ORGANIZATION/BIODESIX"
   ]
  },
  {
   "cell_type": "markdown",
   "metadata": {},
   "source": [
    "# Analysis for Country C2"
   ]
  },
  {
   "cell_type": "markdown",
   "metadata": {},
   "source": [
    "1.Total Number of Investments:"
   ]
  },
  {
   "cell_type": "code",
   "execution_count": 94,
   "metadata": {},
   "outputs": [
    {
     "data": {
      "text/plain": [
       "577"
      ]
     },
     "execution_count": 94,
     "metadata": {},
     "output_type": "execute_result"
    }
   ],
   "source": [
    "D2.company_permalink.count()"
   ]
  },
  {
   "cell_type": "markdown",
   "metadata": {},
   "source": [
    "2.Total amount of investment :"
   ]
  },
  {
   "cell_type": "code",
   "execution_count": 95,
   "metadata": {},
   "outputs": [
    {
     "data": {
      "text/plain": [
       "5028704358.0"
      ]
     },
     "execution_count": 95,
     "metadata": {},
     "output_type": "execute_result"
    }
   ],
   "source": [
    "D2.raised_amount_usd.sum()"
   ]
  },
  {
   "cell_type": "code",
   "execution_count": 96,
   "metadata": {
    "scrolled": true
   },
   "outputs": [
    {
     "data": {
      "text/plain": [
       "Others                                     143\n",
       "Cleantech / Semiconductors                 127\n",
       "Social, Finance, Analytics, Advertising     98\n",
       "News, Search and Messaging                  73\n",
       "Entertainment                               54\n",
       "Manufacturing                               42\n",
       "Health                                      24\n",
       "Automotive & Sports                         16\n",
       "Name: Main sector, dtype: int64"
      ]
     },
     "execution_count": 96,
     "metadata": {},
     "output_type": "execute_result"
    }
   ],
   "source": [
    "D2['Main sector'].value_counts()"
   ]
  },
  {
   "cell_type": "markdown",
   "metadata": {},
   "source": [
    "From above deatails we can tell following things:\n",
    "\n",
    "    3.Top sector (based on count of investments) : Others\n",
    "    4.Second-best sector (based on count of investments): Cleantech / Semiconductors\n",
    "    5.Third-best sector (based on count of investments) : Social, Finance, Analytics, Advertising\n",
    "    6.Number of investments in the top sector : 143\n",
    "    7.Number of investments in the second-best sector: 127\n",
    "    8.Number of investments in the third-best sector: 98\n",
    "\n"
   ]
  },
  {
   "cell_type": "markdown",
   "metadata": {},
   "source": [
    "9.For the top sector count-wise company, which received the highest investment: \n",
    "\n",
    "Here I have taken company's unique ID which is permalink as multiple companies can have same name"
   ]
  },
  {
   "cell_type": "code",
   "execution_count": 98,
   "metadata": {},
   "outputs": [
    {
     "data": {
      "text/plain": [
       "company_permalink\n",
       "/ORGANIZATION/ELECTRIC-CLOUD             37000000.0\n",
       "/ORGANIZATION/SENSAGE                    36250000.0\n",
       "/ORGANIZATION/ENIGMATIC                  32500000.0\n",
       "/ORGANIZATION/SILVERRAIL-TECHNOLOGIES    29000000.0\n",
       "/ORGANIZATION/OPENCLOUD                  27972766.0\n",
       "                                            ...    \n",
       "/ORGANIZATION/VECTOR-WATCH                5000000.0\n",
       "/ORGANIZATION/PHOTOBOX                    5000000.0\n",
       "/ORGANIZATION/UDEX                        5000000.0\n",
       "/ORGANIZATION/BACULA-SYSTEMS              5000000.0\n",
       "/ORGANIZATION/BULLGUARD                   5000000.0\n",
       "Name: raised_amount_usd, Length: 117, dtype: float64"
      ]
     },
     "execution_count": 98,
     "metadata": {},
     "output_type": "execute_result"
    }
   ],
   "source": [
    "D2[D2['Main sector']=='Others'].groupby(by='company_permalink')['raised_amount_usd'].sum().sort_values(ascending = False)"
   ]
  },
  {
   "cell_type": "markdown",
   "metadata": {},
   "source": [
    "Company: /ORGANIZATION/ELECTRIC-CLOUD"
   ]
  },
  {
   "cell_type": "markdown",
   "metadata": {},
   "source": [
    "10.For the second best sector count-wise, which company received the highest investment:\n"
   ]
  },
  {
   "cell_type": "code",
   "execution_count": 99,
   "metadata": {},
   "outputs": [
    {
     "data": {
      "text/plain": [
       "company_permalink\n",
       "/ORGANIZATION/EUSA-PHARMA                                                      35600000.0\n",
       "/ORGANIZATION/HORIZON-DISCOVERY                                                31353719.0\n",
       "/ORGANIZATION/F-STAR-BIOTECHNOLOGISCHE-FORSCHUNGS-UND-ENTWICKLUNGSGES-M-B-H    29132906.0\n",
       "/ORGANIZATION/ELIXENT                                                          25000000.0\n",
       "/ORGANIZATION/TAKEDA-CAMBRIDGE                                                 22340000.0\n",
       "                                                                                  ...    \n",
       "/ORGANIZATION/LAMELLAR-BIOMEDICAL                                               5301059.0\n",
       "/ORGANIZATION/MMIC-SOLUTIONS                                                    5250000.0\n",
       "/ORGANIZATION/FLOWLINE                                                          5104587.0\n",
       "/ORGANIZATION/IGNIS-ENERGY                                                      5014644.0\n",
       "/ORGANIZATION/EXCO-INTOUCH                                                      5000000.0\n",
       "Name: raised_amount_usd, Length: 104, dtype: float64"
      ]
     },
     "execution_count": 99,
     "metadata": {},
     "output_type": "execute_result"
    }
   ],
   "source": [
    "D2[D2['Main sector']=='Cleantech / Semiconductors'].groupby(by='company_permalink')['raised_amount_usd'].sum().sort_values(ascending = False)"
   ]
  },
  {
   "cell_type": "markdown",
   "metadata": {},
   "source": [
    "Company: /ORGANIZATION/EUSA-PHARMA"
   ]
  },
  {
   "cell_type": "markdown",
   "metadata": {},
   "source": [
    "#  Analysis for Country C3"
   ]
  },
  {
   "cell_type": "markdown",
   "metadata": {},
   "source": [
    "1.Total Number of Investments:"
   ]
  },
  {
   "cell_type": "code",
   "execution_count": 100,
   "metadata": {},
   "outputs": [
    {
     "data": {
      "text/plain": [
       "299"
      ]
     },
     "execution_count": 100,
     "metadata": {},
     "output_type": "execute_result"
    }
   ],
   "source": [
    "D3.company_permalink.count()"
   ]
  },
  {
   "cell_type": "markdown",
   "metadata": {},
   "source": [
    "2.Total amount of investment :"
   ]
  },
  {
   "cell_type": "code",
   "execution_count": 101,
   "metadata": {},
   "outputs": [
    {
     "data": {
      "text/plain": [
       "2683537552.0"
      ]
     },
     "execution_count": 101,
     "metadata": {},
     "output_type": "execute_result"
    }
   ],
   "source": [
    "D3.raised_amount_usd.sum()"
   ]
  },
  {
   "cell_type": "code",
   "execution_count": 102,
   "metadata": {},
   "outputs": [
    {
     "data": {
      "text/plain": [
       "Others                                     109\n",
       "News, Search and Messaging                  52\n",
       "Entertainment                               33\n",
       "Social, Finance, Analytics, Advertising     32\n",
       "Manufacturing                               21\n",
       "Cleantech / Semiconductors                  20\n",
       "Health                                      19\n",
       "Automotive & Sports                         13\n",
       "Name: Main sector, dtype: int64"
      ]
     },
     "execution_count": 102,
     "metadata": {},
     "output_type": "execute_result"
    }
   ],
   "source": [
    "D3['Main sector'].value_counts()"
   ]
  },
  {
   "cell_type": "markdown",
   "metadata": {},
   "source": [
    "From above deatails we can tell following things:\n",
    "3. Top sector (based on count of investments) : Others\n",
    "4. Second-best sector (based on count of investments): News, Search and Messaging\n",
    "5. Third-best sector (based on count of investments) : Entertainment\n",
    "6. Number of investments in the top sector : 109\n",
    "7. Number of investments in the second-best sector: 52\n",
    "8. Number of investments in the third-best sector: 33"
   ]
  },
  {
   "cell_type": "markdown",
   "metadata": {},
   "source": [
    "9.For the top sector count-wise company, which received the highest investment: \n",
    "\n",
    "Here I have taken company's unique ID which is permalink as multiple companies can have same name"
   ]
  },
  {
   "cell_type": "code",
   "execution_count": 103,
   "metadata": {},
   "outputs": [
    {
     "data": {
      "text/plain": [
       "company_permalink\n",
       "/ORGANIZATION/FIRSTCRY-COM           39000000.0\n",
       "/ORGANIZATION/MYNTRA                 38000000.0\n",
       "/ORGANIZATION/COMMONFLOOR            32900000.0\n",
       "/ORGANIZATION/PEPPERFRY-COM          28000000.0\n",
       "/ORGANIZATION/ITZCASH-CARD-LTD       25000000.0\n",
       "                                        ...    \n",
       "/ORGANIZATION/TASTYKHANA              5000000.0\n",
       "/ORGANIZATION/REZNEXT                 5000000.0\n",
       "/ORGANIZATION/VOONIK-COM              5000000.0\n",
       "/ORGANIZATION/VEDANTU-INNOVATIONS     5000000.0\n",
       "/ORGANIZATION/LIASES-FORAS            5000000.0\n",
       "Name: raised_amount_usd, Length: 87, dtype: float64"
      ]
     },
     "execution_count": 103,
     "metadata": {},
     "output_type": "execute_result"
    }
   ],
   "source": [
    "D3[D3['Main sector']=='Others'].groupby(by='company_permalink')['raised_amount_usd'].sum().sort_values(ascending = False)"
   ]
  },
  {
   "cell_type": "markdown",
   "metadata": {},
   "source": [
    "Company : /ORGANIZATION/FIRSTCRY-COM"
   ]
  },
  {
   "cell_type": "markdown",
   "metadata": {},
   "source": [
    "10.For the second best sector count-wise, which company received the highest investment:\n"
   ]
  },
  {
   "cell_type": "code",
   "execution_count": 104,
   "metadata": {},
   "outputs": [
    {
     "data": {
      "text/plain": [
       "company_permalink\n",
       "/ORGANIZATION/GUPSHUP-TECHNOLOGY-INDIA-PVT-LTD    33000000.0\n",
       "/ORGANIZATION/IMIMOBILE                           23000000.0\n",
       "/ORGANIZATION/SMS-GUPSHUP                         22000000.0\n",
       "/ORGANIZATION/HIKE                                21000000.0\n",
       "/ORGANIZATION/ROADRUNNR                           21000000.0\n",
       "/ORGANIZATION/MATRIMONY-COM                       20400000.0\n",
       "/ORGANIZATION/GURUJI                              15000000.0\n",
       "/ORGANIZATION/BLUESTONE-COM                       15000000.0\n",
       "/ORGANIZATION/MOBILE2WIN-INDIA                    15000000.0\n",
       "/ORGANIZATION/QUIKR-INDIA                         14000000.0\n",
       "/ORGANIZATION/BHARAT-MATRIMONY                    11750000.0\n",
       "/ORGANIZATION/TELEDNA                             10490000.0\n",
       "/ORGANIZATION/BABAJOB                             10000000.0\n",
       "/ORGANIZATION/MONEY-ON-MOBILE                     10000000.0\n",
       "/ORGANIZATION/FOURINTERACTIVE                     10000000.0\n",
       "/ORGANIZATION/JUST-DIAL                           10000000.0\n",
       "/ORGANIZATION/ONE97-COMMUNICATIONS                10000000.0\n",
       "/ORGANIZATION/URBANCLAP                           10000000.0\n",
       "/ORGANIZATION/PEPPERTAP                           10000000.0\n",
       "/ORGANIZATION/WEBSHASTRA-PVT-LTD                  10000000.0\n",
       "/ORGANIZATION/SHADOWFAX-TECHNOLOGIES               8500000.0\n",
       "/ORGANIZATION/PEOPLE-INTERACTIVE-INDIA             8000000.0\n",
       "/ORGANIZATION/EZETAP                               8000000.0\n",
       "/ORGANIZATION/TINYOWL-TECHNOLOGY                   7665775.0\n",
       "/ORGANIZATION/NAZARA-TECHNOLOGIES                  7000000.0\n",
       "/ORGANIZATION/CULTUREALLEY                         6500000.0\n",
       "/ORGANIZATION/KNOWLARITY-COMMUNICATIONS            6500000.0\n",
       "/ORGANIZATION/REDBUS-IN                            6428770.0\n",
       "/ORGANIZATION/ZINKA-LOGISTICS                      6000000.0\n",
       "/ORGANIZATION/CHILLR-2                             6000000.0\n",
       "/ORGANIZATION/SUREWAVES                            5700000.0\n",
       "/ORGANIZATION/THE-PORTER                           5500000.0\n",
       "/ORGANIZATION/EASYLINK                             5400000.0\n",
       "/ORGANIZATION/BELONG                               5000000.0\n",
       "/ORGANIZATION/CHAKPAK-MEDIA                        5000000.0\n",
       "/ORGANIZATION/ZOOMO                                5000000.0\n",
       "/ORGANIZATION/JUGNOO                               5000000.0\n",
       "/ORGANIZATION/LOCALBANYA                           5000000.0\n",
       "/ORGANIZATION/LOCALOYE                             5000000.0\n",
       "/ORGANIZATION/REVIEWS42                            5000000.0\n",
       "/ORGANIZATION/WOOPLR                               5000000.0\n",
       "/ORGANIZATION/MOBIKWIK                             5000000.0\n",
       "Name: raised_amount_usd, dtype: float64"
      ]
     },
     "execution_count": 104,
     "metadata": {},
     "output_type": "execute_result"
    }
   ],
   "source": [
    "D3[D3['Main sector']=='News, Search and Messaging'].groupby(by='company_permalink')['raised_amount_usd'].sum().sort_values(ascending = False)"
   ]
  },
  {
   "cell_type": "markdown",
   "metadata": {},
   "source": [
    "Company : /ORGANIZATION/GUPSHUP-TECHNOLOGY-INDIA-PVT-LTD"
   ]
  },
  {
   "cell_type": "markdown",
   "metadata": {},
   "source": [
    "# Checkpoint 6: Plots"
   ]
  },
  {
   "cell_type": "markdown",
   "metadata": {},
   "source": [
    "1.Representative Amount for funding types:"
   ]
  },
  {
   "cell_type": "code",
   "execution_count": 135,
   "metadata": {},
   "outputs": [
    {
     "data": {
      "image/png": "[encoded data removed]",
      "text/plain": [
       "<Figure size 864x432 with 1 Axes>"
      ]
     },
     "metadata": {
      "needs_background": "light"
     },
     "output_type": "display_data"
    }
   ],
   "source": [
    "plt.figure(figsize=(12,6))\n",
    "sns.barplot(x=master_frame.funding_round_type,y=master_frame.raised_amount_usd/1000000,estimator=np.median,order=[\"angle\",\"seed\",\"venture\",\"private_equity\"],ci=None)\n",
    "plt.xlabel(\"Funding Round Type\")\n",
    "plt.ylabel(\"Raised Amount in Millions\")\n",
    "plt.show()"
   ]
  },
  {
   "cell_type": "markdown",
   "metadata": {},
   "source": [
    "2. A plot showing the top 9 countries against the total amount of investments of funding type FT"
   ]
  },
  {
   "cell_type": "code",
   "execution_count": 138,
   "metadata": {},
   "outputs": [
    {
     "data": {
      "image/png": "[encoded data removed]",
      "text/plain": [
       "<Figure size 864x432 with 1 Axes>"
      ]
     },
     "metadata": {
      "needs_background": "light"
     },
     "output_type": "display_data"
    }
   ],
   "source": [
    "plt.figure(figsize=(12,6))\n",
    "sns.barplot(x=top9.country_code,y=top9.raised_amount_usd/1000000,ci=None)\n",
    "plt.xlabel(\"Top Nine Invested Countries\")\n",
    "plt.ylabel(\"Raised Amount in Millions\")\n",
    "plt.show()"
   ]
  },
  {
   "cell_type": "markdown",
   "metadata": {},
   "source": [
    "Above top three english speaking countries are: USA, GBR and IND"
   ]
  },
  {
   "cell_type": "markdown",
   "metadata": {},
   "source": [
    "3. A plot showing the number of investments in the top 3 sectors of the top 3 countries on one chart (for the chosen investment type FT). This plot should clearly display the top 3 sectors each in Country 1, Country 2, and Country 3."
   ]
  },
  {
   "cell_type": "markdown",
   "metadata": {},
   "source": [
    "For this we will create a single master data frame for all top 3 countries and its corresponding top 3 sectors and then plot it."
   ]
  },
  {
   "cell_type": "code",
   "execution_count": 250,
   "metadata": {},
   "outputs": [],
   "source": [
    "country_df = D1[D1['Main sector'].isin(['Others','Cleantech / Semiconductors','Social, Finance, Analytics, Advertising'])]"
   ]
  },
  {
   "cell_type": "code",
   "execution_count": 251,
   "metadata": {},
   "outputs": [],
   "source": [
    "country_df = country_df.append(D2[D2['Main sector'].isin(['Others','Cleantech / Semiconductors','Social, Finance, Analytics, Advertising'])])"
   ]
  },
  {
   "cell_type": "code",
   "execution_count": 252,
   "metadata": {},
   "outputs": [],
   "source": [
    "country_df = country_df.append(D3[D3['Main sector'].isin(['Others','News, Search and Messaging','Entertainment'])])"
   ]
  },
  {
   "cell_type": "code",
   "execution_count": 254,
   "metadata": {},
   "outputs": [],
   "source": [
    "country_df = country_df.groupby(['country_code','Main sector']).size().to_frame(name = 'Number of Investment').reset_index()\n"
   ]
  },
  {
   "cell_type": "code",
   "execution_count": 255,
   "metadata": {},
   "outputs": [
    {
     "data": {
      "text/html": [
       "<div>\n",
       "<style scoped>\n",
       "    .dataframe tbody tr th:only-of-type {\n",
       "        vertical-align: middle;\n",
       "    }\n",
       "\n",
       "    .dataframe tbody tr th {\n",
       "        vertical-align: top;\n",
       "    }\n",
       "\n",
       "    .dataframe thead th {\n",
       "        text-align: right;\n",
       "    }\n",
       "</style>\n",
       "<table border=\"1\" class=\"dataframe\">\n",
       "  <thead>\n",
       "    <tr style=\"text-align: right;\">\n",
       "      <th></th>\n",
       "      <th>country_code</th>\n",
       "      <th>Main sector</th>\n",
       "      <th>Number of Investment</th>\n",
       "    </tr>\n",
       "  </thead>\n",
       "  <tbody>\n",
       "    <tr>\n",
       "      <td>0</td>\n",
       "      <td>GBR</td>\n",
       "      <td>Cleantech / Semiconductors</td>\n",
       "      <td>127</td>\n",
       "    </tr>\n",
       "    <tr>\n",
       "      <td>1</td>\n",
       "      <td>GBR</td>\n",
       "      <td>Others</td>\n",
       "      <td>143</td>\n",
       "    </tr>\n",
       "    <tr>\n",
       "      <td>2</td>\n",
       "      <td>GBR</td>\n",
       "      <td>Social, Finance, Analytics, Advertising</td>\n",
       "      <td>98</td>\n",
       "    </tr>\n",
       "    <tr>\n",
       "      <td>3</td>\n",
       "      <td>IND</td>\n",
       "      <td>Entertainment</td>\n",
       "      <td>33</td>\n",
       "    </tr>\n",
       "    <tr>\n",
       "      <td>4</td>\n",
       "      <td>IND</td>\n",
       "      <td>News, Search and Messaging</td>\n",
       "      <td>52</td>\n",
       "    </tr>\n",
       "    <tr>\n",
       "      <td>5</td>\n",
       "      <td>IND</td>\n",
       "      <td>Others</td>\n",
       "      <td>109</td>\n",
       "    </tr>\n",
       "    <tr>\n",
       "      <td>6</td>\n",
       "      <td>USA</td>\n",
       "      <td>Cleantech / Semiconductors</td>\n",
       "      <td>2297</td>\n",
       "    </tr>\n",
       "    <tr>\n",
       "      <td>7</td>\n",
       "      <td>USA</td>\n",
       "      <td>Others</td>\n",
       "      <td>2923</td>\n",
       "    </tr>\n",
       "    <tr>\n",
       "      <td>8</td>\n",
       "      <td>USA</td>\n",
       "      <td>Social, Finance, Analytics, Advertising</td>\n",
       "      <td>1912</td>\n",
       "    </tr>\n",
       "  </tbody>\n",
       "</table>\n",
       "</div>"
      ],
      "text/plain": [
       "  country_code                              Main sector  Number of Investment\n",
       "0          GBR               Cleantech / Semiconductors                   127\n",
       "1          GBR                                   Others                   143\n",
       "2          GBR  Social, Finance, Analytics, Advertising                    98\n",
       "3          IND                            Entertainment                    33\n",
       "4          IND               News, Search and Messaging                    52\n",
       "5          IND                                   Others                   109\n",
       "6          USA               Cleantech / Semiconductors                  2297\n",
       "7          USA                                   Others                  2923\n",
       "8          USA  Social, Finance, Analytics, Advertising                  1912"
      ]
     },
     "execution_count": 255,
     "metadata": {},
     "output_type": "execute_result"
    }
   ],
   "source": [
    "#Checking DF\n",
    "country_df"
   ]
  },
  {
   "cell_type": "code",
   "execution_count": 257,
   "metadata": {},
   "outputs": [
    {
     "data": {
      "image/png": "[encoded data removed]",
      "text/plain": [
       "<Figure size 864x432 with 1 Axes>"
      ]
     },
     "metadata": {},
     "output_type": "display_data"
    }
   ],
   "source": [
    "#Plotting Bar plot\n",
    "sns.set_style('whitegrid')\n",
    "plt.figure(figsize=(12,6))\n",
    "sns.barplot(x = 'country_code', y = 'Number of Investment', hue = 'Main sector', data = country_df)\n",
    "sns.set_style('darkgrid')"
   ]
  }
 ],
 "metadata": {
  "kernelspec": {
   "display_name": "Python 3",
   "language": "python",
   "name": "python3"
  },
  "language_info": {
   "codemirror_mode": {
    "name": "ipython",
    "version": 3
   },
   "file_extension": ".py",
   "mimetype": "text/x-python",
   "name": "python",
   "nbconvert_exporter": "python",
   "pygments_lexer": "ipython3",
   "version": "3.7.4"
  }
 },
 "nbformat": 4,
 "nbformat_minor": 2
}
